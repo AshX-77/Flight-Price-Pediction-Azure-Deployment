{
  "cells": [
    {
      "cell_type": "code",
      "execution_count": null,
      "metadata": {
        "collapsed": true,
        "jupyter": {
          "outputs_hidden": true
        },
        "colab": {
          "base_uri": "https://localhost:8080/"
        },
        "id": "TazBHtadlq3r",
        "outputId": "33a67bc7-f095-403e-e810-6d4a5c56f2cd"
      },
      "outputs": [
        {
          "output_type": "stream",
          "name": "stdout",
          "text": [
            "Looking in indexes: https://pypi.org/simple, https://us-python.pkg.dev/colab-wheels/public/simple/\n",
            "Collecting chart_studio\n",
            "  Downloading chart_studio-1.1.0-py3-none-any.whl (64 kB)\n",
            "\u001b[2K     \u001b[90m━━━━━━━━━━━━━━━━━━━━━━━━━━━━━━━━━━━━━━━━\u001b[0m \u001b[32m64.4/64.4 kB\u001b[0m \u001b[31m2.6 MB/s\u001b[0m eta \u001b[36m0:00:00\u001b[0m\n",
            "\u001b[?25hRequirement already satisfied: plotly in /usr/local/lib/python3.10/dist-packages (from chart_studio) (5.13.1)\n",
            "Requirement already satisfied: requests in /usr/local/lib/python3.10/dist-packages (from chart_studio) (2.27.1)\n",
            "Collecting retrying>=1.3.3 (from chart_studio)\n",
            "  Downloading retrying-1.3.4-py3-none-any.whl (11 kB)\n",
            "Requirement already satisfied: six in /usr/local/lib/python3.10/dist-packages (from chart_studio) (1.16.0)\n",
            "Requirement already satisfied: tenacity>=6.2.0 in /usr/local/lib/python3.10/dist-packages (from plotly->chart_studio) (8.2.2)\n",
            "Requirement already satisfied: urllib3<1.27,>=1.21.1 in /usr/local/lib/python3.10/dist-packages (from requests->chart_studio) (1.26.16)\n",
            "Requirement already satisfied: certifi>=2017.4.17 in /usr/local/lib/python3.10/dist-packages (from requests->chart_studio) (2023.5.7)\n",
            "Requirement already satisfied: charset-normalizer~=2.0.0 in /usr/local/lib/python3.10/dist-packages (from requests->chart_studio) (2.0.12)\n",
            "Requirement already satisfied: idna<4,>=2.5 in /usr/local/lib/python3.10/dist-packages (from requests->chart_studio) (3.4)\n",
            "Installing collected packages: retrying, chart_studio\n",
            "Successfully installed chart_studio-1.1.0 retrying-1.3.4\n"
          ]
        }
      ],
      "source": [
        "!pip install chart_studio"
      ]
    },
    {
      "cell_type": "code",
      "execution_count": null,
      "metadata": {
        "collapsed": true,
        "jupyter": {
          "outputs_hidden": true
        },
        "colab": {
          "base_uri": "https://localhost:8080/"
        },
        "id": "ZmcN0znclq3t",
        "outputId": "aa5670cc-67c7-473c-f49e-e839e376523a"
      },
      "outputs": [
        {
          "output_type": "stream",
          "name": "stdout",
          "text": [
            "Looking in indexes: https://pypi.org/simple, https://us-python.pkg.dev/colab-wheels/public/simple/\n",
            "Requirement already satisfied: cufflinks in /usr/local/lib/python3.10/dist-packages (0.17.3)\n",
            "Requirement already satisfied: numpy>=1.9.2 in /usr/local/lib/python3.10/dist-packages (from cufflinks) (1.22.4)\n",
            "Requirement already satisfied: pandas>=0.19.2 in /usr/local/lib/python3.10/dist-packages (from cufflinks) (1.5.3)\n",
            "Requirement already satisfied: plotly>=4.1.1 in /usr/local/lib/python3.10/dist-packages (from cufflinks) (5.13.1)\n",
            "Requirement already satisfied: six>=1.9.0 in /usr/local/lib/python3.10/dist-packages (from cufflinks) (1.16.0)\n",
            "Requirement already satisfied: colorlover>=0.2.1 in /usr/local/lib/python3.10/dist-packages (from cufflinks) (0.3.0)\n",
            "Requirement already satisfied: setuptools>=34.4.1 in /usr/local/lib/python3.10/dist-packages (from cufflinks) (67.7.2)\n",
            "Requirement already satisfied: ipython>=5.3.0 in /usr/local/lib/python3.10/dist-packages (from cufflinks) (7.34.0)\n",
            "Requirement already satisfied: ipywidgets>=7.0.0 in /usr/local/lib/python3.10/dist-packages (from cufflinks) (7.7.1)\n",
            "Collecting jedi>=0.16 (from ipython>=5.3.0->cufflinks)\n",
            "  Downloading jedi-0.18.2-py2.py3-none-any.whl (1.6 MB)\n",
            "\u001b[2K     \u001b[90m━━━━━━━━━━━━━━━━━━━━━━━━━━━━━━━━━━━━━━━━\u001b[0m \u001b[32m1.6/1.6 MB\u001b[0m \u001b[31m18.3 MB/s\u001b[0m eta \u001b[36m0:00:00\u001b[0m\n",
            "\u001b[?25hRequirement already satisfied: decorator in /usr/local/lib/python3.10/dist-packages (from ipython>=5.3.0->cufflinks) (4.4.2)\n",
            "Requirement already satisfied: pickleshare in /usr/local/lib/python3.10/dist-packages (from ipython>=5.3.0->cufflinks) (0.7.5)\n",
            "Requirement already satisfied: traitlets>=4.2 in /usr/local/lib/python3.10/dist-packages (from ipython>=5.3.0->cufflinks) (5.7.1)\n",
            "Requirement already satisfied: prompt-toolkit!=3.0.0,!=3.0.1,<3.1.0,>=2.0.0 in /usr/local/lib/python3.10/dist-packages (from ipython>=5.3.0->cufflinks) (3.0.38)\n",
            "Requirement already satisfied: pygments in /usr/local/lib/python3.10/dist-packages (from ipython>=5.3.0->cufflinks) (2.14.0)\n",
            "Requirement already satisfied: backcall in /usr/local/lib/python3.10/dist-packages (from ipython>=5.3.0->cufflinks) (0.2.0)\n",
            "Requirement already satisfied: matplotlib-inline in /usr/local/lib/python3.10/dist-packages (from ipython>=5.3.0->cufflinks) (0.1.6)\n",
            "Requirement already satisfied: pexpect>4.3 in /usr/local/lib/python3.10/dist-packages (from ipython>=5.3.0->cufflinks) (4.8.0)\n",
            "Requirement already satisfied: ipykernel>=4.5.1 in /usr/local/lib/python3.10/dist-packages (from ipywidgets>=7.0.0->cufflinks) (5.5.6)\n",
            "Requirement already satisfied: ipython-genutils~=0.2.0 in /usr/local/lib/python3.10/dist-packages (from ipywidgets>=7.0.0->cufflinks) (0.2.0)\n",
            "Requirement already satisfied: widgetsnbextension~=3.6.0 in /usr/local/lib/python3.10/dist-packages (from ipywidgets>=7.0.0->cufflinks) (3.6.4)\n",
            "Requirement already satisfied: jupyterlab-widgets>=1.0.0 in /usr/local/lib/python3.10/dist-packages (from ipywidgets>=7.0.0->cufflinks) (3.0.7)\n",
            "Requirement already satisfied: python-dateutil>=2.8.1 in /usr/local/lib/python3.10/dist-packages (from pandas>=0.19.2->cufflinks) (2.8.2)\n",
            "Requirement already satisfied: pytz>=2020.1 in /usr/local/lib/python3.10/dist-packages (from pandas>=0.19.2->cufflinks) (2022.7.1)\n",
            "Requirement already satisfied: tenacity>=6.2.0 in /usr/local/lib/python3.10/dist-packages (from plotly>=4.1.1->cufflinks) (8.2.2)\n",
            "Requirement already satisfied: jupyter-client in /usr/local/lib/python3.10/dist-packages (from ipykernel>=4.5.1->ipywidgets>=7.0.0->cufflinks) (6.1.12)\n",
            "Requirement already satisfied: tornado>=4.2 in /usr/local/lib/python3.10/dist-packages (from ipykernel>=4.5.1->ipywidgets>=7.0.0->cufflinks) (6.3.1)\n",
            "Requirement already satisfied: parso<0.9.0,>=0.8.0 in /usr/local/lib/python3.10/dist-packages (from jedi>=0.16->ipython>=5.3.0->cufflinks) (0.8.3)\n",
            "Requirement already satisfied: ptyprocess>=0.5 in /usr/local/lib/python3.10/dist-packages (from pexpect>4.3->ipython>=5.3.0->cufflinks) (0.7.0)\n",
            "Requirement already satisfied: wcwidth in /usr/local/lib/python3.10/dist-packages (from prompt-toolkit!=3.0.0,!=3.0.1,<3.1.0,>=2.0.0->ipython>=5.3.0->cufflinks) (0.2.6)\n",
            "Requirement already satisfied: notebook>=4.4.1 in /usr/local/lib/python3.10/dist-packages (from widgetsnbextension~=3.6.0->ipywidgets>=7.0.0->cufflinks) (6.4.8)\n",
            "Requirement already satisfied: jinja2 in /usr/local/lib/python3.10/dist-packages (from notebook>=4.4.1->widgetsnbextension~=3.6.0->ipywidgets>=7.0.0->cufflinks) (3.1.2)\n",
            "Requirement already satisfied: pyzmq>=17 in /usr/local/lib/python3.10/dist-packages (from notebook>=4.4.1->widgetsnbextension~=3.6.0->ipywidgets>=7.0.0->cufflinks) (23.2.1)\n",
            "Requirement already satisfied: argon2-cffi in /usr/local/lib/python3.10/dist-packages (from notebook>=4.4.1->widgetsnbextension~=3.6.0->ipywidgets>=7.0.0->cufflinks) (21.3.0)\n",
            "Requirement already satisfied: jupyter-core>=4.6.1 in /usr/local/lib/python3.10/dist-packages (from notebook>=4.4.1->widgetsnbextension~=3.6.0->ipywidgets>=7.0.0->cufflinks) (5.3.1)\n",
            "Requirement already satisfied: nbformat in /usr/local/lib/python3.10/dist-packages (from notebook>=4.4.1->widgetsnbextension~=3.6.0->ipywidgets>=7.0.0->cufflinks) (5.9.0)\n",
            "Requirement already satisfied: nbconvert in /usr/local/lib/python3.10/dist-packages (from notebook>=4.4.1->widgetsnbextension~=3.6.0->ipywidgets>=7.0.0->cufflinks) (6.5.4)\n",
            "Requirement already satisfied: nest-asyncio>=1.5 in /usr/local/lib/python3.10/dist-packages (from notebook>=4.4.1->widgetsnbextension~=3.6.0->ipywidgets>=7.0.0->cufflinks) (1.5.6)\n",
            "Requirement already satisfied: Send2Trash>=1.8.0 in /usr/local/lib/python3.10/dist-packages (from notebook>=4.4.1->widgetsnbextension~=3.6.0->ipywidgets>=7.0.0->cufflinks) (1.8.2)\n",
            "Requirement already satisfied: terminado>=0.8.3 in /usr/local/lib/python3.10/dist-packages (from notebook>=4.4.1->widgetsnbextension~=3.6.0->ipywidgets>=7.0.0->cufflinks) (0.17.1)\n",
            "Requirement already satisfied: prometheus-client in /usr/local/lib/python3.10/dist-packages (from notebook>=4.4.1->widgetsnbextension~=3.6.0->ipywidgets>=7.0.0->cufflinks) (0.17.0)\n",
            "Requirement already satisfied: platformdirs>=2.5 in /usr/local/lib/python3.10/dist-packages (from jupyter-core>=4.6.1->notebook>=4.4.1->widgetsnbextension~=3.6.0->ipywidgets>=7.0.0->cufflinks) (3.7.0)\n",
            "Requirement already satisfied: argon2-cffi-bindings in /usr/local/lib/python3.10/dist-packages (from argon2-cffi->notebook>=4.4.1->widgetsnbextension~=3.6.0->ipywidgets>=7.0.0->cufflinks) (21.2.0)\n",
            "Requirement already satisfied: MarkupSafe>=2.0 in /usr/local/lib/python3.10/dist-packages (from jinja2->notebook>=4.4.1->widgetsnbextension~=3.6.0->ipywidgets>=7.0.0->cufflinks) (2.1.3)\n",
            "Requirement already satisfied: lxml in /usr/local/lib/python3.10/dist-packages (from nbconvert->notebook>=4.4.1->widgetsnbextension~=3.6.0->ipywidgets>=7.0.0->cufflinks) (4.9.2)\n",
            "Requirement already satisfied: beautifulsoup4 in /usr/local/lib/python3.10/dist-packages (from nbconvert->notebook>=4.4.1->widgetsnbextension~=3.6.0->ipywidgets>=7.0.0->cufflinks) (4.11.2)\n",
            "Requirement already satisfied: bleach in /usr/local/lib/python3.10/dist-packages (from nbconvert->notebook>=4.4.1->widgetsnbextension~=3.6.0->ipywidgets>=7.0.0->cufflinks) (6.0.0)\n",
            "Requirement already satisfied: defusedxml in /usr/local/lib/python3.10/dist-packages (from nbconvert->notebook>=4.4.1->widgetsnbextension~=3.6.0->ipywidgets>=7.0.0->cufflinks) (0.7.1)\n",
            "Requirement already satisfied: entrypoints>=0.2.2 in /usr/local/lib/python3.10/dist-packages (from nbconvert->notebook>=4.4.1->widgetsnbextension~=3.6.0->ipywidgets>=7.0.0->cufflinks) (0.4)\n",
            "Requirement already satisfied: jupyterlab-pygments in /usr/local/lib/python3.10/dist-packages (from nbconvert->notebook>=4.4.1->widgetsnbextension~=3.6.0->ipywidgets>=7.0.0->cufflinks) (0.2.2)\n",
            "Requirement already satisfied: mistune<2,>=0.8.1 in /usr/local/lib/python3.10/dist-packages (from nbconvert->notebook>=4.4.1->widgetsnbextension~=3.6.0->ipywidgets>=7.0.0->cufflinks) (0.8.4)\n",
            "Requirement already satisfied: nbclient>=0.5.0 in /usr/local/lib/python3.10/dist-packages (from nbconvert->notebook>=4.4.1->widgetsnbextension~=3.6.0->ipywidgets>=7.0.0->cufflinks) (0.8.0)\n",
            "Requirement already satisfied: packaging in /usr/local/lib/python3.10/dist-packages (from nbconvert->notebook>=4.4.1->widgetsnbextension~=3.6.0->ipywidgets>=7.0.0->cufflinks) (23.1)\n",
            "Requirement already satisfied: pandocfilters>=1.4.1 in /usr/local/lib/python3.10/dist-packages (from nbconvert->notebook>=4.4.1->widgetsnbextension~=3.6.0->ipywidgets>=7.0.0->cufflinks) (1.5.0)\n",
            "Requirement already satisfied: tinycss2 in /usr/local/lib/python3.10/dist-packages (from nbconvert->notebook>=4.4.1->widgetsnbextension~=3.6.0->ipywidgets>=7.0.0->cufflinks) (1.2.1)\n",
            "Requirement already satisfied: fastjsonschema in /usr/local/lib/python3.10/dist-packages (from nbformat->notebook>=4.4.1->widgetsnbextension~=3.6.0->ipywidgets>=7.0.0->cufflinks) (2.17.1)\n",
            "Requirement already satisfied: jsonschema>=2.6 in /usr/local/lib/python3.10/dist-packages (from nbformat->notebook>=4.4.1->widgetsnbextension~=3.6.0->ipywidgets>=7.0.0->cufflinks) (4.3.3)\n",
            "Requirement already satisfied: attrs>=17.4.0 in /usr/local/lib/python3.10/dist-packages (from jsonschema>=2.6->nbformat->notebook>=4.4.1->widgetsnbextension~=3.6.0->ipywidgets>=7.0.0->cufflinks) (23.1.0)\n",
            "Requirement already satisfied: pyrsistent!=0.17.0,!=0.17.1,!=0.17.2,>=0.14.0 in /usr/local/lib/python3.10/dist-packages (from jsonschema>=2.6->nbformat->notebook>=4.4.1->widgetsnbextension~=3.6.0->ipywidgets>=7.0.0->cufflinks) (0.19.3)\n",
            "Requirement already satisfied: cffi>=1.0.1 in /usr/local/lib/python3.10/dist-packages (from argon2-cffi-bindings->argon2-cffi->notebook>=4.4.1->widgetsnbextension~=3.6.0->ipywidgets>=7.0.0->cufflinks) (1.15.1)\n",
            "Requirement already satisfied: soupsieve>1.2 in /usr/local/lib/python3.10/dist-packages (from beautifulsoup4->nbconvert->notebook>=4.4.1->widgetsnbextension~=3.6.0->ipywidgets>=7.0.0->cufflinks) (2.4.1)\n",
            "Requirement already satisfied: webencodings in /usr/local/lib/python3.10/dist-packages (from bleach->nbconvert->notebook>=4.4.1->widgetsnbextension~=3.6.0->ipywidgets>=7.0.0->cufflinks) (0.5.1)\n",
            "Requirement already satisfied: pycparser in /usr/local/lib/python3.10/dist-packages (from cffi>=1.0.1->argon2-cffi-bindings->argon2-cffi->notebook>=4.4.1->widgetsnbextension~=3.6.0->ipywidgets>=7.0.0->cufflinks) (2.21)\n",
            "Installing collected packages: jedi\n",
            "Successfully installed jedi-0.18.2\n"
          ]
        }
      ],
      "source": [
        "!pip install cufflinks"
      ]
    },
    {
      "cell_type": "code",
      "execution_count": null,
      "metadata": {
        "id": "H_hqwfG8lq3t"
      },
      "outputs": [],
      "source": [
        "import numpy as np\n",
        "import pandas as pd\n",
        "import matplotlib.pyplot as plt\n",
        "from chart_studio.plotly import plot,iplot\n",
        "import cufflinks as cf\n",
        "import seaborn as sns\n",
        "\n",
        "\n",
        "%matplotlib inline"
      ]
    },
    {
      "cell_type": "code",
      "source": [
        "from google.colab import drive\n",
        "drive.mount('/content/drive')"
      ],
      "metadata": {
        "colab": {
          "base_uri": "https://localhost:8080/"
        },
        "id": "8r2Xz0pHmP5N",
        "outputId": "3c66f456-4cf4-4558-f8f9-9de83ba50d62"
      },
      "execution_count": null,
      "outputs": [
        {
          "output_type": "stream",
          "name": "stdout",
          "text": [
            "Mounted at /content/drive\n"
          ]
        }
      ]
    },
    {
      "cell_type": "code",
      "execution_count": null,
      "metadata": {
        "id": "5rmaEOlolq3u"
      },
      "outputs": [],
      "source": [
        "df=pd.read_excel(\"/content/drive/MyDrive/Data/Data_Train.xlsx\")"
      ]
    },
    {
      "cell_type": "code",
      "execution_count": null,
      "metadata": {
        "colab": {
          "base_uri": "https://localhost:8080/",
          "height": 206
        },
        "id": "nNqC57EWlq3u",
        "outputId": "9b1074f6-df59-4c83-b46f-4d251756b421"
      },
      "outputs": [
        {
          "output_type": "execute_result",
          "data": {
            "text/plain": [
              "       Airline Date_of_Journey    Source Destination                  Route  \\\n",
              "0       IndiGo      24/03/2019  Banglore   New Delhi              BLR → DEL   \n",
              "1    Air India       1/05/2019   Kolkata    Banglore  CCU → IXR → BBI → BLR   \n",
              "2  Jet Airways       9/06/2019     Delhi      Cochin  DEL → LKO → BOM → COK   \n",
              "3       IndiGo      12/05/2019   Kolkata    Banglore        CCU → NAG → BLR   \n",
              "4       IndiGo      01/03/2019  Banglore   New Delhi        BLR → NAG → DEL   \n",
              "\n",
              "  Dep_Time  Arrival_Time Duration Total_Stops Additional_Info  Price  \n",
              "0    22:20  01:10 22 Mar   2h 50m    non-stop         No info   3897  \n",
              "1    05:50         13:15   7h 25m     2 stops         No info   7662  \n",
              "2    09:25  04:25 10 Jun      19h     2 stops         No info  13882  \n",
              "3    18:05         23:30   5h 25m      1 stop         No info   6218  \n",
              "4    16:50         21:35   4h 45m      1 stop         No info  13302  "
            ],
            "text/html": [
              "\n",
              "  <div id=\"df-fdc2c796-b69a-43c8-b1f4-244a3b98b3c8\">\n",
              "    <div class=\"colab-df-container\">\n",
              "      <div>\n",
              "<style scoped>\n",
              "    .dataframe tbody tr th:only-of-type {\n",
              "        vertical-align: middle;\n",
              "    }\n",
              "\n",
              "    .dataframe tbody tr th {\n",
              "        vertical-align: top;\n",
              "    }\n",
              "\n",
              "    .dataframe thead th {\n",
              "        text-align: right;\n",
              "    }\n",
              "</style>\n",
              "<table border=\"1\" class=\"dataframe\">\n",
              "  <thead>\n",
              "    <tr style=\"text-align: right;\">\n",
              "      <th></th>\n",
              "      <th>Airline</th>\n",
              "      <th>Date_of_Journey</th>\n",
              "      <th>Source</th>\n",
              "      <th>Destination</th>\n",
              "      <th>Route</th>\n",
              "      <th>Dep_Time</th>\n",
              "      <th>Arrival_Time</th>\n",
              "      <th>Duration</th>\n",
              "      <th>Total_Stops</th>\n",
              "      <th>Additional_Info</th>\n",
              "      <th>Price</th>\n",
              "    </tr>\n",
              "  </thead>\n",
              "  <tbody>\n",
              "    <tr>\n",
              "      <th>0</th>\n",
              "      <td>IndiGo</td>\n",
              "      <td>24/03/2019</td>\n",
              "      <td>Banglore</td>\n",
              "      <td>New Delhi</td>\n",
              "      <td>BLR → DEL</td>\n",
              "      <td>22:20</td>\n",
              "      <td>01:10 22 Mar</td>\n",
              "      <td>2h 50m</td>\n",
              "      <td>non-stop</td>\n",
              "      <td>No info</td>\n",
              "      <td>3897</td>\n",
              "    </tr>\n",
              "    <tr>\n",
              "      <th>1</th>\n",
              "      <td>Air India</td>\n",
              "      <td>1/05/2019</td>\n",
              "      <td>Kolkata</td>\n",
              "      <td>Banglore</td>\n",
              "      <td>CCU → IXR → BBI → BLR</td>\n",
              "      <td>05:50</td>\n",
              "      <td>13:15</td>\n",
              "      <td>7h 25m</td>\n",
              "      <td>2 stops</td>\n",
              "      <td>No info</td>\n",
              "      <td>7662</td>\n",
              "    </tr>\n",
              "    <tr>\n",
              "      <th>2</th>\n",
              "      <td>Jet Airways</td>\n",
              "      <td>9/06/2019</td>\n",
              "      <td>Delhi</td>\n",
              "      <td>Cochin</td>\n",
              "      <td>DEL → LKO → BOM → COK</td>\n",
              "      <td>09:25</td>\n",
              "      <td>04:25 10 Jun</td>\n",
              "      <td>19h</td>\n",
              "      <td>2 stops</td>\n",
              "      <td>No info</td>\n",
              "      <td>13882</td>\n",
              "    </tr>\n",
              "    <tr>\n",
              "      <th>3</th>\n",
              "      <td>IndiGo</td>\n",
              "      <td>12/05/2019</td>\n",
              "      <td>Kolkata</td>\n",
              "      <td>Banglore</td>\n",
              "      <td>CCU → NAG → BLR</td>\n",
              "      <td>18:05</td>\n",
              "      <td>23:30</td>\n",
              "      <td>5h 25m</td>\n",
              "      <td>1 stop</td>\n",
              "      <td>No info</td>\n",
              "      <td>6218</td>\n",
              "    </tr>\n",
              "    <tr>\n",
              "      <th>4</th>\n",
              "      <td>IndiGo</td>\n",
              "      <td>01/03/2019</td>\n",
              "      <td>Banglore</td>\n",
              "      <td>New Delhi</td>\n",
              "      <td>BLR → NAG → DEL</td>\n",
              "      <td>16:50</td>\n",
              "      <td>21:35</td>\n",
              "      <td>4h 45m</td>\n",
              "      <td>1 stop</td>\n",
              "      <td>No info</td>\n",
              "      <td>13302</td>\n",
              "    </tr>\n",
              "  </tbody>\n",
              "</table>\n",
              "</div>\n",
              "      <button class=\"colab-df-convert\" onclick=\"convertToInteractive('df-fdc2c796-b69a-43c8-b1f4-244a3b98b3c8')\"\n",
              "              title=\"Convert this dataframe to an interactive table.\"\n",
              "              style=\"display:none;\">\n",
              "        \n",
              "  <svg xmlns=\"http://www.w3.org/2000/svg\" height=\"24px\"viewBox=\"0 0 24 24\"\n",
              "       width=\"24px\">\n",
              "    <path d=\"M0 0h24v24H0V0z\" fill=\"none\"/>\n",
              "    <path d=\"M18.56 5.44l.94 2.06.94-2.06 2.06-.94-2.06-.94-.94-2.06-.94 2.06-2.06.94zm-11 1L8.5 8.5l.94-2.06 2.06-.94-2.06-.94L8.5 2.5l-.94 2.06-2.06.94zm10 10l.94 2.06.94-2.06 2.06-.94-2.06-.94-.94-2.06-.94 2.06-2.06.94z\"/><path d=\"M17.41 7.96l-1.37-1.37c-.4-.4-.92-.59-1.43-.59-.52 0-1.04.2-1.43.59L10.3 9.45l-7.72 7.72c-.78.78-.78 2.05 0 2.83L4 21.41c.39.39.9.59 1.41.59.51 0 1.02-.2 1.41-.59l7.78-7.78 2.81-2.81c.8-.78.8-2.07 0-2.86zM5.41 20L4 18.59l7.72-7.72 1.47 1.35L5.41 20z\"/>\n",
              "  </svg>\n",
              "      </button>\n",
              "      \n",
              "  <style>\n",
              "    .colab-df-container {\n",
              "      display:flex;\n",
              "      flex-wrap:wrap;\n",
              "      gap: 12px;\n",
              "    }\n",
              "\n",
              "    .colab-df-convert {\n",
              "      background-color: #E8F0FE;\n",
              "      border: none;\n",
              "      border-radius: 50%;\n",
              "      cursor: pointer;\n",
              "      display: none;\n",
              "      fill: #1967D2;\n",
              "      height: 32px;\n",
              "      padding: 0 0 0 0;\n",
              "      width: 32px;\n",
              "    }\n",
              "\n",
              "    .colab-df-convert:hover {\n",
              "      background-color: #E2EBFA;\n",
              "      box-shadow: 0px 1px 2px rgba(60, 64, 67, 0.3), 0px 1px 3px 1px rgba(60, 64, 67, 0.15);\n",
              "      fill: #174EA6;\n",
              "    }\n",
              "\n",
              "    [theme=dark] .colab-df-convert {\n",
              "      background-color: #3B4455;\n",
              "      fill: #D2E3FC;\n",
              "    }\n",
              "\n",
              "    [theme=dark] .colab-df-convert:hover {\n",
              "      background-color: #434B5C;\n",
              "      box-shadow: 0px 1px 3px 1px rgba(0, 0, 0, 0.15);\n",
              "      filter: drop-shadow(0px 1px 2px rgba(0, 0, 0, 0.3));\n",
              "      fill: #FFFFFF;\n",
              "    }\n",
              "  </style>\n",
              "\n",
              "      <script>\n",
              "        const buttonEl =\n",
              "          document.querySelector('#df-fdc2c796-b69a-43c8-b1f4-244a3b98b3c8 button.colab-df-convert');\n",
              "        buttonEl.style.display =\n",
              "          google.colab.kernel.accessAllowed ? 'block' : 'none';\n",
              "\n",
              "        async function convertToInteractive(key) {\n",
              "          const element = document.querySelector('#df-fdc2c796-b69a-43c8-b1f4-244a3b98b3c8');\n",
              "          const dataTable =\n",
              "            await google.colab.kernel.invokeFunction('convertToInteractive',\n",
              "                                                     [key], {});\n",
              "          if (!dataTable) return;\n",
              "\n",
              "          const docLinkHtml = 'Like what you see? Visit the ' +\n",
              "            '<a target=\"_blank\" href=https://colab.research.google.com/notebooks/data_table.ipynb>data table notebook</a>'\n",
              "            + ' to learn more about interactive tables.';\n",
              "          element.innerHTML = '';\n",
              "          dataTable['output_type'] = 'display_data';\n",
              "          await google.colab.output.renderOutput(dataTable, element);\n",
              "          const docLink = document.createElement('div');\n",
              "          docLink.innerHTML = docLinkHtml;\n",
              "          element.appendChild(docLink);\n",
              "        }\n",
              "      </script>\n",
              "    </div>\n",
              "  </div>\n",
              "  "
            ]
          },
          "metadata": {},
          "execution_count": 6
        }
      ],
      "source": [
        "df.head()"
      ]
    },
    {
      "cell_type": "markdown",
      "source": [
        "**Exploratory Data Analysis**"
      ],
      "metadata": {
        "id": "B70u76wZtGAS"
      }
    },
    {
      "cell_type": "code",
      "execution_count": null,
      "metadata": {
        "colab": {
          "base_uri": "https://localhost:8080/"
        },
        "id": "X6qBdEhNlq3v",
        "outputId": "f1b6b1e5-2dd9-474e-a10f-d279ab16ffa2"
      },
      "outputs": [
        {
          "output_type": "execute_result",
          "data": {
            "text/plain": [
              "(10683, 11)"
            ]
          },
          "metadata": {},
          "execution_count": 8
        }
      ],
      "source": [
        "df.shape"
      ]
    },
    {
      "cell_type": "code",
      "execution_count": null,
      "metadata": {
        "colab": {
          "base_uri": "https://localhost:8080/"
        },
        "id": "GpEtK2dElq3w",
        "outputId": "fe85f060-8663-4cbb-faa1-58d883cefacb"
      },
      "outputs": [
        {
          "output_type": "execute_result",
          "data": {
            "text/plain": [
              "Airline            object\n",
              "Date_of_Journey    object\n",
              "Source             object\n",
              "Destination        object\n",
              "Route              object\n",
              "Dep_Time           object\n",
              "Arrival_Time       object\n",
              "Duration           object\n",
              "Total_Stops        object\n",
              "Additional_Info    object\n",
              "Price               int64\n",
              "dtype: object"
            ]
          },
          "metadata": {},
          "execution_count": 9
        }
      ],
      "source": [
        "df.dtypes #checking the data types"
      ]
    },
    {
      "cell_type": "code",
      "execution_count": null,
      "metadata": {
        "colab": {
          "base_uri": "https://localhost:8080/"
        },
        "id": "OrHmMEGvlq3w",
        "outputId": "05bdb38b-bb4e-4bd4-b281-1aab47188317"
      },
      "outputs": [
        {
          "output_type": "execute_result",
          "data": {
            "text/plain": [
              "Airline            0\n",
              "Date_of_Journey    0\n",
              "Source             0\n",
              "Destination        0\n",
              "Route              1\n",
              "Dep_Time           0\n",
              "Arrival_Time       0\n",
              "Duration           0\n",
              "Total_Stops        1\n",
              "Additional_Info    0\n",
              "Price              0\n",
              "dtype: int64"
            ]
          },
          "metadata": {},
          "execution_count": 10
        }
      ],
      "source": [
        "df.isna().sum() #Checking null values"
      ]
    },
    {
      "cell_type": "code",
      "execution_count": null,
      "metadata": {
        "colab": {
          "base_uri": "https://localhost:8080/"
        },
        "id": "jdpbaNs0lq3w",
        "outputId": "0a217b07-b36c-413b-bf75-faa97ac992b0"
      },
      "outputs": [
        {
          "output_type": "execute_result",
          "data": {
            "text/plain": [
              "Airline            0\n",
              "Date_of_Journey    0\n",
              "Source             0\n",
              "Destination        0\n",
              "Route              0\n",
              "Dep_Time           0\n",
              "Arrival_Time       0\n",
              "Duration           0\n",
              "Total_Stops        0\n",
              "Additional_Info    0\n",
              "Price              0\n",
              "dtype: int64"
            ]
          },
          "metadata": {},
          "execution_count": 11
        }
      ],
      "source": [
        "#Remove the NaN values from the dataset\n",
        "df.dropna(how='any',inplace=True)\n",
        "df.isnull().sum()"
      ]
    },
    {
      "cell_type": "markdown",
      "metadata": {
        "id": "3FTg21Xslq3w"
      },
      "source": [
        "<br>\n",
        "<br>\n",
        "\n",
        "## **Feature Engineering**"
      ]
    },
    {
      "cell_type": "markdown",
      "metadata": {
        "id": "gnU4n08dlq3x"
      },
      "source": [
        "Let's convert **Date_of_Journey** to its appropriate format as **datetime** with regards to **day** and **month**"
      ]
    },
    {
      "cell_type": "code",
      "execution_count": null,
      "metadata": {
        "colab": {
          "base_uri": "https://localhost:8080/",
          "height": 143
        },
        "id": "EaeQDlg3lq3x",
        "outputId": "538fb6ca-5f47-4fec-f07d-15bbe4c12b46"
      },
      "outputs": [
        {
          "output_type": "execute_result",
          "data": {
            "text/plain": [
              "       Airline Date_of_Journey    Source Destination                  Route  \\\n",
              "0       IndiGo      24/03/2019  Banglore   New Delhi              BLR → DEL   \n",
              "1    Air India       1/05/2019   Kolkata    Banglore  CCU → IXR → BBI → BLR   \n",
              "2  Jet Airways       9/06/2019     Delhi      Cochin  DEL → LKO → BOM → COK   \n",
              "\n",
              "  Dep_Time  Arrival_Time Duration Total_Stops Additional_Info  Price  \n",
              "0    22:20  01:10 22 Mar   2h 50m    non-stop         No info   3897  \n",
              "1    05:50         13:15   7h 25m     2 stops         No info   7662  \n",
              "2    09:25  04:25 10 Jun      19h     2 stops         No info  13882  "
            ],
            "text/html": [
              "\n",
              "  <div id=\"df-bdab0bcf-9d08-4fd7-ac98-374b5c81aef8\">\n",
              "    <div class=\"colab-df-container\">\n",
              "      <div>\n",
              "<style scoped>\n",
              "    .dataframe tbody tr th:only-of-type {\n",
              "        vertical-align: middle;\n",
              "    }\n",
              "\n",
              "    .dataframe tbody tr th {\n",
              "        vertical-align: top;\n",
              "    }\n",
              "\n",
              "    .dataframe thead th {\n",
              "        text-align: right;\n",
              "    }\n",
              "</style>\n",
              "<table border=\"1\" class=\"dataframe\">\n",
              "  <thead>\n",
              "    <tr style=\"text-align: right;\">\n",
              "      <th></th>\n",
              "      <th>Airline</th>\n",
              "      <th>Date_of_Journey</th>\n",
              "      <th>Source</th>\n",
              "      <th>Destination</th>\n",
              "      <th>Route</th>\n",
              "      <th>Dep_Time</th>\n",
              "      <th>Arrival_Time</th>\n",
              "      <th>Duration</th>\n",
              "      <th>Total_Stops</th>\n",
              "      <th>Additional_Info</th>\n",
              "      <th>Price</th>\n",
              "    </tr>\n",
              "  </thead>\n",
              "  <tbody>\n",
              "    <tr>\n",
              "      <th>0</th>\n",
              "      <td>IndiGo</td>\n",
              "      <td>24/03/2019</td>\n",
              "      <td>Banglore</td>\n",
              "      <td>New Delhi</td>\n",
              "      <td>BLR → DEL</td>\n",
              "      <td>22:20</td>\n",
              "      <td>01:10 22 Mar</td>\n",
              "      <td>2h 50m</td>\n",
              "      <td>non-stop</td>\n",
              "      <td>No info</td>\n",
              "      <td>3897</td>\n",
              "    </tr>\n",
              "    <tr>\n",
              "      <th>1</th>\n",
              "      <td>Air India</td>\n",
              "      <td>1/05/2019</td>\n",
              "      <td>Kolkata</td>\n",
              "      <td>Banglore</td>\n",
              "      <td>CCU → IXR → BBI → BLR</td>\n",
              "      <td>05:50</td>\n",
              "      <td>13:15</td>\n",
              "      <td>7h 25m</td>\n",
              "      <td>2 stops</td>\n",
              "      <td>No info</td>\n",
              "      <td>7662</td>\n",
              "    </tr>\n",
              "    <tr>\n",
              "      <th>2</th>\n",
              "      <td>Jet Airways</td>\n",
              "      <td>9/06/2019</td>\n",
              "      <td>Delhi</td>\n",
              "      <td>Cochin</td>\n",
              "      <td>DEL → LKO → BOM → COK</td>\n",
              "      <td>09:25</td>\n",
              "      <td>04:25 10 Jun</td>\n",
              "      <td>19h</td>\n",
              "      <td>2 stops</td>\n",
              "      <td>No info</td>\n",
              "      <td>13882</td>\n",
              "    </tr>\n",
              "  </tbody>\n",
              "</table>\n",
              "</div>\n",
              "      <button class=\"colab-df-convert\" onclick=\"convertToInteractive('df-bdab0bcf-9d08-4fd7-ac98-374b5c81aef8')\"\n",
              "              title=\"Convert this dataframe to an interactive table.\"\n",
              "              style=\"display:none;\">\n",
              "        \n",
              "  <svg xmlns=\"http://www.w3.org/2000/svg\" height=\"24px\"viewBox=\"0 0 24 24\"\n",
              "       width=\"24px\">\n",
              "    <path d=\"M0 0h24v24H0V0z\" fill=\"none\"/>\n",
              "    <path d=\"M18.56 5.44l.94 2.06.94-2.06 2.06-.94-2.06-.94-.94-2.06-.94 2.06-2.06.94zm-11 1L8.5 8.5l.94-2.06 2.06-.94-2.06-.94L8.5 2.5l-.94 2.06-2.06.94zm10 10l.94 2.06.94-2.06 2.06-.94-2.06-.94-.94-2.06-.94 2.06-2.06.94z\"/><path d=\"M17.41 7.96l-1.37-1.37c-.4-.4-.92-.59-1.43-.59-.52 0-1.04.2-1.43.59L10.3 9.45l-7.72 7.72c-.78.78-.78 2.05 0 2.83L4 21.41c.39.39.9.59 1.41.59.51 0 1.02-.2 1.41-.59l7.78-7.78 2.81-2.81c.8-.78.8-2.07 0-2.86zM5.41 20L4 18.59l7.72-7.72 1.47 1.35L5.41 20z\"/>\n",
              "  </svg>\n",
              "      </button>\n",
              "      \n",
              "  <style>\n",
              "    .colab-df-container {\n",
              "      display:flex;\n",
              "      flex-wrap:wrap;\n",
              "      gap: 12px;\n",
              "    }\n",
              "\n",
              "    .colab-df-convert {\n",
              "      background-color: #E8F0FE;\n",
              "      border: none;\n",
              "      border-radius: 50%;\n",
              "      cursor: pointer;\n",
              "      display: none;\n",
              "      fill: #1967D2;\n",
              "      height: 32px;\n",
              "      padding: 0 0 0 0;\n",
              "      width: 32px;\n",
              "    }\n",
              "\n",
              "    .colab-df-convert:hover {\n",
              "      background-color: #E2EBFA;\n",
              "      box-shadow: 0px 1px 2px rgba(60, 64, 67, 0.3), 0px 1px 3px 1px rgba(60, 64, 67, 0.15);\n",
              "      fill: #174EA6;\n",
              "    }\n",
              "\n",
              "    [theme=dark] .colab-df-convert {\n",
              "      background-color: #3B4455;\n",
              "      fill: #D2E3FC;\n",
              "    }\n",
              "\n",
              "    [theme=dark] .colab-df-convert:hover {\n",
              "      background-color: #434B5C;\n",
              "      box-shadow: 0px 1px 3px 1px rgba(0, 0, 0, 0.15);\n",
              "      filter: drop-shadow(0px 1px 2px rgba(0, 0, 0, 0.3));\n",
              "      fill: #FFFFFF;\n",
              "    }\n",
              "  </style>\n",
              "\n",
              "      <script>\n",
              "        const buttonEl =\n",
              "          document.querySelector('#df-bdab0bcf-9d08-4fd7-ac98-374b5c81aef8 button.colab-df-convert');\n",
              "        buttonEl.style.display =\n",
              "          google.colab.kernel.accessAllowed ? 'block' : 'none';\n",
              "\n",
              "        async function convertToInteractive(key) {\n",
              "          const element = document.querySelector('#df-bdab0bcf-9d08-4fd7-ac98-374b5c81aef8');\n",
              "          const dataTable =\n",
              "            await google.colab.kernel.invokeFunction('convertToInteractive',\n",
              "                                                     [key], {});\n",
              "          if (!dataTable) return;\n",
              "\n",
              "          const docLinkHtml = 'Like what you see? Visit the ' +\n",
              "            '<a target=\"_blank\" href=https://colab.research.google.com/notebooks/data_table.ipynb>data table notebook</a>'\n",
              "            + ' to learn more about interactive tables.';\n",
              "          element.innerHTML = '';\n",
              "          dataTable['output_type'] = 'display_data';\n",
              "          await google.colab.output.renderOutput(dataTable, element);\n",
              "          const docLink = document.createElement('div');\n",
              "          docLink.innerHTML = docLinkHtml;\n",
              "          element.appendChild(docLink);\n",
              "        }\n",
              "      </script>\n",
              "    </div>\n",
              "  </div>\n",
              "  "
            ]
          },
          "metadata": {},
          "execution_count": 12
        }
      ],
      "source": [
        "df.head(3)"
      ]
    },
    {
      "cell_type": "markdown",
      "metadata": {
        "id": "ntF9UXfwlq3x"
      },
      "source": [
        "<br>\n",
        "\n",
        "### Date_of_journey"
      ]
    },
    {
      "cell_type": "code",
      "execution_count": null,
      "metadata": {
        "colab": {
          "base_uri": "https://localhost:8080/"
        },
        "id": "crxNiLeglq3x",
        "outputId": "c70bc4af-9ec0-4067-b04f-ff5eeac3f5a4"
      },
      "outputs": [
        {
          "output_type": "stream",
          "name": "stderr",
          "text": [
            "<ipython-input-13-d36ab487f589>:1: UserWarning:\n",
            "\n",
            "Parsing dates in DD/MM/YYYY format when dayfirst=False (the default) was specified. This may lead to inconsistently parsed dates! Specify a format to ensure consistent parsing.\n",
            "\n"
          ]
        }
      ],
      "source": [
        "df['Date_of_Journey']=pd.to_datetime(df['Date_of_Journey'])\n",
        "df['Day_of_Journey']=(df['Date_of_Journey']).dt.day\n",
        "df['Month_of_Journey']=(df['Date_of_Journey']).dt.month"
      ]
    },
    {
      "cell_type": "code",
      "execution_count": null,
      "metadata": {
        "colab": {
          "base_uri": "https://localhost:8080/",
          "height": 222
        },
        "id": "oNrpQb2blq3x",
        "outputId": "623222d8-216f-4a06-c75a-99bee379880c"
      },
      "outputs": [
        {
          "output_type": "execute_result",
          "data": {
            "text/plain": [
              "       Airline Date_of_Journey    Source Destination                  Route  \\\n",
              "0       IndiGo      2019-03-24  Banglore   New Delhi              BLR → DEL   \n",
              "1    Air India      2019-01-05   Kolkata    Banglore  CCU → IXR → BBI → BLR   \n",
              "2  Jet Airways      2019-09-06     Delhi      Cochin  DEL → LKO → BOM → COK   \n",
              "\n",
              "  Dep_Time  Arrival_Time Duration Total_Stops Additional_Info  Price  \\\n",
              "0    22:20  01:10 22 Mar   2h 50m    non-stop         No info   3897   \n",
              "1    05:50         13:15   7h 25m     2 stops         No info   7662   \n",
              "2    09:25  04:25 10 Jun      19h     2 stops         No info  13882   \n",
              "\n",
              "   Day_of_Journey  Month_of_Journey  \n",
              "0              24                 3  \n",
              "1               5                 1  \n",
              "2               6                 9  "
            ],
            "text/html": [
              "\n",
              "  <div id=\"df-7cb497db-cee1-45fd-b4b0-2261fed45093\">\n",
              "    <div class=\"colab-df-container\">\n",
              "      <div>\n",
              "<style scoped>\n",
              "    .dataframe tbody tr th:only-of-type {\n",
              "        vertical-align: middle;\n",
              "    }\n",
              "\n",
              "    .dataframe tbody tr th {\n",
              "        vertical-align: top;\n",
              "    }\n",
              "\n",
              "    .dataframe thead th {\n",
              "        text-align: right;\n",
              "    }\n",
              "</style>\n",
              "<table border=\"1\" class=\"dataframe\">\n",
              "  <thead>\n",
              "    <tr style=\"text-align: right;\">\n",
              "      <th></th>\n",
              "      <th>Airline</th>\n",
              "      <th>Date_of_Journey</th>\n",
              "      <th>Source</th>\n",
              "      <th>Destination</th>\n",
              "      <th>Route</th>\n",
              "      <th>Dep_Time</th>\n",
              "      <th>Arrival_Time</th>\n",
              "      <th>Duration</th>\n",
              "      <th>Total_Stops</th>\n",
              "      <th>Additional_Info</th>\n",
              "      <th>Price</th>\n",
              "      <th>Day_of_Journey</th>\n",
              "      <th>Month_of_Journey</th>\n",
              "    </tr>\n",
              "  </thead>\n",
              "  <tbody>\n",
              "    <tr>\n",
              "      <th>0</th>\n",
              "      <td>IndiGo</td>\n",
              "      <td>2019-03-24</td>\n",
              "      <td>Banglore</td>\n",
              "      <td>New Delhi</td>\n",
              "      <td>BLR → DEL</td>\n",
              "      <td>22:20</td>\n",
              "      <td>01:10 22 Mar</td>\n",
              "      <td>2h 50m</td>\n",
              "      <td>non-stop</td>\n",
              "      <td>No info</td>\n",
              "      <td>3897</td>\n",
              "      <td>24</td>\n",
              "      <td>3</td>\n",
              "    </tr>\n",
              "    <tr>\n",
              "      <th>1</th>\n",
              "      <td>Air India</td>\n",
              "      <td>2019-01-05</td>\n",
              "      <td>Kolkata</td>\n",
              "      <td>Banglore</td>\n",
              "      <td>CCU → IXR → BBI → BLR</td>\n",
              "      <td>05:50</td>\n",
              "      <td>13:15</td>\n",
              "      <td>7h 25m</td>\n",
              "      <td>2 stops</td>\n",
              "      <td>No info</td>\n",
              "      <td>7662</td>\n",
              "      <td>5</td>\n",
              "      <td>1</td>\n",
              "    </tr>\n",
              "    <tr>\n",
              "      <th>2</th>\n",
              "      <td>Jet Airways</td>\n",
              "      <td>2019-09-06</td>\n",
              "      <td>Delhi</td>\n",
              "      <td>Cochin</td>\n",
              "      <td>DEL → LKO → BOM → COK</td>\n",
              "      <td>09:25</td>\n",
              "      <td>04:25 10 Jun</td>\n",
              "      <td>19h</td>\n",
              "      <td>2 stops</td>\n",
              "      <td>No info</td>\n",
              "      <td>13882</td>\n",
              "      <td>6</td>\n",
              "      <td>9</td>\n",
              "    </tr>\n",
              "  </tbody>\n",
              "</table>\n",
              "</div>\n",
              "      <button class=\"colab-df-convert\" onclick=\"convertToInteractive('df-7cb497db-cee1-45fd-b4b0-2261fed45093')\"\n",
              "              title=\"Convert this dataframe to an interactive table.\"\n",
              "              style=\"display:none;\">\n",
              "        \n",
              "  <svg xmlns=\"http://www.w3.org/2000/svg\" height=\"24px\"viewBox=\"0 0 24 24\"\n",
              "       width=\"24px\">\n",
              "    <path d=\"M0 0h24v24H0V0z\" fill=\"none\"/>\n",
              "    <path d=\"M18.56 5.44l.94 2.06.94-2.06 2.06-.94-2.06-.94-.94-2.06-.94 2.06-2.06.94zm-11 1L8.5 8.5l.94-2.06 2.06-.94-2.06-.94L8.5 2.5l-.94 2.06-2.06.94zm10 10l.94 2.06.94-2.06 2.06-.94-2.06-.94-.94-2.06-.94 2.06-2.06.94z\"/><path d=\"M17.41 7.96l-1.37-1.37c-.4-.4-.92-.59-1.43-.59-.52 0-1.04.2-1.43.59L10.3 9.45l-7.72 7.72c-.78.78-.78 2.05 0 2.83L4 21.41c.39.39.9.59 1.41.59.51 0 1.02-.2 1.41-.59l7.78-7.78 2.81-2.81c.8-.78.8-2.07 0-2.86zM5.41 20L4 18.59l7.72-7.72 1.47 1.35L5.41 20z\"/>\n",
              "  </svg>\n",
              "      </button>\n",
              "      \n",
              "  <style>\n",
              "    .colab-df-container {\n",
              "      display:flex;\n",
              "      flex-wrap:wrap;\n",
              "      gap: 12px;\n",
              "    }\n",
              "\n",
              "    .colab-df-convert {\n",
              "      background-color: #E8F0FE;\n",
              "      border: none;\n",
              "      border-radius: 50%;\n",
              "      cursor: pointer;\n",
              "      display: none;\n",
              "      fill: #1967D2;\n",
              "      height: 32px;\n",
              "      padding: 0 0 0 0;\n",
              "      width: 32px;\n",
              "    }\n",
              "\n",
              "    .colab-df-convert:hover {\n",
              "      background-color: #E2EBFA;\n",
              "      box-shadow: 0px 1px 2px rgba(60, 64, 67, 0.3), 0px 1px 3px 1px rgba(60, 64, 67, 0.15);\n",
              "      fill: #174EA6;\n",
              "    }\n",
              "\n",
              "    [theme=dark] .colab-df-convert {\n",
              "      background-color: #3B4455;\n",
              "      fill: #D2E3FC;\n",
              "    }\n",
              "\n",
              "    [theme=dark] .colab-df-convert:hover {\n",
              "      background-color: #434B5C;\n",
              "      box-shadow: 0px 1px 3px 1px rgba(0, 0, 0, 0.15);\n",
              "      filter: drop-shadow(0px 1px 2px rgba(0, 0, 0, 0.3));\n",
              "      fill: #FFFFFF;\n",
              "    }\n",
              "  </style>\n",
              "\n",
              "      <script>\n",
              "        const buttonEl =\n",
              "          document.querySelector('#df-7cb497db-cee1-45fd-b4b0-2261fed45093 button.colab-df-convert');\n",
              "        buttonEl.style.display =\n",
              "          google.colab.kernel.accessAllowed ? 'block' : 'none';\n",
              "\n",
              "        async function convertToInteractive(key) {\n",
              "          const element = document.querySelector('#df-7cb497db-cee1-45fd-b4b0-2261fed45093');\n",
              "          const dataTable =\n",
              "            await google.colab.kernel.invokeFunction('convertToInteractive',\n",
              "                                                     [key], {});\n",
              "          if (!dataTable) return;\n",
              "\n",
              "          const docLinkHtml = 'Like what you see? Visit the ' +\n",
              "            '<a target=\"_blank\" href=https://colab.research.google.com/notebooks/data_table.ipynb>data table notebook</a>'\n",
              "            + ' to learn more about interactive tables.';\n",
              "          element.innerHTML = '';\n",
              "          dataTable['output_type'] = 'display_data';\n",
              "          await google.colab.output.renderOutput(dataTable, element);\n",
              "          const docLink = document.createElement('div');\n",
              "          docLink.innerHTML = docLinkHtml;\n",
              "          element.appendChild(docLink);\n",
              "        }\n",
              "      </script>\n",
              "    </div>\n",
              "  </div>\n",
              "  "
            ]
          },
          "metadata": {},
          "execution_count": 14
        }
      ],
      "source": [
        "df.head(3)"
      ]
    },
    {
      "cell_type": "code",
      "execution_count": null,
      "metadata": {
        "id": "RbO7UPKZlq3y"
      },
      "outputs": [],
      "source": [
        "#we can now drop the Date_of_journey\n",
        "df.drop([\"Date_of_Journey\"],axis=1,inplace=True)"
      ]
    },
    {
      "cell_type": "markdown",
      "metadata": {
        "id": "K5UxaVD-lq3y"
      },
      "source": [
        "\n",
        "## Dep_time"
      ]
    },
    {
      "cell_type": "code",
      "execution_count": null,
      "metadata": {
        "id": "sj6jQYcflq3y"
      },
      "outputs": [],
      "source": [
        "#converting to datetime\n",
        "df['Dep_hr']=pd.to_datetime(df['Dep_Time']).dt.hour\n",
        "df['Dep_min']=pd.to_datetime(df['Dep_Time']).dt.minute"
      ]
    },
    {
      "cell_type": "code",
      "execution_count": null,
      "metadata": {
        "id": "b1fV8v7olq3y"
      },
      "outputs": [],
      "source": [
        "#we can now drop the 'Dep_Time'\n",
        "\n",
        "df.drop([\"Dep_Time\"],axis=1,inplace=True)"
      ]
    },
    {
      "cell_type": "markdown",
      "metadata": {
        "id": "mDXDXZG0lq3y"
      },
      "source": [
        "<br>\n",
        "\n",
        "## Arrival_time"
      ]
    },
    {
      "cell_type": "code",
      "execution_count": null,
      "metadata": {
        "id": "KqSXR9vxlq3y"
      },
      "outputs": [],
      "source": [
        "\n",
        "df['Arrival_hr']=pd.to_datetime(df['Arrival_Time']).dt.hour\n",
        "df['Arrival_min']=pd.to_datetime(df['Arrival_Time']).dt.minute"
      ]
    },
    {
      "cell_type": "code",
      "execution_count": null,
      "metadata": {
        "id": "zL6MpB7qlq3z"
      },
      "outputs": [],
      "source": [
        "#we can now drop the 'Arrival_Time'\n",
        "\n",
        "df.drop([\"Arrival_Time\"],axis=1,inplace=True)"
      ]
    },
    {
      "cell_type": "markdown",
      "metadata": {
        "id": "yJRZc5-flq3z"
      },
      "source": [
        "<br>\n",
        "\n",
        "## Duration Time"
      ]
    },
    {
      "cell_type": "code",
      "execution_count": null,
      "metadata": {
        "id": "C2qK3Jf6lq3z"
      },
      "outputs": [],
      "source": [
        "duration=df['Duration'].str.split(' ',expand=True) #split duration datapoints based on space ' '\n",
        "duration[1].fillna('00m',inplace=True)   #filling all \"NAN\" with '00m'\n",
        "df['duration_hr']=duration[0].apply(lambda x: x[:-1]) #selecting the item at index o and leave the last one (in this case the 'h')\n",
        "df['duration_min']=duration[1].apply(lambda x: x[:-1]) #selecting the item at index 1 and leave the last one (in this case the 'm')"
      ]
    },
    {
      "cell_type": "code",
      "execution_count": null,
      "metadata": {
        "id": "co3laqOclq3z"
      },
      "outputs": [],
      "source": [
        "#we can now drop the 'Duration'\n",
        "\n",
        "df.drop([\"Duration\"],axis=1,inplace=True)"
      ]
    },
    {
      "cell_type": "code",
      "execution_count": null,
      "metadata": {
        "colab": {
          "base_uri": "https://localhost:8080/",
          "height": 450
        },
        "id": "nb0MvIinlq3z",
        "outputId": "3b844dda-89f5-4965-9664-1f1add5f258a"
      },
      "outputs": [
        {
          "output_type": "execute_result",
          "data": {
            "text/plain": [
              "       Airline    Source Destination                  Route Total_Stops  \\\n",
              "0       IndiGo  Banglore   New Delhi              BLR → DEL    non-stop   \n",
              "1    Air India   Kolkata    Banglore  CCU → IXR → BBI → BLR     2 stops   \n",
              "2  Jet Airways     Delhi      Cochin  DEL → LKO → BOM → COK     2 stops   \n",
              "\n",
              "  Additional_Info  Price  Day_of_Journey  Month_of_Journey  Dep_hr  Dep_min  \\\n",
              "0         No info   3897              24                 3      22       20   \n",
              "1         No info   7662               5                 1       5       50   \n",
              "2         No info  13882               6                 9       9       25   \n",
              "\n",
              "   Arrival_hr  Arrival_min duration_hr duration_min  \n",
              "0           1           10           2           50  \n",
              "1          13           15           7           25  \n",
              "2           4           25          19           00  "
            ],
            "text/html": [
              "\n",
              "  <div id=\"df-64d09f18-8146-46de-8d1b-bfe60fb17d51\">\n",
              "    <div class=\"colab-df-container\">\n",
              "      <div>\n",
              "<style scoped>\n",
              "    .dataframe tbody tr th:only-of-type {\n",
              "        vertical-align: middle;\n",
              "    }\n",
              "\n",
              "    .dataframe tbody tr th {\n",
              "        vertical-align: top;\n",
              "    }\n",
              "\n",
              "    .dataframe thead th {\n",
              "        text-align: right;\n",
              "    }\n",
              "</style>\n",
              "<table border=\"1\" class=\"dataframe\">\n",
              "  <thead>\n",
              "    <tr style=\"text-align: right;\">\n",
              "      <th></th>\n",
              "      <th>Airline</th>\n",
              "      <th>Source</th>\n",
              "      <th>Destination</th>\n",
              "      <th>Route</th>\n",
              "      <th>Total_Stops</th>\n",
              "      <th>Additional_Info</th>\n",
              "      <th>Price</th>\n",
              "      <th>Day_of_Journey</th>\n",
              "      <th>Month_of_Journey</th>\n",
              "      <th>Dep_hr</th>\n",
              "      <th>Dep_min</th>\n",
              "      <th>Arrival_hr</th>\n",
              "      <th>Arrival_min</th>\n",
              "      <th>duration_hr</th>\n",
              "      <th>duration_min</th>\n",
              "    </tr>\n",
              "  </thead>\n",
              "  <tbody>\n",
              "    <tr>\n",
              "      <th>0</th>\n",
              "      <td>IndiGo</td>\n",
              "      <td>Banglore</td>\n",
              "      <td>New Delhi</td>\n",
              "      <td>BLR → DEL</td>\n",
              "      <td>non-stop</td>\n",
              "      <td>No info</td>\n",
              "      <td>3897</td>\n",
              "      <td>24</td>\n",
              "      <td>3</td>\n",
              "      <td>22</td>\n",
              "      <td>20</td>\n",
              "      <td>1</td>\n",
              "      <td>10</td>\n",
              "      <td>2</td>\n",
              "      <td>50</td>\n",
              "    </tr>\n",
              "    <tr>\n",
              "      <th>1</th>\n",
              "      <td>Air India</td>\n",
              "      <td>Kolkata</td>\n",
              "      <td>Banglore</td>\n",
              "      <td>CCU → IXR → BBI → BLR</td>\n",
              "      <td>2 stops</td>\n",
              "      <td>No info</td>\n",
              "      <td>7662</td>\n",
              "      <td>5</td>\n",
              "      <td>1</td>\n",
              "      <td>5</td>\n",
              "      <td>50</td>\n",
              "      <td>13</td>\n",
              "      <td>15</td>\n",
              "      <td>7</td>\n",
              "      <td>25</td>\n",
              "    </tr>\n",
              "    <tr>\n",
              "      <th>2</th>\n",
              "      <td>Jet Airways</td>\n",
              "      <td>Delhi</td>\n",
              "      <td>Cochin</td>\n",
              "      <td>DEL → LKO → BOM → COK</td>\n",
              "      <td>2 stops</td>\n",
              "      <td>No info</td>\n",
              "      <td>13882</td>\n",
              "      <td>6</td>\n",
              "      <td>9</td>\n",
              "      <td>9</td>\n",
              "      <td>25</td>\n",
              "      <td>4</td>\n",
              "      <td>25</td>\n",
              "      <td>19</td>\n",
              "      <td>00</td>\n",
              "    </tr>\n",
              "  </tbody>\n",
              "</table>\n",
              "</div>\n",
              "      <button class=\"colab-df-convert\" onclick=\"convertToInteractive('df-64d09f18-8146-46de-8d1b-bfe60fb17d51')\"\n",
              "              title=\"Convert this dataframe to an interactive table.\"\n",
              "              style=\"display:none;\">\n",
              "        \n",
              "  <svg xmlns=\"http://www.w3.org/2000/svg\" height=\"24px\"viewBox=\"0 0 24 24\"\n",
              "       width=\"24px\">\n",
              "    <path d=\"M0 0h24v24H0V0z\" fill=\"none\"/>\n",
              "    <path d=\"M18.56 5.44l.94 2.06.94-2.06 2.06-.94-2.06-.94-.94-2.06-.94 2.06-2.06.94zm-11 1L8.5 8.5l.94-2.06 2.06-.94-2.06-.94L8.5 2.5l-.94 2.06-2.06.94zm10 10l.94 2.06.94-2.06 2.06-.94-2.06-.94-.94-2.06-.94 2.06-2.06.94z\"/><path d=\"M17.41 7.96l-1.37-1.37c-.4-.4-.92-.59-1.43-.59-.52 0-1.04.2-1.43.59L10.3 9.45l-7.72 7.72c-.78.78-.78 2.05 0 2.83L4 21.41c.39.39.9.59 1.41.59.51 0 1.02-.2 1.41-.59l7.78-7.78 2.81-2.81c.8-.78.8-2.07 0-2.86zM5.41 20L4 18.59l7.72-7.72 1.47 1.35L5.41 20z\"/>\n",
              "  </svg>\n",
              "      </button>\n",
              "      \n",
              "  <style>\n",
              "    .colab-df-container {\n",
              "      display:flex;\n",
              "      flex-wrap:wrap;\n",
              "      gap: 12px;\n",
              "    }\n",
              "\n",
              "    .colab-df-convert {\n",
              "      background-color: #E8F0FE;\n",
              "      border: none;\n",
              "      border-radius: 50%;\n",
              "      cursor: pointer;\n",
              "      display: none;\n",
              "      fill: #1967D2;\n",
              "      height: 32px;\n",
              "      padding: 0 0 0 0;\n",
              "      width: 32px;\n",
              "    }\n",
              "\n",
              "    .colab-df-convert:hover {\n",
              "      background-color: #E2EBFA;\n",
              "      box-shadow: 0px 1px 2px rgba(60, 64, 67, 0.3), 0px 1px 3px 1px rgba(60, 64, 67, 0.15);\n",
              "      fill: #174EA6;\n",
              "    }\n",
              "\n",
              "    [theme=dark] .colab-df-convert {\n",
              "      background-color: #3B4455;\n",
              "      fill: #D2E3FC;\n",
              "    }\n",
              "\n",
              "    [theme=dark] .colab-df-convert:hover {\n",
              "      background-color: #434B5C;\n",
              "      box-shadow: 0px 1px 3px 1px rgba(0, 0, 0, 0.15);\n",
              "      filter: drop-shadow(0px 1px 2px rgba(0, 0, 0, 0.3));\n",
              "      fill: #FFFFFF;\n",
              "    }\n",
              "  </style>\n",
              "\n",
              "      <script>\n",
              "        const buttonEl =\n",
              "          document.querySelector('#df-64d09f18-8146-46de-8d1b-bfe60fb17d51 button.colab-df-convert');\n",
              "        buttonEl.style.display =\n",
              "          google.colab.kernel.accessAllowed ? 'block' : 'none';\n",
              "\n",
              "        async function convertToInteractive(key) {\n",
              "          const element = document.querySelector('#df-64d09f18-8146-46de-8d1b-bfe60fb17d51');\n",
              "          const dataTable =\n",
              "            await google.colab.kernel.invokeFunction('convertToInteractive',\n",
              "                                                     [key], {});\n",
              "          if (!dataTable) return;\n",
              "\n",
              "          const docLinkHtml = 'Like what you see? Visit the ' +\n",
              "            '<a target=\"_blank\" href=https://colab.research.google.com/notebooks/data_table.ipynb>data table notebook</a>'\n",
              "            + ' to learn more about interactive tables.';\n",
              "          element.innerHTML = '';\n",
              "          dataTable['output_type'] = 'display_data';\n",
              "          await google.colab.output.renderOutput(dataTable, element);\n",
              "          const docLink = document.createElement('div');\n",
              "          docLink.innerHTML = docLinkHtml;\n",
              "          element.appendChild(docLink);\n",
              "        }\n",
              "      </script>\n",
              "    </div>\n",
              "  </div>\n",
              "  "
            ]
          },
          "metadata": {},
          "execution_count": 22
        }
      ],
      "source": [
        "df.head(3)"
      ]
    },
    {
      "cell_type": "markdown",
      "metadata": {
        "id": "O5hQ5CJnlq3z"
      },
      "source": [
        "<br>"
      ]
    },
    {
      "cell_type": "code",
      "execution_count": null,
      "metadata": {
        "colab": {
          "base_uri": "https://localhost:8080/",
          "height": 17
        },
        "id": "cLxzsS_qlq3z",
        "outputId": "94fd9d57-5837-40ad-d428-e7d381e61502"
      },
      "outputs": [
        {
          "output_type": "display_data",
          "data": {
            "text/html": [
              "        <script type=\"text/javascript\">\n",
              "        window.PlotlyConfig = {MathJaxConfig: 'local'};\n",
              "        if (window.MathJax && window.MathJax.Hub && window.MathJax.Hub.Config) {window.MathJax.Hub.Config({SVG: {font: \"STIX-Web\"}});}\n",
              "        if (typeof require !== 'undefined') {\n",
              "        require.undef(\"plotly\");\n",
              "        requirejs.config({\n",
              "            paths: {\n",
              "                'plotly': ['https://cdn.plot.ly/plotly-2.18.2.min']\n",
              "            }\n",
              "        });\n",
              "        require(['plotly'], function(Plotly) {\n",
              "            window._Plotly = Plotly;\n",
              "        });\n",
              "        }\n",
              "        </script>\n",
              "        "
            ]
          },
          "metadata": {}
        }
      ],
      "source": [
        "cf.set_config_file(theme='ggplot',sharing='public',offline=True)"
      ]
    },
    {
      "cell_type": "markdown",
      "metadata": {
        "id": "_FqKhPKDlq30"
      },
      "source": [
        "## Count of Airlines"
      ]
    },
    {
      "cell_type": "code",
      "execution_count": null,
      "metadata": {
        "colab": {
          "base_uri": "https://localhost:8080/"
        },
        "id": "mSDaEISclq30",
        "outputId": "a8974c6d-ac0d-41ab-8b20-92b70e76e7a8"
      },
      "outputs": [
        {
          "output_type": "execute_result",
          "data": {
            "text/plain": [
              "Jet Airways                          3849\n",
              "IndiGo                               2053\n",
              "Air India                            1751\n",
              "Multiple carriers                    1196\n",
              "SpiceJet                              818\n",
              "Vistara                               479\n",
              "Air Asia                              319\n",
              "GoAir                                 194\n",
              "Multiple carriers Premium economy      13\n",
              "Jet Airways Business                    6\n",
              "Vistara Premium economy                 3\n",
              "Trujet                                  1\n",
              "Name: Airline, dtype: int64"
            ]
          },
          "metadata": {},
          "execution_count": 24
        }
      ],
      "source": [
        "df['Airline'].value_counts()"
      ]
    },
    {
      "cell_type": "markdown",
      "metadata": {
        "id": "N78J2mRVlq30"
      },
      "source": [
        "<br>\n",
        "\n",
        "## Airline vs Price"
      ]
    },
    {
      "cell_type": "code",
      "execution_count": null,
      "metadata": {
        "colab": {
          "base_uri": "https://localhost:8080/",
          "height": 796
        },
        "id": "LgR-STOylq37",
        "outputId": "7c1f76fd-24c6-47e9-bba0-1fa627779b6a"
      },
      "outputs": [
        {
          "output_type": "execute_result",
          "data": {
            "text/plain": [
              "<function matplotlib.pyplot.show(close=None, block=None)>"
            ]
          },
          "metadata": {},
          "execution_count": 26
        },
        {
          "output_type": "display_data",
          "data": {
            "text/plain": [
              "<Figure size 1800x1000 with 1 Axes>"
            ],
            "image/png": "[encoded data removed]"
          },
          "metadata": {}
        }
      ],
      "source": [
        "plt.figure(figsize=(18,10))\n",
        "sns.boxplot(y='Price',x='Airline',data= df.sort_values('Price',ascending=False))\n",
        "plt.show"
      ]
    },
    {
      "cell_type": "markdown",
      "metadata": {
        "id": "TrpOqTSjlq37"
      },
      "source": [
        "<br>\n",
        "\n",
        "## Price based on number of stops"
      ]
    },
    {
      "cell_type": "code",
      "execution_count": null,
      "metadata": {
        "colab": {
          "base_uri": "https://localhost:8080/"
        },
        "id": "7QfeFYL-lq38",
        "outputId": "bdbc98fc-7721-4869-b2e6-8e5e29aa0c82"
      },
      "outputs": [
        {
          "output_type": "execute_result",
          "data": {
            "text/plain": [
              "Airline                            Total_Stops\n",
              "Air Asia                           1 stop          7078.325581\n",
              "                                   2 stops         6341.888889\n",
              "                                   non-stop        4492.331492\n",
              "Air India                          1 stop          9041.509259\n",
              "                                   2 stops        12092.779101\n",
              "                                   3 stops        12208.054054\n",
              "                                   4 stops        17686.000000\n",
              "                                   non-stop        5605.326139\n",
              "GoAir                              1 stop          6884.676471\n",
              "                                   non-stop        4726.173913\n",
              "IndiGo                             1 stop          7104.717528\n",
              "                                   2 stops         7507.526316\n",
              "                                   non-stop        4731.174053\n",
              "Jet Airways                        1 stop         12512.741223\n",
              "                                   2 stops        13387.247467\n",
              "                                   non-stop        6175.078652\n",
              "Jet Airways Business               1 stop         62844.250000\n",
              "                                   2 stops        49387.500000\n",
              "Multiple carriers                  1 stop         10711.316157\n",
              "                                   2 stops        14809.395349\n",
              "                                   3 stops        17292.750000\n",
              "Multiple carriers Premium economy  1 stop         11418.846154\n",
              "SpiceJet                           1 stop          6750.560811\n",
              "                                   non-stop        3805.423881\n",
              "Trujet                             1 stop          4140.000000\n",
              "Vistara                            1 stop          9641.148837\n",
              "                                   non-stop        6293.954545\n",
              "Vistara Premium economy            non-stop        8962.333333\n",
              "Name: Price, dtype: float64"
            ]
          },
          "metadata": {},
          "execution_count": 27
        }
      ],
      "source": [
        "df.groupby(['Airline','Total_Stops'])['Price'].mean()"
      ]
    },
    {
      "cell_type": "code",
      "execution_count": null,
      "metadata": {
        "colab": {
          "base_uri": "https://localhost:8080/",
          "height": 991
        },
        "id": "t8azhAOclq38",
        "outputId": "ea651973-253a-410c-97c9-25d6807ea05b"
      },
      "outputs": [
        {
          "output_type": "display_data",
          "data": {
            "text/plain": [
              "<Figure size 1800x1000 with 1 Axes>"
            ],
            "image/png": "[encoded data removed]"
          },
          "metadata": {}
        }
      ],
      "source": [
        "plt.figure(figsize=(18,10))\n",
        "ax=sns.barplot(x=df['Airline'],y=df['Price'],hue=df['Total_Stops'],palette=\"Set1\")\n",
        "ax.set_xticklabels(ax.get_xticklabels(),rotation=90)\n",
        "plt.show()"
      ]
    },
    {
      "cell_type": "markdown",
      "metadata": {
        "id": "_FqT4U8zlq38"
      },
      "source": [
        "**One stop and two stpos Jet Airways Business is having the highest price**\n",
        "\n",
        "<br>"
      ]
    },
    {
      "cell_type": "code",
      "execution_count": null,
      "metadata": {
        "colab": {
          "base_uri": "https://localhost:8080/"
        },
        "id": "BV2y84iflq38",
        "outputId": "1a11b25c-7d29-49a4-f7e8-b7c10a0fc9b3"
      },
      "outputs": [
        {
          "output_type": "execute_result",
          "data": {
            "text/plain": [
              "Delhi       4536\n",
              "Kolkata     2871\n",
              "Banglore    2197\n",
              "Mumbai       697\n",
              "Chennai      381\n",
              "Name: Source, dtype: int64"
            ]
          },
          "metadata": {},
          "execution_count": 29
        }
      ],
      "source": [
        "df['Source'].value_counts()"
      ]
    },
    {
      "cell_type": "markdown",
      "metadata": {
        "id": "zdWI79Yulq39"
      },
      "source": [
        "<br>\n",
        "\n",
        "## Source vs Price"
      ]
    },
    {
      "cell_type": "code",
      "execution_count": null,
      "metadata": {
        "colab": {
          "base_uri": "https://localhost:8080/",
          "height": 867
        },
        "id": "jKi8sh9Olq39",
        "outputId": "088e885a-435c-47c0-a9a5-0acde4039f32"
      },
      "outputs": [
        {
          "output_type": "execute_result",
          "data": {
            "text/plain": [
              "<function matplotlib.pyplot.show(close=None, block=None)>"
            ]
          },
          "metadata": {},
          "execution_count": 30
        },
        {
          "output_type": "display_data",
          "data": {
            "text/plain": [
              "<Figure size 1500x1000 with 1 Axes>"
            ],
            "image/png": "[encoded data removed]"
          },
          "metadata": {}
        }
      ],
      "source": [
        "plt.figure(figsize=(15,10))\n",
        "sns.barplot(y='Price',x='Source',data=df.sort_values('Price',ascending=False))\n",
        "plt.show"
      ]
    },
    {
      "cell_type": "markdown",
      "metadata": {
        "id": "nTVypDyplq39"
      },
      "source": [
        "<br>\n",
        "\n",
        "## Destination vs Price"
      ]
    },
    {
      "cell_type": "code",
      "execution_count": null,
      "metadata": {
        "colab": {
          "base_uri": "https://localhost:8080/",
          "height": 867
        },
        "id": "zlsKUdYdlq39",
        "outputId": "0cd0fc8c-6b99-4a75-c039-b90ef317b914"
      },
      "outputs": [
        {
          "output_type": "execute_result",
          "data": {
            "text/plain": [
              "<function matplotlib.pyplot.show(close=None, block=None)>"
            ]
          },
          "metadata": {},
          "execution_count": 31
        },
        {
          "output_type": "display_data",
          "data": {
            "text/plain": [
              "<Figure size 1500x1000 with 1 Axes>"
            ],
            "image/png": "[encoded data removed]"
          },
          "metadata": {}
        }
      ],
      "source": [
        "plt.figure(figsize=(15,10))\n",
        "sns.barplot(y='Price',x='Destination',data=df.sort_values('Price',ascending=False))\n",
        "plt.show"
      ]
    },
    {
      "cell_type": "code",
      "execution_count": null,
      "metadata": {
        "colab": {
          "base_uri": "https://localhost:8080/"
        },
        "id": "LAhSChr9lq39",
        "outputId": "51f9bda4-961b-4a37-a568-afb9701af11b"
      },
      "outputs": [
        {
          "output_type": "execute_result",
          "data": {
            "text/plain": [
              "Cochin       4536\n",
              "Banglore     2871\n",
              "Delhi        1265\n",
              "New Delhi     932\n",
              "Hyderabad     697\n",
              "Kolkata       381\n",
              "Name: Destination, dtype: int64"
            ]
          },
          "metadata": {},
          "execution_count": 32
        }
      ],
      "source": [
        "df['Destination'].value_counts()"
      ]
    },
    {
      "cell_type": "code",
      "execution_count": null,
      "metadata": {
        "id": "aodWXjNWlq3-"
      },
      "outputs": [],
      "source": [
        "for i in df:\n",
        "    df.replace('New Delhi','Delhi',inplace=True)"
      ]
    },
    {
      "cell_type": "code",
      "execution_count": null,
      "metadata": {
        "colab": {
          "base_uri": "https://localhost:8080/"
        },
        "id": "ZfmJms5Nlq3-",
        "outputId": "7ba0661b-c60f-418d-f720-cdc75bc56f30"
      },
      "outputs": [
        {
          "output_type": "execute_result",
          "data": {
            "text/plain": [
              "array(['Delhi', 'Banglore', 'Cochin', 'Kolkata', 'Hyderabad'],\n",
              "      dtype=object)"
            ]
          },
          "metadata": {},
          "execution_count": 34
        }
      ],
      "source": [
        "df['Destination'].unique()"
      ]
    },
    {
      "cell_type": "code",
      "execution_count": null,
      "metadata": {
        "colab": {
          "base_uri": "https://localhost:8080/",
          "height": 867
        },
        "id": "KudPg3BClq3-",
        "outputId": "95aece38-5045-46e1-cc42-dfd20e324d6a"
      },
      "outputs": [
        {
          "output_type": "execute_result",
          "data": {
            "text/plain": [
              "<function matplotlib.pyplot.show(close=None, block=None)>"
            ]
          },
          "metadata": {},
          "execution_count": 35
        },
        {
          "output_type": "display_data",
          "data": {
            "text/plain": [
              "<Figure size 1500x1000 with 1 Axes>"
            ],
            "image/png": "[encoded data removed]"
          },
          "metadata": {}
        }
      ],
      "source": [
        "plt.figure(figsize=(15,10))\n",
        "sns.barplot(y='Price',x='Destination',data=df.sort_values('Price',ascending=False))\n",
        "plt.show"
      ]
    },
    {
      "cell_type": "code",
      "execution_count": null,
      "metadata": {
        "colab": {
          "base_uri": "https://localhost:8080/"
        },
        "id": "FaEfixUSlq3-",
        "outputId": "d7ae99c1-bb12-48aa-e4fe-4d1fc09e5019"
      },
      "outputs": [
        {
          "output_type": "execute_result",
          "data": {
            "text/plain": [
              "Cochin       4536\n",
              "Banglore     2871\n",
              "Delhi        2197\n",
              "Hyderabad     697\n",
              "Kolkata       381\n",
              "Name: Destination, dtype: int64"
            ]
          },
          "metadata": {},
          "execution_count": 36
        }
      ],
      "source": [
        "df['Destination'].value_counts()"
      ]
    },
    {
      "cell_type": "code",
      "execution_count": null,
      "metadata": {
        "colab": {
          "base_uri": "https://localhost:8080/",
          "height": 927
        },
        "id": "7TTemsB_lq3_",
        "outputId": "f3b318fd-3be8-4669-bb61-304c94815558"
      },
      "outputs": [
        {
          "output_type": "stream",
          "name": "stderr",
          "text": [
            "<ipython-input-37-a838df0490d4>:2: FutureWarning:\n",
            "\n",
            "The default value of numeric_only in DataFrame.corr is deprecated. In a future version, it will default to False. Select only valid columns or specify the value of numeric_only to silence this warning.\n",
            "\n"
          ]
        },
        {
          "output_type": "execute_result",
          "data": {
            "text/plain": [
              "<Axes: >"
            ]
          },
          "metadata": {},
          "execution_count": 37
        },
        {
          "output_type": "display_data",
          "data": {
            "text/plain": [
              "<Figure size 2300x1200 with 2 Axes>"
            ],
            "image/png": "[encoded data removed]"
          },
          "metadata": {}
        }
      ],
      "source": [
        "plt.figure(figsize=(23,12))\n",
        "sns.heatmap(df.corr(),annot=True)"
      ]
    },
    {
      "cell_type": "markdown",
      "metadata": {
        "id": "QdQrtsfzlq3_"
      },
      "source": [
        "The features are less correlated which is a good thing for us to avoid **Multicollinearity**"
      ]
    },
    {
      "cell_type": "markdown",
      "metadata": {
        "id": "JX-RzMlrlq3_"
      },
      "source": [
        "<br>\n",
        "<br>\n",
        "\n",
        "## Apply Onehot Encoding on the categorical variables"
      ]
    },
    {
      "cell_type": "code",
      "execution_count": null,
      "metadata": {
        "id": "bXHdfulYlq4A"
      },
      "outputs": [],
      "source": [
        "#Handling Categorical Values\n",
        "df['Total_Stops']=df['Total_Stops'].map({'non-stop':0, '2 stops':2, '1 stop':1, '3 stops':3, '4 stops':4})\n",
        "air_dummy=pd.get_dummies(df['Airline'],drop_first=True)\n",
        "# print(df['Source'].value_counts())\n",
        "# print(df['Destination'].value_counts())\n",
        "\n",
        "source_dest_dummy=pd.get_dummies(df[['Source','Destination']],drop_first=True)\n",
        "df=pd.concat([air_dummy,source_dest_dummy,df],axis=1)"
      ]
    },
    {
      "cell_type": "code",
      "execution_count": null,
      "metadata": {
        "id": "xYG5kV9Mlq4A"
      },
      "outputs": [],
      "source": [
        "df.drop(['Airline','Source','Destination'],inplace=True,axis=1)"
      ]
    },
    {
      "cell_type": "code",
      "execution_count": null,
      "metadata": {
        "colab": {
          "base_uri": "https://localhost:8080/",
          "height": 351
        },
        "id": "hLbag6HHlq4A",
        "outputId": "b4b671b3-f6c7-40c5-a43a-08f9c6e838ae"
      },
      "outputs": [
        {
          "output_type": "execute_result",
          "data": {
            "text/plain": [
              "   Air India  GoAir  IndiGo  Jet Airways  Jet Airways Business  \\\n",
              "0          0      0       1            0                     0   \n",
              "1          1      0       0            0                     0   \n",
              "2          0      0       0            1                     0   \n",
              "3          0      0       1            0                     0   \n",
              "4          0      0       1            0                     0   \n",
              "\n",
              "   Multiple carriers  Multiple carriers Premium economy  SpiceJet  Trujet  \\\n",
              "0                  0                                  0         0       0   \n",
              "1                  0                                  0         0       0   \n",
              "2                  0                                  0         0       0   \n",
              "3                  0                                  0         0       0   \n",
              "4                  0                                  0         0       0   \n",
              "\n",
              "   Vistara  ...  Additional_Info  Price  Day_of_Journey  Month_of_Journey  \\\n",
              "0        0  ...          No info   3897              24                 3   \n",
              "1        0  ...          No info   7662               5                 1   \n",
              "2        0  ...          No info  13882               6                 9   \n",
              "3        0  ...          No info   6218               5                12   \n",
              "4        0  ...          No info  13302               3                 1   \n",
              "\n",
              "   Dep_hr  Dep_min  Arrival_hr  Arrival_min  duration_hr duration_min  \n",
              "0      22       20           1           10            2           50  \n",
              "1       5       50          13           15            7           25  \n",
              "2       9       25           4           25           19           00  \n",
              "3      18        5          23           30            5           25  \n",
              "4      16       50          21           35            4           45  \n",
              "\n",
              "[5 rows x 31 columns]"
            ],
            "text/html": [
              "\n",
              "  <div id=\"df-51bce157-dd3f-4d38-875e-2a711d0627ec\">\n",
              "    <div class=\"colab-df-container\">\n",
              "      <div>\n",
              "<style scoped>\n",
              "    .dataframe tbody tr th:only-of-type {\n",
              "        vertical-align: middle;\n",
              "    }\n",
              "\n",
              "    .dataframe tbody tr th {\n",
              "        vertical-align: top;\n",
              "    }\n",
              "\n",
              "    .dataframe thead th {\n",
              "        text-align: right;\n",
              "    }\n",
              "</style>\n",
              "<table border=\"1\" class=\"dataframe\">\n",
              "  <thead>\n",
              "    <tr style=\"text-align: right;\">\n",
              "      <th></th>\n",
              "      <th>Air India</th>\n",
              "      <th>GoAir</th>\n",
              "      <th>IndiGo</th>\n",
              "      <th>Jet Airways</th>\n",
              "      <th>Jet Airways Business</th>\n",
              "      <th>Multiple carriers</th>\n",
              "      <th>Multiple carriers Premium economy</th>\n",
              "      <th>SpiceJet</th>\n",
              "      <th>Trujet</th>\n",
              "      <th>Vistara</th>\n",
              "      <th>...</th>\n",
              "      <th>Additional_Info</th>\n",
              "      <th>Price</th>\n",
              "      <th>Day_of_Journey</th>\n",
              "      <th>Month_of_Journey</th>\n",
              "      <th>Dep_hr</th>\n",
              "      <th>Dep_min</th>\n",
              "      <th>Arrival_hr</th>\n",
              "      <th>Arrival_min</th>\n",
              "      <th>duration_hr</th>\n",
              "      <th>duration_min</th>\n",
              "    </tr>\n",
              "  </thead>\n",
              "  <tbody>\n",
              "    <tr>\n",
              "      <th>0</th>\n",
              "      <td>0</td>\n",
              "      <td>0</td>\n",
              "      <td>1</td>\n",
              "      <td>0</td>\n",
              "      <td>0</td>\n",
              "      <td>0</td>\n",
              "      <td>0</td>\n",
              "      <td>0</td>\n",
              "      <td>0</td>\n",
              "      <td>0</td>\n",
              "      <td>...</td>\n",
              "      <td>No info</td>\n",
              "      <td>3897</td>\n",
              "      <td>24</td>\n",
              "      <td>3</td>\n",
              "      <td>22</td>\n",
              "      <td>20</td>\n",
              "      <td>1</td>\n",
              "      <td>10</td>\n",
              "      <td>2</td>\n",
              "      <td>50</td>\n",
              "    </tr>\n",
              "    <tr>\n",
              "      <th>1</th>\n",
              "      <td>1</td>\n",
              "      <td>0</td>\n",
              "      <td>0</td>\n",
              "      <td>0</td>\n",
              "      <td>0</td>\n",
              "      <td>0</td>\n",
              "      <td>0</td>\n",
              "      <td>0</td>\n",
              "      <td>0</td>\n",
              "      <td>0</td>\n",
              "      <td>...</td>\n",
              "      <td>No info</td>\n",
              "      <td>7662</td>\n",
              "      <td>5</td>\n",
              "      <td>1</td>\n",
              "      <td>5</td>\n",
              "      <td>50</td>\n",
              "      <td>13</td>\n",
              "      <td>15</td>\n",
              "      <td>7</td>\n",
              "      <td>25</td>\n",
              "    </tr>\n",
              "    <tr>\n",
              "      <th>2</th>\n",
              "      <td>0</td>\n",
              "      <td>0</td>\n",
              "      <td>0</td>\n",
              "      <td>1</td>\n",
              "      <td>0</td>\n",
              "      <td>0</td>\n",
              "      <td>0</td>\n",
              "      <td>0</td>\n",
              "      <td>0</td>\n",
              "      <td>0</td>\n",
              "      <td>...</td>\n",
              "      <td>No info</td>\n",
              "      <td>13882</td>\n",
              "      <td>6</td>\n",
              "      <td>9</td>\n",
              "      <td>9</td>\n",
              "      <td>25</td>\n",
              "      <td>4</td>\n",
              "      <td>25</td>\n",
              "      <td>19</td>\n",
              "      <td>00</td>\n",
              "    </tr>\n",
              "    <tr>\n",
              "      <th>3</th>\n",
              "      <td>0</td>\n",
              "      <td>0</td>\n",
              "      <td>1</td>\n",
              "      <td>0</td>\n",
              "      <td>0</td>\n",
              "      <td>0</td>\n",
              "      <td>0</td>\n",
              "      <td>0</td>\n",
              "      <td>0</td>\n",
              "      <td>0</td>\n",
              "      <td>...</td>\n",
              "      <td>No info</td>\n",
              "      <td>6218</td>\n",
              "      <td>5</td>\n",
              "      <td>12</td>\n",
              "      <td>18</td>\n",
              "      <td>5</td>\n",
              "      <td>23</td>\n",
              "      <td>30</td>\n",
              "      <td>5</td>\n",
              "      <td>25</td>\n",
              "    </tr>\n",
              "    <tr>\n",
              "      <th>4</th>\n",
              "      <td>0</td>\n",
              "      <td>0</td>\n",
              "      <td>1</td>\n",
              "      <td>0</td>\n",
              "      <td>0</td>\n",
              "      <td>0</td>\n",
              "      <td>0</td>\n",
              "      <td>0</td>\n",
              "      <td>0</td>\n",
              "      <td>0</td>\n",
              "      <td>...</td>\n",
              "      <td>No info</td>\n",
              "      <td>13302</td>\n",
              "      <td>3</td>\n",
              "      <td>1</td>\n",
              "      <td>16</td>\n",
              "      <td>50</td>\n",
              "      <td>21</td>\n",
              "      <td>35</td>\n",
              "      <td>4</td>\n",
              "      <td>45</td>\n",
              "    </tr>\n",
              "  </tbody>\n",
              "</table>\n",
              "<p>5 rows × 31 columns</p>\n",
              "</div>\n",
              "      <button class=\"colab-df-convert\" onclick=\"convertToInteractive('df-51bce157-dd3f-4d38-875e-2a711d0627ec')\"\n",
              "              title=\"Convert this dataframe to an interactive table.\"\n",
              "              style=\"display:none;\">\n",
              "        \n",
              "  <svg xmlns=\"http://www.w3.org/2000/svg\" height=\"24px\"viewBox=\"0 0 24 24\"\n",
              "       width=\"24px\">\n",
              "    <path d=\"M0 0h24v24H0V0z\" fill=\"none\"/>\n",
              "    <path d=\"M18.56 5.44l.94 2.06.94-2.06 2.06-.94-2.06-.94-.94-2.06-.94 2.06-2.06.94zm-11 1L8.5 8.5l.94-2.06 2.06-.94-2.06-.94L8.5 2.5l-.94 2.06-2.06.94zm10 10l.94 2.06.94-2.06 2.06-.94-2.06-.94-.94-2.06-.94 2.06-2.06.94z\"/><path d=\"M17.41 7.96l-1.37-1.37c-.4-.4-.92-.59-1.43-.59-.52 0-1.04.2-1.43.59L10.3 9.45l-7.72 7.72c-.78.78-.78 2.05 0 2.83L4 21.41c.39.39.9.59 1.41.59.51 0 1.02-.2 1.41-.59l7.78-7.78 2.81-2.81c.8-.78.8-2.07 0-2.86zM5.41 20L4 18.59l7.72-7.72 1.47 1.35L5.41 20z\"/>\n",
              "  </svg>\n",
              "      </button>\n",
              "      \n",
              "  <style>\n",
              "    .colab-df-container {\n",
              "      display:flex;\n",
              "      flex-wrap:wrap;\n",
              "      gap: 12px;\n",
              "    }\n",
              "\n",
              "    .colab-df-convert {\n",
              "      background-color: #E8F0FE;\n",
              "      border: none;\n",
              "      border-radius: 50%;\n",
              "      cursor: pointer;\n",
              "      display: none;\n",
              "      fill: #1967D2;\n",
              "      height: 32px;\n",
              "      padding: 0 0 0 0;\n",
              "      width: 32px;\n",
              "    }\n",
              "\n",
              "    .colab-df-convert:hover {\n",
              "      background-color: #E2EBFA;\n",
              "      box-shadow: 0px 1px 2px rgba(60, 64, 67, 0.3), 0px 1px 3px 1px rgba(60, 64, 67, 0.15);\n",
              "      fill: #174EA6;\n",
              "    }\n",
              "\n",
              "    [theme=dark] .colab-df-convert {\n",
              "      background-color: #3B4455;\n",
              "      fill: #D2E3FC;\n",
              "    }\n",
              "\n",
              "    [theme=dark] .colab-df-convert:hover {\n",
              "      background-color: #434B5C;\n",
              "      box-shadow: 0px 1px 3px 1px rgba(0, 0, 0, 0.15);\n",
              "      filter: drop-shadow(0px 1px 2px rgba(0, 0, 0, 0.3));\n",
              "      fill: #FFFFFF;\n",
              "    }\n",
              "  </style>\n",
              "\n",
              "      <script>\n",
              "        const buttonEl =\n",
              "          document.querySelector('#df-51bce157-dd3f-4d38-875e-2a711d0627ec button.colab-df-convert');\n",
              "        buttonEl.style.display =\n",
              "          google.colab.kernel.accessAllowed ? 'block' : 'none';\n",
              "\n",
              "        async function convertToInteractive(key) {\n",
              "          const element = document.querySelector('#df-51bce157-dd3f-4d38-875e-2a711d0627ec');\n",
              "          const dataTable =\n",
              "            await google.colab.kernel.invokeFunction('convertToInteractive',\n",
              "                                                     [key], {});\n",
              "          if (!dataTable) return;\n",
              "\n",
              "          const docLinkHtml = 'Like what you see? Visit the ' +\n",
              "            '<a target=\"_blank\" href=https://colab.research.google.com/notebooks/data_table.ipynb>data table notebook</a>'\n",
              "            + ' to learn more about interactive tables.';\n",
              "          element.innerHTML = '';\n",
              "          dataTable['output_type'] = 'display_data';\n",
              "          await google.colab.output.renderOutput(dataTable, element);\n",
              "          const docLink = document.createElement('div');\n",
              "          docLink.innerHTML = docLinkHtml;\n",
              "          element.appendChild(docLink);\n",
              "        }\n",
              "      </script>\n",
              "    </div>\n",
              "  </div>\n",
              "  "
            ]
          },
          "metadata": {},
          "execution_count": 40
        }
      ],
      "source": [
        "df.head()"
      ]
    },
    {
      "cell_type": "code",
      "execution_count": null,
      "metadata": {
        "colab": {
          "base_uri": "https://localhost:8080/"
        },
        "id": "Hb7vecr1lq4B",
        "outputId": "fd6fe0a8-23f3-4e15-e639-06a63bfb1010"
      },
      "outputs": [
        {
          "output_type": "execute_result",
          "data": {
            "text/plain": [
              "(10682, 31)"
            ]
          },
          "metadata": {},
          "execution_count": 41
        }
      ],
      "source": [
        "df.shape"
      ]
    },
    {
      "cell_type": "markdown",
      "metadata": {
        "id": "h6IDoZ2klq4B"
      },
      "source": [
        "<br>\n",
        "<br>\n",
        "<br>\n",
        "<br>"
      ]
    },
    {
      "cell_type": "markdown",
      "metadata": {
        "id": "cJPZzfg8lq4B"
      },
      "source": [
        "# **Test Data**"
      ]
    },
    {
      "cell_type": "code",
      "execution_count": null,
      "metadata": {
        "id": "sOwktXK-lq4B"
      },
      "outputs": [],
      "source": [
        "df_test=pd.read_excel(\"/content/drive/MyDrive/Data/Test_set.xlsx\")"
      ]
    },
    {
      "cell_type": "code",
      "execution_count": null,
      "metadata": {
        "colab": {
          "base_uri": "https://localhost:8080/",
          "height": 206
        },
        "id": "8dGOuDlwlq4B",
        "outputId": "56095797-c62d-47eb-b8dc-48db657f440f"
      },
      "outputs": [
        {
          "output_type": "execute_result",
          "data": {
            "text/plain": [
              "             Airline Date_of_Journey    Source Destination            Route  \\\n",
              "0        Jet Airways       6/06/2019     Delhi      Cochin  DEL → BOM → COK   \n",
              "1             IndiGo      12/05/2019   Kolkata    Banglore  CCU → MAA → BLR   \n",
              "2        Jet Airways      21/05/2019     Delhi      Cochin  DEL → BOM → COK   \n",
              "3  Multiple carriers      21/05/2019     Delhi      Cochin  DEL → BOM → COK   \n",
              "4           Air Asia      24/06/2019  Banglore       Delhi        BLR → DEL   \n",
              "\n",
              "  Dep_Time  Arrival_Time Duration Total_Stops              Additional_Info  \n",
              "0    17:30  04:25 07 Jun  10h 55m      1 stop                      No info  \n",
              "1    06:20         10:20       4h      1 stop                      No info  \n",
              "2    19:15  19:00 22 May  23h 45m      1 stop  In-flight meal not included  \n",
              "3    08:00         21:00      13h      1 stop                      No info  \n",
              "4    23:55  02:45 25 Jun   2h 50m    non-stop                      No info  "
            ],
            "text/html": [
              "\n",
              "  <div id=\"df-98df5431-4838-4d6b-8b0e-b88321269e1a\">\n",
              "    <div class=\"colab-df-container\">\n",
              "      <div>\n",
              "<style scoped>\n",
              "    .dataframe tbody tr th:only-of-type {\n",
              "        vertical-align: middle;\n",
              "    }\n",
              "\n",
              "    .dataframe tbody tr th {\n",
              "        vertical-align: top;\n",
              "    }\n",
              "\n",
              "    .dataframe thead th {\n",
              "        text-align: right;\n",
              "    }\n",
              "</style>\n",
              "<table border=\"1\" class=\"dataframe\">\n",
              "  <thead>\n",
              "    <tr style=\"text-align: right;\">\n",
              "      <th></th>\n",
              "      <th>Airline</th>\n",
              "      <th>Date_of_Journey</th>\n",
              "      <th>Source</th>\n",
              "      <th>Destination</th>\n",
              "      <th>Route</th>\n",
              "      <th>Dep_Time</th>\n",
              "      <th>Arrival_Time</th>\n",
              "      <th>Duration</th>\n",
              "      <th>Total_Stops</th>\n",
              "      <th>Additional_Info</th>\n",
              "    </tr>\n",
              "  </thead>\n",
              "  <tbody>\n",
              "    <tr>\n",
              "      <th>0</th>\n",
              "      <td>Jet Airways</td>\n",
              "      <td>6/06/2019</td>\n",
              "      <td>Delhi</td>\n",
              "      <td>Cochin</td>\n",
              "      <td>DEL → BOM → COK</td>\n",
              "      <td>17:30</td>\n",
              "      <td>04:25 07 Jun</td>\n",
              "      <td>10h 55m</td>\n",
              "      <td>1 stop</td>\n",
              "      <td>No info</td>\n",
              "    </tr>\n",
              "    <tr>\n",
              "      <th>1</th>\n",
              "      <td>IndiGo</td>\n",
              "      <td>12/05/2019</td>\n",
              "      <td>Kolkata</td>\n",
              "      <td>Banglore</td>\n",
              "      <td>CCU → MAA → BLR</td>\n",
              "      <td>06:20</td>\n",
              "      <td>10:20</td>\n",
              "      <td>4h</td>\n",
              "      <td>1 stop</td>\n",
              "      <td>No info</td>\n",
              "    </tr>\n",
              "    <tr>\n",
              "      <th>2</th>\n",
              "      <td>Jet Airways</td>\n",
              "      <td>21/05/2019</td>\n",
              "      <td>Delhi</td>\n",
              "      <td>Cochin</td>\n",
              "      <td>DEL → BOM → COK</td>\n",
              "      <td>19:15</td>\n",
              "      <td>19:00 22 May</td>\n",
              "      <td>23h 45m</td>\n",
              "      <td>1 stop</td>\n",
              "      <td>In-flight meal not included</td>\n",
              "    </tr>\n",
              "    <tr>\n",
              "      <th>3</th>\n",
              "      <td>Multiple carriers</td>\n",
              "      <td>21/05/2019</td>\n",
              "      <td>Delhi</td>\n",
              "      <td>Cochin</td>\n",
              "      <td>DEL → BOM → COK</td>\n",
              "      <td>08:00</td>\n",
              "      <td>21:00</td>\n",
              "      <td>13h</td>\n",
              "      <td>1 stop</td>\n",
              "      <td>No info</td>\n",
              "    </tr>\n",
              "    <tr>\n",
              "      <th>4</th>\n",
              "      <td>Air Asia</td>\n",
              "      <td>24/06/2019</td>\n",
              "      <td>Banglore</td>\n",
              "      <td>Delhi</td>\n",
              "      <td>BLR → DEL</td>\n",
              "      <td>23:55</td>\n",
              "      <td>02:45 25 Jun</td>\n",
              "      <td>2h 50m</td>\n",
              "      <td>non-stop</td>\n",
              "      <td>No info</td>\n",
              "    </tr>\n",
              "  </tbody>\n",
              "</table>\n",
              "</div>\n",
              "      <button class=\"colab-df-convert\" onclick=\"convertToInteractive('df-98df5431-4838-4d6b-8b0e-b88321269e1a')\"\n",
              "              title=\"Convert this dataframe to an interactive table.\"\n",
              "              style=\"display:none;\">\n",
              "        \n",
              "  <svg xmlns=\"http://www.w3.org/2000/svg\" height=\"24px\"viewBox=\"0 0 24 24\"\n",
              "       width=\"24px\">\n",
              "    <path d=\"M0 0h24v24H0V0z\" fill=\"none\"/>\n",
              "    <path d=\"M18.56 5.44l.94 2.06.94-2.06 2.06-.94-2.06-.94-.94-2.06-.94 2.06-2.06.94zm-11 1L8.5 8.5l.94-2.06 2.06-.94-2.06-.94L8.5 2.5l-.94 2.06-2.06.94zm10 10l.94 2.06.94-2.06 2.06-.94-2.06-.94-.94-2.06-.94 2.06-2.06.94z\"/><path d=\"M17.41 7.96l-1.37-1.37c-.4-.4-.92-.59-1.43-.59-.52 0-1.04.2-1.43.59L10.3 9.45l-7.72 7.72c-.78.78-.78 2.05 0 2.83L4 21.41c.39.39.9.59 1.41.59.51 0 1.02-.2 1.41-.59l7.78-7.78 2.81-2.81c.8-.78.8-2.07 0-2.86zM5.41 20L4 18.59l7.72-7.72 1.47 1.35L5.41 20z\"/>\n",
              "  </svg>\n",
              "      </button>\n",
              "      \n",
              "  <style>\n",
              "    .colab-df-container {\n",
              "      display:flex;\n",
              "      flex-wrap:wrap;\n",
              "      gap: 12px;\n",
              "    }\n",
              "\n",
              "    .colab-df-convert {\n",
              "      background-color: #E8F0FE;\n",
              "      border: none;\n",
              "      border-radius: 50%;\n",
              "      cursor: pointer;\n",
              "      display: none;\n",
              "      fill: #1967D2;\n",
              "      height: 32px;\n",
              "      padding: 0 0 0 0;\n",
              "      width: 32px;\n",
              "    }\n",
              "\n",
              "    .colab-df-convert:hover {\n",
              "      background-color: #E2EBFA;\n",
              "      box-shadow: 0px 1px 2px rgba(60, 64, 67, 0.3), 0px 1px 3px 1px rgba(60, 64, 67, 0.15);\n",
              "      fill: #174EA6;\n",
              "    }\n",
              "\n",
              "    [theme=dark] .colab-df-convert {\n",
              "      background-color: #3B4455;\n",
              "      fill: #D2E3FC;\n",
              "    }\n",
              "\n",
              "    [theme=dark] .colab-df-convert:hover {\n",
              "      background-color: #434B5C;\n",
              "      box-shadow: 0px 1px 3px 1px rgba(0, 0, 0, 0.15);\n",
              "      filter: drop-shadow(0px 1px 2px rgba(0, 0, 0, 0.3));\n",
              "      fill: #FFFFFF;\n",
              "    }\n",
              "  </style>\n",
              "\n",
              "      <script>\n",
              "        const buttonEl =\n",
              "          document.querySelector('#df-98df5431-4838-4d6b-8b0e-b88321269e1a button.colab-df-convert');\n",
              "        buttonEl.style.display =\n",
              "          google.colab.kernel.accessAllowed ? 'block' : 'none';\n",
              "\n",
              "        async function convertToInteractive(key) {\n",
              "          const element = document.querySelector('#df-98df5431-4838-4d6b-8b0e-b88321269e1a');\n",
              "          const dataTable =\n",
              "            await google.colab.kernel.invokeFunction('convertToInteractive',\n",
              "                                                     [key], {});\n",
              "          if (!dataTable) return;\n",
              "\n",
              "          const docLinkHtml = 'Like what you see? Visit the ' +\n",
              "            '<a target=\"_blank\" href=https://colab.research.google.com/notebooks/data_table.ipynb>data table notebook</a>'\n",
              "            + ' to learn more about interactive tables.';\n",
              "          element.innerHTML = '';\n",
              "          dataTable['output_type'] = 'display_data';\n",
              "          await google.colab.output.renderOutput(dataTable, element);\n",
              "          const docLink = document.createElement('div');\n",
              "          docLink.innerHTML = docLinkHtml;\n",
              "          element.appendChild(docLink);\n",
              "        }\n",
              "      </script>\n",
              "    </div>\n",
              "  </div>\n",
              "  "
            ]
          },
          "metadata": {},
          "execution_count": 43
        }
      ],
      "source": [
        "df_test.head()"
      ]
    },
    {
      "cell_type": "markdown",
      "metadata": {
        "id": "uEXjyuN0lq4C"
      },
      "source": [
        "<br>\n",
        "\n",
        "### Let's Perform that same steps as we did for train data earlier"
      ]
    },
    {
      "cell_type": "code",
      "execution_count": null,
      "metadata": {
        "colab": {
          "base_uri": "https://localhost:8080/"
        },
        "id": "68hRlgAPlq4C",
        "outputId": "97f25fab-82e5-484a-b1a6-93d8e45600e0"
      },
      "outputs": [
        {
          "output_type": "stream",
          "name": "stderr",
          "text": [
            "<ipython-input-44-e72f9dfd0802>:1: UserWarning:\n",
            "\n",
            "Parsing dates in DD/MM/YYYY format when dayfirst=False (the default) was specified. This may lead to inconsistently parsed dates! Specify a format to ensure consistent parsing.\n",
            "\n"
          ]
        }
      ],
      "source": [
        "df_test['Date_of_Journey']=pd.to_datetime(df_test['Date_of_Journey'])\n",
        "df_test['Day_of_Journey']=(df_test['Date_of_Journey']).dt.day\n",
        "df_test['Month_of_Journey']=(df_test['Date_of_Journey']).dt.month\n",
        "\n",
        "#Dep_time\n",
        "df_test['Dep_hr']=pd.to_datetime(df_test['Dep_Time']).dt.hour\n",
        "df_test['Dep_min']=pd.to_datetime(df_test['Dep_Time']).dt.minute\n",
        "\n",
        "#Arrival_time\n",
        "df_test['Arrival_hr']=pd.to_datetime(df_test['Arrival_Time']).dt.hour\n",
        "df_test['Arrival_min']=pd.to_datetime(df_test['Arrival_Time']).dt.minute\n",
        "\n",
        "#Splitting duration  time\n",
        "\n",
        "a=df_test['Duration'].str.split(' ',expand=True)\n",
        "a[1].fillna('00m',inplace=True)\n",
        "df_test['dur_hr']=a[0].apply(lambda x: x[:-1])\n",
        "df_test['dur_min']=a[1].apply(lambda x: x[:-1])\n",
        "\n",
        "#dropping the data\n",
        "df_test.drop(['Date_of_Journey','Duration','Arrival_Time','Dep_Time'],inplace=True,axis=1)\n",
        "\n",
        "#Handling Categorical Values\n",
        "df_test['Total_Stops']=df_test['Total_Stops'].map({'non-stop':0, '2 stops':2, '1 stop':1, '3 stops':3, '4 stops':4})\n",
        "\n",
        "air_dummy=pd.get_dummies(df_test['Airline'],drop_first=True)\n",
        "source_dest_dummy=pd.get_dummies(df_test[['Source','Destination']],drop_first=True)\n",
        "df_test=pd.concat([air_dummy,source_dest_dummy,df_test],axis=1)\n"
      ]
    },
    {
      "cell_type": "code",
      "execution_count": null,
      "metadata": {
        "id": "-K9MVM-0lq4C"
      },
      "outputs": [],
      "source": [
        "df_test.drop(['Airline','Source','Destination','Additional_Info',\"Route\"],inplace=True,axis=1)"
      ]
    },
    {
      "cell_type": "code",
      "execution_count": null,
      "metadata": {
        "colab": {
          "base_uri": "https://localhost:8080/"
        },
        "id": "fJ8vEzxYlq4C",
        "outputId": "00156ca9-c6dd-47cb-cb93-13455178c76e"
      },
      "outputs": [
        {
          "output_type": "stream",
          "name": "stdout",
          "text": [
            "train_shape (10682, 31)\n",
            "test_shape (2671, 28)\n"
          ]
        }
      ],
      "source": [
        "print('train_shape',df.shape)\n",
        "print('test_shape',df_test.shape)"
      ]
    },
    {
      "cell_type": "code",
      "execution_count": null,
      "metadata": {
        "colab": {
          "base_uri": "https://localhost:8080/",
          "height": 351
        },
        "id": "W9qUwW6Klq4C",
        "outputId": "b4931bb1-91a3-461d-ccb2-787fc4de7393"
      },
      "outputs": [
        {
          "output_type": "execute_result",
          "data": {
            "text/plain": [
              "   Air India  GoAir  IndiGo  Jet Airways  Jet Airways Business  \\\n",
              "0          0      0       1            0                     0   \n",
              "1          1      0       0            0                     0   \n",
              "2          0      0       0            1                     0   \n",
              "3          0      0       1            0                     0   \n",
              "4          0      0       1            0                     0   \n",
              "\n",
              "   Multiple carriers  Multiple carriers Premium economy  SpiceJet  Trujet  \\\n",
              "0                  0                                  0         0       0   \n",
              "1                  0                                  0         0       0   \n",
              "2                  0                                  0         0       0   \n",
              "3                  0                                  0         0       0   \n",
              "4                  0                                  0         0       0   \n",
              "\n",
              "   Vistara  ...  Additional_Info  Price  Day_of_Journey  Month_of_Journey  \\\n",
              "0        0  ...          No info   3897              24                 3   \n",
              "1        0  ...          No info   7662               5                 1   \n",
              "2        0  ...          No info  13882               6                 9   \n",
              "3        0  ...          No info   6218               5                12   \n",
              "4        0  ...          No info  13302               3                 1   \n",
              "\n",
              "   Dep_hr  Dep_min  Arrival_hr  Arrival_min  duration_hr duration_min  \n",
              "0      22       20           1           10            2           50  \n",
              "1       5       50          13           15            7           25  \n",
              "2       9       25           4           25           19           00  \n",
              "3      18        5          23           30            5           25  \n",
              "4      16       50          21           35            4           45  \n",
              "\n",
              "[5 rows x 31 columns]"
            ],
            "text/html": [
              "\n",
              "  <div id=\"df-161506f4-5f94-4e0a-b2d9-4472201c3b18\">\n",
              "    <div class=\"colab-df-container\">\n",
              "      <div>\n",
              "<style scoped>\n",
              "    .dataframe tbody tr th:only-of-type {\n",
              "        vertical-align: middle;\n",
              "    }\n",
              "\n",
              "    .dataframe tbody tr th {\n",
              "        vertical-align: top;\n",
              "    }\n",
              "\n",
              "    .dataframe thead th {\n",
              "        text-align: right;\n",
              "    }\n",
              "</style>\n",
              "<table border=\"1\" class=\"dataframe\">\n",
              "  <thead>\n",
              "    <tr style=\"text-align: right;\">\n",
              "      <th></th>\n",
              "      <th>Air India</th>\n",
              "      <th>GoAir</th>\n",
              "      <th>IndiGo</th>\n",
              "      <th>Jet Airways</th>\n",
              "      <th>Jet Airways Business</th>\n",
              "      <th>Multiple carriers</th>\n",
              "      <th>Multiple carriers Premium economy</th>\n",
              "      <th>SpiceJet</th>\n",
              "      <th>Trujet</th>\n",
              "      <th>Vistara</th>\n",
              "      <th>...</th>\n",
              "      <th>Additional_Info</th>\n",
              "      <th>Price</th>\n",
              "      <th>Day_of_Journey</th>\n",
              "      <th>Month_of_Journey</th>\n",
              "      <th>Dep_hr</th>\n",
              "      <th>Dep_min</th>\n",
              "      <th>Arrival_hr</th>\n",
              "      <th>Arrival_min</th>\n",
              "      <th>duration_hr</th>\n",
              "      <th>duration_min</th>\n",
              "    </tr>\n",
              "  </thead>\n",
              "  <tbody>\n",
              "    <tr>\n",
              "      <th>0</th>\n",
              "      <td>0</td>\n",
              "      <td>0</td>\n",
              "      <td>1</td>\n",
              "      <td>0</td>\n",
              "      <td>0</td>\n",
              "      <td>0</td>\n",
              "      <td>0</td>\n",
              "      <td>0</td>\n",
              "      <td>0</td>\n",
              "      <td>0</td>\n",
              "      <td>...</td>\n",
              "      <td>No info</td>\n",
              "      <td>3897</td>\n",
              "      <td>24</td>\n",
              "      <td>3</td>\n",
              "      <td>22</td>\n",
              "      <td>20</td>\n",
              "      <td>1</td>\n",
              "      <td>10</td>\n",
              "      <td>2</td>\n",
              "      <td>50</td>\n",
              "    </tr>\n",
              "    <tr>\n",
              "      <th>1</th>\n",
              "      <td>1</td>\n",
              "      <td>0</td>\n",
              "      <td>0</td>\n",
              "      <td>0</td>\n",
              "      <td>0</td>\n",
              "      <td>0</td>\n",
              "      <td>0</td>\n",
              "      <td>0</td>\n",
              "      <td>0</td>\n",
              "      <td>0</td>\n",
              "      <td>...</td>\n",
              "      <td>No info</td>\n",
              "      <td>7662</td>\n",
              "      <td>5</td>\n",
              "      <td>1</td>\n",
              "      <td>5</td>\n",
              "      <td>50</td>\n",
              "      <td>13</td>\n",
              "      <td>15</td>\n",
              "      <td>7</td>\n",
              "      <td>25</td>\n",
              "    </tr>\n",
              "    <tr>\n",
              "      <th>2</th>\n",
              "      <td>0</td>\n",
              "      <td>0</td>\n",
              "      <td>0</td>\n",
              "      <td>1</td>\n",
              "      <td>0</td>\n",
              "      <td>0</td>\n",
              "      <td>0</td>\n",
              "      <td>0</td>\n",
              "      <td>0</td>\n",
              "      <td>0</td>\n",
              "      <td>...</td>\n",
              "      <td>No info</td>\n",
              "      <td>13882</td>\n",
              "      <td>6</td>\n",
              "      <td>9</td>\n",
              "      <td>9</td>\n",
              "      <td>25</td>\n",
              "      <td>4</td>\n",
              "      <td>25</td>\n",
              "      <td>19</td>\n",
              "      <td>00</td>\n",
              "    </tr>\n",
              "    <tr>\n",
              "      <th>3</th>\n",
              "      <td>0</td>\n",
              "      <td>0</td>\n",
              "      <td>1</td>\n",
              "      <td>0</td>\n",
              "      <td>0</td>\n",
              "      <td>0</td>\n",
              "      <td>0</td>\n",
              "      <td>0</td>\n",
              "      <td>0</td>\n",
              "      <td>0</td>\n",
              "      <td>...</td>\n",
              "      <td>No info</td>\n",
              "      <td>6218</td>\n",
              "      <td>5</td>\n",
              "      <td>12</td>\n",
              "      <td>18</td>\n",
              "      <td>5</td>\n",
              "      <td>23</td>\n",
              "      <td>30</td>\n",
              "      <td>5</td>\n",
              "      <td>25</td>\n",
              "    </tr>\n",
              "    <tr>\n",
              "      <th>4</th>\n",
              "      <td>0</td>\n",
              "      <td>0</td>\n",
              "      <td>1</td>\n",
              "      <td>0</td>\n",
              "      <td>0</td>\n",
              "      <td>0</td>\n",
              "      <td>0</td>\n",
              "      <td>0</td>\n",
              "      <td>0</td>\n",
              "      <td>0</td>\n",
              "      <td>...</td>\n",
              "      <td>No info</td>\n",
              "      <td>13302</td>\n",
              "      <td>3</td>\n",
              "      <td>1</td>\n",
              "      <td>16</td>\n",
              "      <td>50</td>\n",
              "      <td>21</td>\n",
              "      <td>35</td>\n",
              "      <td>4</td>\n",
              "      <td>45</td>\n",
              "    </tr>\n",
              "  </tbody>\n",
              "</table>\n",
              "<p>5 rows × 31 columns</p>\n",
              "</div>\n",
              "      <button class=\"colab-df-convert\" onclick=\"convertToInteractive('df-161506f4-5f94-4e0a-b2d9-4472201c3b18')\"\n",
              "              title=\"Convert this dataframe to an interactive table.\"\n",
              "              style=\"display:none;\">\n",
              "        \n",
              "  <svg xmlns=\"http://www.w3.org/2000/svg\" height=\"24px\"viewBox=\"0 0 24 24\"\n",
              "       width=\"24px\">\n",
              "    <path d=\"M0 0h24v24H0V0z\" fill=\"none\"/>\n",
              "    <path d=\"M18.56 5.44l.94 2.06.94-2.06 2.06-.94-2.06-.94-.94-2.06-.94 2.06-2.06.94zm-11 1L8.5 8.5l.94-2.06 2.06-.94-2.06-.94L8.5 2.5l-.94 2.06-2.06.94zm10 10l.94 2.06.94-2.06 2.06-.94-2.06-.94-.94-2.06-.94 2.06-2.06.94z\"/><path d=\"M17.41 7.96l-1.37-1.37c-.4-.4-.92-.59-1.43-.59-.52 0-1.04.2-1.43.59L10.3 9.45l-7.72 7.72c-.78.78-.78 2.05 0 2.83L4 21.41c.39.39.9.59 1.41.59.51 0 1.02-.2 1.41-.59l7.78-7.78 2.81-2.81c.8-.78.8-2.07 0-2.86zM5.41 20L4 18.59l7.72-7.72 1.47 1.35L5.41 20z\"/>\n",
              "  </svg>\n",
              "      </button>\n",
              "      \n",
              "  <style>\n",
              "    .colab-df-container {\n",
              "      display:flex;\n",
              "      flex-wrap:wrap;\n",
              "      gap: 12px;\n",
              "    }\n",
              "\n",
              "    .colab-df-convert {\n",
              "      background-color: #E8F0FE;\n",
              "      border: none;\n",
              "      border-radius: 50%;\n",
              "      cursor: pointer;\n",
              "      display: none;\n",
              "      fill: #1967D2;\n",
              "      height: 32px;\n",
              "      padding: 0 0 0 0;\n",
              "      width: 32px;\n",
              "    }\n",
              "\n",
              "    .colab-df-convert:hover {\n",
              "      background-color: #E2EBFA;\n",
              "      box-shadow: 0px 1px 2px rgba(60, 64, 67, 0.3), 0px 1px 3px 1px rgba(60, 64, 67, 0.15);\n",
              "      fill: #174EA6;\n",
              "    }\n",
              "\n",
              "    [theme=dark] .colab-df-convert {\n",
              "      background-color: #3B4455;\n",
              "      fill: #D2E3FC;\n",
              "    }\n",
              "\n",
              "    [theme=dark] .colab-df-convert:hover {\n",
              "      background-color: #434B5C;\n",
              "      box-shadow: 0px 1px 3px 1px rgba(0, 0, 0, 0.15);\n",
              "      filter: drop-shadow(0px 1px 2px rgba(0, 0, 0, 0.3));\n",
              "      fill: #FFFFFF;\n",
              "    }\n",
              "  </style>\n",
              "\n",
              "      <script>\n",
              "        const buttonEl =\n",
              "          document.querySelector('#df-161506f4-5f94-4e0a-b2d9-4472201c3b18 button.colab-df-convert');\n",
              "        buttonEl.style.display =\n",
              "          google.colab.kernel.accessAllowed ? 'block' : 'none';\n",
              "\n",
              "        async function convertToInteractive(key) {\n",
              "          const element = document.querySelector('#df-161506f4-5f94-4e0a-b2d9-4472201c3b18');\n",
              "          const dataTable =\n",
              "            await google.colab.kernel.invokeFunction('convertToInteractive',\n",
              "                                                     [key], {});\n",
              "          if (!dataTable) return;\n",
              "\n",
              "          const docLinkHtml = 'Like what you see? Visit the ' +\n",
              "            '<a target=\"_blank\" href=https://colab.research.google.com/notebooks/data_table.ipynb>data table notebook</a>'\n",
              "            + ' to learn more about interactive tables.';\n",
              "          element.innerHTML = '';\n",
              "          dataTable['output_type'] = 'display_data';\n",
              "          await google.colab.output.renderOutput(dataTable, element);\n",
              "          const docLink = document.createElement('div');\n",
              "          docLink.innerHTML = docLinkHtml;\n",
              "          element.appendChild(docLink);\n",
              "        }\n",
              "      </script>\n",
              "    </div>\n",
              "  </div>\n",
              "  "
            ]
          },
          "metadata": {},
          "execution_count": 47
        }
      ],
      "source": [
        "df.head()"
      ]
    },
    {
      "cell_type": "code",
      "execution_count": null,
      "metadata": {
        "id": "Xy7zR4Pylq4D"
      },
      "outputs": [],
      "source": [
        "x=df.drop(['Route', 'Price','Additional_Info'],axis=1)\n",
        "y=df['Price']"
      ]
    },
    {
      "cell_type": "code",
      "execution_count": null,
      "metadata": {
        "colab": {
          "base_uri": "https://localhost:8080/",
          "height": 289
        },
        "id": "aQe-q1xLlq4D",
        "outputId": "799f2ab2-0681-4193-926e-778207ce141c"
      },
      "outputs": [
        {
          "output_type": "execute_result",
          "data": {
            "text/plain": [
              "   Air India  GoAir  IndiGo  Jet Airways  Jet Airways Business  \\\n",
              "0          0      0       1            0                     0   \n",
              "1          1      0       0            0                     0   \n",
              "2          0      0       0            1                     0   \n",
              "\n",
              "   Multiple carriers  Multiple carriers Premium economy  SpiceJet  Trujet  \\\n",
              "0                  0                                  0         0       0   \n",
              "1                  0                                  0         0       0   \n",
              "2                  0                                  0         0       0   \n",
              "\n",
              "   Vistara  ...  Destination_Kolkata  Total_Stops  Day_of_Journey  \\\n",
              "0        0  ...                    0            0              24   \n",
              "1        0  ...                    0            2               5   \n",
              "2        0  ...                    0            2               6   \n",
              "\n",
              "   Month_of_Journey  Dep_hr  Dep_min  Arrival_hr  Arrival_min  duration_hr  \\\n",
              "0                 3      22       20           1           10            2   \n",
              "1                 1       5       50          13           15            7   \n",
              "2                 9       9       25           4           25           19   \n",
              "\n",
              "   duration_min  \n",
              "0            50  \n",
              "1            25  \n",
              "2            00  \n",
              "\n",
              "[3 rows x 28 columns]"
            ],
            "text/html": [
              "\n",
              "  <div id=\"df-625bcca5-d194-4bc3-9ad4-62fd0b2dc9a0\">\n",
              "    <div class=\"colab-df-container\">\n",
              "      <div>\n",
              "<style scoped>\n",
              "    .dataframe tbody tr th:only-of-type {\n",
              "        vertical-align: middle;\n",
              "    }\n",
              "\n",
              "    .dataframe tbody tr th {\n",
              "        vertical-align: top;\n",
              "    }\n",
              "\n",
              "    .dataframe thead th {\n",
              "        text-align: right;\n",
              "    }\n",
              "</style>\n",
              "<table border=\"1\" class=\"dataframe\">\n",
              "  <thead>\n",
              "    <tr style=\"text-align: right;\">\n",
              "      <th></th>\n",
              "      <th>Air India</th>\n",
              "      <th>GoAir</th>\n",
              "      <th>IndiGo</th>\n",
              "      <th>Jet Airways</th>\n",
              "      <th>Jet Airways Business</th>\n",
              "      <th>Multiple carriers</th>\n",
              "      <th>Multiple carriers Premium economy</th>\n",
              "      <th>SpiceJet</th>\n",
              "      <th>Trujet</th>\n",
              "      <th>Vistara</th>\n",
              "      <th>...</th>\n",
              "      <th>Destination_Kolkata</th>\n",
              "      <th>Total_Stops</th>\n",
              "      <th>Day_of_Journey</th>\n",
              "      <th>Month_of_Journey</th>\n",
              "      <th>Dep_hr</th>\n",
              "      <th>Dep_min</th>\n",
              "      <th>Arrival_hr</th>\n",
              "      <th>Arrival_min</th>\n",
              "      <th>duration_hr</th>\n",
              "      <th>duration_min</th>\n",
              "    </tr>\n",
              "  </thead>\n",
              "  <tbody>\n",
              "    <tr>\n",
              "      <th>0</th>\n",
              "      <td>0</td>\n",
              "      <td>0</td>\n",
              "      <td>1</td>\n",
              "      <td>0</td>\n",
              "      <td>0</td>\n",
              "      <td>0</td>\n",
              "      <td>0</td>\n",
              "      <td>0</td>\n",
              "      <td>0</td>\n",
              "      <td>0</td>\n",
              "      <td>...</td>\n",
              "      <td>0</td>\n",
              "      <td>0</td>\n",
              "      <td>24</td>\n",
              "      <td>3</td>\n",
              "      <td>22</td>\n",
              "      <td>20</td>\n",
              "      <td>1</td>\n",
              "      <td>10</td>\n",
              "      <td>2</td>\n",
              "      <td>50</td>\n",
              "    </tr>\n",
              "    <tr>\n",
              "      <th>1</th>\n",
              "      <td>1</td>\n",
              "      <td>0</td>\n",
              "      <td>0</td>\n",
              "      <td>0</td>\n",
              "      <td>0</td>\n",
              "      <td>0</td>\n",
              "      <td>0</td>\n",
              "      <td>0</td>\n",
              "      <td>0</td>\n",
              "      <td>0</td>\n",
              "      <td>...</td>\n",
              "      <td>0</td>\n",
              "      <td>2</td>\n",
              "      <td>5</td>\n",
              "      <td>1</td>\n",
              "      <td>5</td>\n",
              "      <td>50</td>\n",
              "      <td>13</td>\n",
              "      <td>15</td>\n",
              "      <td>7</td>\n",
              "      <td>25</td>\n",
              "    </tr>\n",
              "    <tr>\n",
              "      <th>2</th>\n",
              "      <td>0</td>\n",
              "      <td>0</td>\n",
              "      <td>0</td>\n",
              "      <td>1</td>\n",
              "      <td>0</td>\n",
              "      <td>0</td>\n",
              "      <td>0</td>\n",
              "      <td>0</td>\n",
              "      <td>0</td>\n",
              "      <td>0</td>\n",
              "      <td>...</td>\n",
              "      <td>0</td>\n",
              "      <td>2</td>\n",
              "      <td>6</td>\n",
              "      <td>9</td>\n",
              "      <td>9</td>\n",
              "      <td>25</td>\n",
              "      <td>4</td>\n",
              "      <td>25</td>\n",
              "      <td>19</td>\n",
              "      <td>00</td>\n",
              "    </tr>\n",
              "  </tbody>\n",
              "</table>\n",
              "<p>3 rows × 28 columns</p>\n",
              "</div>\n",
              "      <button class=\"colab-df-convert\" onclick=\"convertToInteractive('df-625bcca5-d194-4bc3-9ad4-62fd0b2dc9a0')\"\n",
              "              title=\"Convert this dataframe to an interactive table.\"\n",
              "              style=\"display:none;\">\n",
              "        \n",
              "  <svg xmlns=\"http://www.w3.org/2000/svg\" height=\"24px\"viewBox=\"0 0 24 24\"\n",
              "       width=\"24px\">\n",
              "    <path d=\"M0 0h24v24H0V0z\" fill=\"none\"/>\n",
              "    <path d=\"M18.56 5.44l.94 2.06.94-2.06 2.06-.94-2.06-.94-.94-2.06-.94 2.06-2.06.94zm-11 1L8.5 8.5l.94-2.06 2.06-.94-2.06-.94L8.5 2.5l-.94 2.06-2.06.94zm10 10l.94 2.06.94-2.06 2.06-.94-2.06-.94-.94-2.06-.94 2.06-2.06.94z\"/><path d=\"M17.41 7.96l-1.37-1.37c-.4-.4-.92-.59-1.43-.59-.52 0-1.04.2-1.43.59L10.3 9.45l-7.72 7.72c-.78.78-.78 2.05 0 2.83L4 21.41c.39.39.9.59 1.41.59.51 0 1.02-.2 1.41-.59l7.78-7.78 2.81-2.81c.8-.78.8-2.07 0-2.86zM5.41 20L4 18.59l7.72-7.72 1.47 1.35L5.41 20z\"/>\n",
              "  </svg>\n",
              "      </button>\n",
              "      \n",
              "  <style>\n",
              "    .colab-df-container {\n",
              "      display:flex;\n",
              "      flex-wrap:wrap;\n",
              "      gap: 12px;\n",
              "    }\n",
              "\n",
              "    .colab-df-convert {\n",
              "      background-color: #E8F0FE;\n",
              "      border: none;\n",
              "      border-radius: 50%;\n",
              "      cursor: pointer;\n",
              "      display: none;\n",
              "      fill: #1967D2;\n",
              "      height: 32px;\n",
              "      padding: 0 0 0 0;\n",
              "      width: 32px;\n",
              "    }\n",
              "\n",
              "    .colab-df-convert:hover {\n",
              "      background-color: #E2EBFA;\n",
              "      box-shadow: 0px 1px 2px rgba(60, 64, 67, 0.3), 0px 1px 3px 1px rgba(60, 64, 67, 0.15);\n",
              "      fill: #174EA6;\n",
              "    }\n",
              "\n",
              "    [theme=dark] .colab-df-convert {\n",
              "      background-color: #3B4455;\n",
              "      fill: #D2E3FC;\n",
              "    }\n",
              "\n",
              "    [theme=dark] .colab-df-convert:hover {\n",
              "      background-color: #434B5C;\n",
              "      box-shadow: 0px 1px 3px 1px rgba(0, 0, 0, 0.15);\n",
              "      filter: drop-shadow(0px 1px 2px rgba(0, 0, 0, 0.3));\n",
              "      fill: #FFFFFF;\n",
              "    }\n",
              "  </style>\n",
              "\n",
              "      <script>\n",
              "        const buttonEl =\n",
              "          document.querySelector('#df-625bcca5-d194-4bc3-9ad4-62fd0b2dc9a0 button.colab-df-convert');\n",
              "        buttonEl.style.display =\n",
              "          google.colab.kernel.accessAllowed ? 'block' : 'none';\n",
              "\n",
              "        async function convertToInteractive(key) {\n",
              "          const element = document.querySelector('#df-625bcca5-d194-4bc3-9ad4-62fd0b2dc9a0');\n",
              "          const dataTable =\n",
              "            await google.colab.kernel.invokeFunction('convertToInteractive',\n",
              "                                                     [key], {});\n",
              "          if (!dataTable) return;\n",
              "\n",
              "          const docLinkHtml = 'Like what you see? Visit the ' +\n",
              "            '<a target=\"_blank\" href=https://colab.research.google.com/notebooks/data_table.ipynb>data table notebook</a>'\n",
              "            + ' to learn more about interactive tables.';\n",
              "          element.innerHTML = '';\n",
              "          dataTable['output_type'] = 'display_data';\n",
              "          await google.colab.output.renderOutput(dataTable, element);\n",
              "          const docLink = document.createElement('div');\n",
              "          docLink.innerHTML = docLinkHtml;\n",
              "          element.appendChild(docLink);\n",
              "        }\n",
              "      </script>\n",
              "    </div>\n",
              "  </div>\n",
              "  "
            ]
          },
          "metadata": {},
          "execution_count": 49
        }
      ],
      "source": [
        "x.head(3)"
      ]
    },
    {
      "cell_type": "markdown",
      "metadata": {
        "id": "tk5RZaNIlq4E"
      },
      "source": [
        "<br>\n",
        "<br>\n",
        "\n",
        "## **Model Building and Hyperparameter Tuning**"
      ]
    },
    {
      "cell_type": "markdown",
      "metadata": {
        "id": "b6zPsvz4lq4E"
      },
      "source": [
        "### ExtraTreesRegressor"
      ]
    },
    {
      "cell_type": "code",
      "execution_count": null,
      "metadata": {
        "collapsed": true,
        "jupyter": {
          "outputs_hidden": true,
          "source_hidden": true
        },
        "colab": {
          "base_uri": "https://localhost:8080/",
          "height": 74
        },
        "id": "WSuzZzd4lq4E",
        "outputId": "37f5001e-97c7-4f89-9d7c-ac2aaab717da"
      },
      "outputs": [
        {
          "output_type": "execute_result",
          "data": {
            "text/plain": [
              "ExtraTreesRegressor()"
            ],
            "text/html": [
              "<style>#sk-container-id-1 {color: black;background-color: white;}#sk-container-id-1 pre{padding: 0;}#sk-container-id-1 div.sk-toggleable {background-color: white;}#sk-container-id-1 label.sk-toggleable__label {cursor: pointer;display: block;width: 100%;margin-bottom: 0;padding: 0.3em;box-sizing: border-box;text-align: center;}#sk-container-id-1 label.sk-toggleable__label-arrow:before {content: \"▸\";float: left;margin-right: 0.25em;color: #696969;}#sk-container-id-1 label.sk-toggleable__label-arrow:hover:before {color: black;}#sk-container-id-1 div.sk-estimator:hover label.sk-toggleable__label-arrow:before {color: black;}#sk-container-id-1 div.sk-toggleable__content {max-height: 0;max-width: 0;overflow: hidden;text-align: left;background-color: #f0f8ff;}#sk-container-id-1 div.sk-toggleable__content pre {margin: 0.2em;color: black;border-radius: 0.25em;background-color: #f0f8ff;}#sk-container-id-1 input.sk-toggleable__control:checked~div.sk-toggleable__content {max-height: 200px;max-width: 100%;overflow: auto;}#sk-container-id-1 input.sk-toggleable__control:checked~label.sk-toggleable__label-arrow:before {content: \"▾\";}#sk-container-id-1 div.sk-estimator input.sk-toggleable__control:checked~label.sk-toggleable__label {background-color: #d4ebff;}#sk-container-id-1 div.sk-label input.sk-toggleable__control:checked~label.sk-toggleable__label {background-color: #d4ebff;}#sk-container-id-1 input.sk-hidden--visually {border: 0;clip: rect(1px 1px 1px 1px);clip: rect(1px, 1px, 1px, 1px);height: 1px;margin: -1px;overflow: hidden;padding: 0;position: absolute;width: 1px;}#sk-container-id-1 div.sk-estimator {font-family: monospace;background-color: #f0f8ff;border: 1px dotted black;border-radius: 0.25em;box-sizing: border-box;margin-bottom: 0.5em;}#sk-container-id-1 div.sk-estimator:hover {background-color: #d4ebff;}#sk-container-id-1 div.sk-parallel-item::after {content: \"\";width: 100%;border-bottom: 1px solid gray;flex-grow: 1;}#sk-container-id-1 div.sk-label:hover label.sk-toggleable__label {background-color: #d4ebff;}#sk-container-id-1 div.sk-serial::before {content: \"\";position: absolute;border-left: 1px solid gray;box-sizing: border-box;top: 0;bottom: 0;left: 50%;z-index: 0;}#sk-container-id-1 div.sk-serial {display: flex;flex-direction: column;align-items: center;background-color: white;padding-right: 0.2em;padding-left: 0.2em;position: relative;}#sk-container-id-1 div.sk-item {position: relative;z-index: 1;}#sk-container-id-1 div.sk-parallel {display: flex;align-items: stretch;justify-content: center;background-color: white;position: relative;}#sk-container-id-1 div.sk-item::before, #sk-container-id-1 div.sk-parallel-item::before {content: \"\";position: absolute;border-left: 1px solid gray;box-sizing: border-box;top: 0;bottom: 0;left: 50%;z-index: -1;}#sk-container-id-1 div.sk-parallel-item {display: flex;flex-direction: column;z-index: 1;position: relative;background-color: white;}#sk-container-id-1 div.sk-parallel-item:first-child::after {align-self: flex-end;width: 50%;}#sk-container-id-1 div.sk-parallel-item:last-child::after {align-self: flex-start;width: 50%;}#sk-container-id-1 div.sk-parallel-item:only-child::after {width: 0;}#sk-container-id-1 div.sk-dashed-wrapped {border: 1px dashed gray;margin: 0 0.4em 0.5em 0.4em;box-sizing: border-box;padding-bottom: 0.4em;background-color: white;}#sk-container-id-1 div.sk-label label {font-family: monospace;font-weight: bold;display: inline-block;line-height: 1.2em;}#sk-container-id-1 div.sk-label-container {text-align: center;}#sk-container-id-1 div.sk-container {/* jupyter's `normalize.less` sets `[hidden] { display: none; }` but bootstrap.min.css set `[hidden] { display: none !important; }` so we also need the `!important` here to be able to override the default hidden behavior on the sphinx rendered scikit-learn.org. See: https://github.com/scikit-learn/scikit-learn/issues/21755 */display: inline-block !important;position: relative;}#sk-container-id-1 div.sk-text-repr-fallback {display: none;}</style><div id=\"sk-container-id-1\" class=\"sk-top-container\"><div class=\"sk-text-repr-fallback\"><pre>ExtraTreesRegressor()</pre><b>In a Jupyter environment, please rerun this cell to show the HTML representation or trust the notebook. <br />On GitHub, the HTML representation is unable to render, please try loading this page with nbviewer.org.</b></div><div class=\"sk-container\" hidden><div class=\"sk-item\"><div class=\"sk-estimator sk-toggleable\"><input class=\"sk-toggleable__control sk-hidden--visually\" id=\"sk-estimator-id-1\" type=\"checkbox\" checked><label for=\"sk-estimator-id-1\" class=\"sk-toggleable__label sk-toggleable__label-arrow\">ExtraTreesRegressor</label><div class=\"sk-toggleable__content\"><pre>ExtraTreesRegressor()</pre></div></div></div></div></div>"
            ]
          },
          "metadata": {},
          "execution_count": 50
        }
      ],
      "source": [
        "from sklearn.ensemble import ExtraTreesRegressor\n",
        "ET_Model=ExtraTreesRegressor()\n",
        "ET_Model.fit(x,y)"
      ]
    },
    {
      "cell_type": "markdown",
      "metadata": {
        "jupyter": {
          "source_hidden": true
        },
        "id": "OAZiP0delq4F"
      },
      "source": [
        "**Future Importance**"
      ]
    },
    {
      "cell_type": "code",
      "execution_count": null,
      "metadata": {
        "collapsed": true,
        "jupyter": {
          "outputs_hidden": true,
          "source_hidden": true
        },
        "colab": {
          "base_uri": "https://localhost:8080/",
          "height": 1000
        },
        "id": "3FIIlMLmlq4F",
        "outputId": "c246b521-dd5d-48f4-9f99-a0e802cd8d99"
      },
      "outputs": [
        {
          "output_type": "execute_result",
          "data": {
            "text/plain": [
              "<Axes: >"
            ]
          },
          "metadata": {},
          "execution_count": 51
        },
        {
          "output_type": "display_data",
          "data": {
            "text/plain": [
              "<Figure size 1800x1000 with 1 Axes>"
            ],
            "image/png": "[encoded data removed]"
          },
          "metadata": {}
        }
      ],
      "source": [
        "pd.Series(ET_Model.feature_importances_,index=x.columns).sort_values(ascending=False).plot(kind='bar',figsize=(18,10))"
      ]
    },
    {
      "cell_type": "code",
      "execution_count": null,
      "metadata": {
        "id": "dEzromqJlq4F"
      },
      "outputs": [],
      "source": [
        "#splitting the dataset\n",
        "from sklearn.model_selection import train_test_split\n",
        "X_train, X_test, y_train, y_test = train_test_split(x, y, test_size = 0.2, random_state = 50)"
      ]
    },
    {
      "cell_type": "code",
      "execution_count": null,
      "metadata": {
        "colab": {
          "base_uri": "https://localhost:8080/"
        },
        "id": "7qfrzqJjlq4F",
        "outputId": "17739fbb-5cc5-4c86-aeda-6c1316cff43b"
      },
      "outputs": [
        {
          "output_type": "execute_result",
          "data": {
            "text/plain": [
              "0.763064893986118"
            ]
          },
          "metadata": {},
          "execution_count": 53
        }
      ],
      "source": [
        "#Preparing Extra Tree Regression\n",
        "from sklearn.ensemble import  ExtraTreesRegressor\n",
        "ET_Model=ExtraTreesRegressor(n_estimators = 120)\n",
        "ET_Model.fit(X_train,y_train)\n",
        "y_predict=ET_Model.predict(X_test)\n",
        "\n",
        "\n",
        "from sklearn.metrics import r2_score\n",
        "r2_score(y_test,y_predict)"
      ]
    },
    {
      "cell_type": "code",
      "execution_count": null,
      "metadata": {
        "colab": {
          "base_uri": "https://localhost:8080/"
        },
        "id": "9tv6W_ydlq4G",
        "outputId": "c77a0aba-917c-4b63-a5c7-595c6261af84"
      },
      "outputs": [
        {
          "output_type": "execute_result",
          "data": {
            "text/plain": [
              "0.793970322260166"
            ]
          },
          "metadata": {},
          "execution_count": 54
        }
      ],
      "source": [
        "from sklearn.ensemble import RandomForestRegressor\n",
        "RF_Model=RandomForestRegressor()\n",
        "RF_Model.fit(X_train,y_train)\n",
        "y_predict=RF_Model.predict(X_test)\n",
        "r2_score(y_test,y_predict)"
      ]
    },
    {
      "cell_type": "markdown",
      "metadata": {
        "id": "dEaLPnR8lq4G"
      },
      "source": [
        "<br>\n",
        "\n",
        "**Hyperparameter**"
      ]
    },
    {
      "cell_type": "code",
      "execution_count": null,
      "metadata": {
        "id": "e5OpmISjlq4G"
      },
      "outputs": [],
      "source": [
        "from sklearn.model_selection import RandomizedSearchCV\n",
        "\n",
        "n_estimators = [int(x) for x in np.linspace(start = 80, stop = 1500, num = 10)]\n",
        "max_features = ['auto', 'sqrt']\n",
        "max_depth = [int(x) for x in np.linspace(6, 45, num = 5)]\n",
        "min_samples_split = [2, 5, 10, 15, 100]\n",
        "min_samples_leaf = [1, 2, 5, 10]\n",
        "\n",
        "# create random grid\n",
        "\n",
        "rand_grid={'n_estimators': n_estimators,\n",
        "               'max_features': max_features,\n",
        "               'max_depth': max_depth,\n",
        "               'min_samples_split': min_samples_split,\n",
        "               'min_samples_leaf': min_samples_leaf}\n",
        "\n",
        "rf=RandomForestRegressor()\n",
        "\n",
        "rCV=RandomizedSearchCV(estimator=rf,param_distributions=rand_grid,scoring='neg_mean_squared_error',n_iter=10,cv=3,random_state=42, n_jobs = 1)"
      ]
    },
    {
      "cell_type": "code",
      "execution_count": null,
      "metadata": {
        "colab": {
          "base_uri": "https://localhost:8080/",
          "height": 1000
        },
        "id": "_cCk0MZjlq4G",
        "outputId": "fe9d5a50-70de-466b-cdac-d8a432870e71"
      },
      "outputs": [
        {
          "output_type": "stream",
          "name": "stderr",
          "text": [
            "/usr/local/lib/python3.10/dist-packages/sklearn/ensemble/_forest.py:413: FutureWarning:\n",
            "\n",
            "`max_features='auto'` has been deprecated in 1.1 and will be removed in 1.3. To keep the past behaviour, explicitly set `max_features=1.0` or remove this parameter as it is also the default value for RandomForestRegressors and ExtraTreesRegressors.\n",
            "\n",
            "/usr/local/lib/python3.10/dist-packages/sklearn/ensemble/_forest.py:413: FutureWarning:\n",
            "\n",
            "`max_features='auto'` has been deprecated in 1.1 and will be removed in 1.3. To keep the past behaviour, explicitly set `max_features=1.0` or remove this parameter as it is also the default value for RandomForestRegressors and ExtraTreesRegressors.\n",
            "\n",
            "/usr/local/lib/python3.10/dist-packages/sklearn/ensemble/_forest.py:413: FutureWarning:\n",
            "\n",
            "`max_features='auto'` has been deprecated in 1.1 and will be removed in 1.3. To keep the past behaviour, explicitly set `max_features=1.0` or remove this parameter as it is also the default value for RandomForestRegressors and ExtraTreesRegressors.\n",
            "\n",
            "/usr/local/lib/python3.10/dist-packages/sklearn/ensemble/_forest.py:413: FutureWarning:\n",
            "\n",
            "`max_features='auto'` has been deprecated in 1.1 and will be removed in 1.3. To keep the past behaviour, explicitly set `max_features=1.0` or remove this parameter as it is also the default value for RandomForestRegressors and ExtraTreesRegressors.\n",
            "\n",
            "/usr/local/lib/python3.10/dist-packages/sklearn/ensemble/_forest.py:413: FutureWarning:\n",
            "\n",
            "`max_features='auto'` has been deprecated in 1.1 and will be removed in 1.3. To keep the past behaviour, explicitly set `max_features=1.0` or remove this parameter as it is also the default value for RandomForestRegressors and ExtraTreesRegressors.\n",
            "\n",
            "/usr/local/lib/python3.10/dist-packages/sklearn/ensemble/_forest.py:413: FutureWarning:\n",
            "\n",
            "`max_features='auto'` has been deprecated in 1.1 and will be removed in 1.3. To keep the past behaviour, explicitly set `max_features=1.0` or remove this parameter as it is also the default value for RandomForestRegressors and ExtraTreesRegressors.\n",
            "\n",
            "/usr/local/lib/python3.10/dist-packages/sklearn/ensemble/_forest.py:413: FutureWarning:\n",
            "\n",
            "`max_features='auto'` has been deprecated in 1.1 and will be removed in 1.3. To keep the past behaviour, explicitly set `max_features=1.0` or remove this parameter as it is also the default value for RandomForestRegressors and ExtraTreesRegressors.\n",
            "\n",
            "/usr/local/lib/python3.10/dist-packages/sklearn/ensemble/_forest.py:413: FutureWarning:\n",
            "\n",
            "`max_features='auto'` has been deprecated in 1.1 and will be removed in 1.3. To keep the past behaviour, explicitly set `max_features=1.0` or remove this parameter as it is also the default value for RandomForestRegressors and ExtraTreesRegressors.\n",
            "\n",
            "/usr/local/lib/python3.10/dist-packages/sklearn/ensemble/_forest.py:413: FutureWarning:\n",
            "\n",
            "`max_features='auto'` has been deprecated in 1.1 and will be removed in 1.3. To keep the past behaviour, explicitly set `max_features=1.0` or remove this parameter as it is also the default value for RandomForestRegressors and ExtraTreesRegressors.\n",
            "\n",
            "/usr/local/lib/python3.10/dist-packages/sklearn/ensemble/_forest.py:413: FutureWarning:\n",
            "\n",
            "`max_features='auto'` has been deprecated in 1.1 and will be removed in 1.3. To keep the past behaviour, explicitly set `max_features=1.0` or remove this parameter as it is also the default value for RandomForestRegressors and ExtraTreesRegressors.\n",
            "\n",
            "/usr/local/lib/python3.10/dist-packages/sklearn/ensemble/_forest.py:413: FutureWarning:\n",
            "\n",
            "`max_features='auto'` has been deprecated in 1.1 and will be removed in 1.3. To keep the past behaviour, explicitly set `max_features=1.0` or remove this parameter as it is also the default value for RandomForestRegressors and ExtraTreesRegressors.\n",
            "\n",
            "/usr/local/lib/python3.10/dist-packages/sklearn/ensemble/_forest.py:413: FutureWarning:\n",
            "\n",
            "`max_features='auto'` has been deprecated in 1.1 and will be removed in 1.3. To keep the past behaviour, explicitly set `max_features=1.0` or remove this parameter as it is also the default value for RandomForestRegressors and ExtraTreesRegressors.\n",
            "\n",
            "/usr/local/lib/python3.10/dist-packages/sklearn/ensemble/_forest.py:413: FutureWarning:\n",
            "\n",
            "`max_features='auto'` has been deprecated in 1.1 and will be removed in 1.3. To keep the past behaviour, explicitly set `max_features=1.0` or remove this parameter as it is also the default value for RandomForestRegressors and ExtraTreesRegressors.\n",
            "\n",
            "/usr/local/lib/python3.10/dist-packages/sklearn/ensemble/_forest.py:413: FutureWarning:\n",
            "\n",
            "`max_features='auto'` has been deprecated in 1.1 and will be removed in 1.3. To keep the past behaviour, explicitly set `max_features=1.0` or remove this parameter as it is also the default value for RandomForestRegressors and ExtraTreesRegressors.\n",
            "\n",
            "/usr/local/lib/python3.10/dist-packages/sklearn/ensemble/_forest.py:413: FutureWarning:\n",
            "\n",
            "`max_features='auto'` has been deprecated in 1.1 and will be removed in 1.3. To keep the past behaviour, explicitly set `max_features=1.0` or remove this parameter as it is also the default value for RandomForestRegressors and ExtraTreesRegressors.\n",
            "\n",
            "/usr/local/lib/python3.10/dist-packages/sklearn/ensemble/_forest.py:413: FutureWarning:\n",
            "\n",
            "`max_features='auto'` has been deprecated in 1.1 and will be removed in 1.3. To keep the past behaviour, explicitly set `max_features=1.0` or remove this parameter as it is also the default value for RandomForestRegressors and ExtraTreesRegressors.\n",
            "\n"
          ]
        },
        {
          "output_type": "execute_result",
          "data": {
            "text/plain": [
              "RandomizedSearchCV(cv=3, estimator=RandomForestRegressor(), n_jobs=1,\n",
              "                   param_distributions={'max_depth': [6, 15, 25, 35, 45],\n",
              "                                        'max_features': ['auto', 'sqrt'],\n",
              "                                        'min_samples_leaf': [1, 2, 5, 10],\n",
              "                                        'min_samples_split': [2, 5, 10, 15,\n",
              "                                                              100],\n",
              "                                        'n_estimators': [80, 237, 395, 553, 711,\n",
              "                                                         868, 1026, 1184, 1342,\n",
              "                                                         1500]},\n",
              "                   random_state=42, scoring='neg_mean_squared_error')"
            ],
            "text/html": [
              "<style>#sk-container-id-2 {color: black;background-color: white;}#sk-container-id-2 pre{padding: 0;}#sk-container-id-2 div.sk-toggleable {background-color: white;}#sk-container-id-2 label.sk-toggleable__label {cursor: pointer;display: block;width: 100%;margin-bottom: 0;padding: 0.3em;box-sizing: border-box;text-align: center;}#sk-container-id-2 label.sk-toggleable__label-arrow:before {content: \"▸\";float: left;margin-right: 0.25em;color: #696969;}#sk-container-id-2 label.sk-toggleable__label-arrow:hover:before {color: black;}#sk-container-id-2 div.sk-estimator:hover label.sk-toggleable__label-arrow:before {color: black;}#sk-container-id-2 div.sk-toggleable__content {max-height: 0;max-width: 0;overflow: hidden;text-align: left;background-color: #f0f8ff;}#sk-container-id-2 div.sk-toggleable__content pre {margin: 0.2em;color: black;border-radius: 0.25em;background-color: #f0f8ff;}#sk-container-id-2 input.sk-toggleable__control:checked~div.sk-toggleable__content {max-height: 200px;max-width: 100%;overflow: auto;}#sk-container-id-2 input.sk-toggleable__control:checked~label.sk-toggleable__label-arrow:before {content: \"▾\";}#sk-container-id-2 div.sk-estimator input.sk-toggleable__control:checked~label.sk-toggleable__label {background-color: #d4ebff;}#sk-container-id-2 div.sk-label input.sk-toggleable__control:checked~label.sk-toggleable__label {background-color: #d4ebff;}#sk-container-id-2 input.sk-hidden--visually {border: 0;clip: rect(1px 1px 1px 1px);clip: rect(1px, 1px, 1px, 1px);height: 1px;margin: -1px;overflow: hidden;padding: 0;position: absolute;width: 1px;}#sk-container-id-2 div.sk-estimator {font-family: monospace;background-color: #f0f8ff;border: 1px dotted black;border-radius: 0.25em;box-sizing: border-box;margin-bottom: 0.5em;}#sk-container-id-2 div.sk-estimator:hover {background-color: #d4ebff;}#sk-container-id-2 div.sk-parallel-item::after {content: \"\";width: 100%;border-bottom: 1px solid gray;flex-grow: 1;}#sk-container-id-2 div.sk-label:hover label.sk-toggleable__label {background-color: #d4ebff;}#sk-container-id-2 div.sk-serial::before {content: \"\";position: absolute;border-left: 1px solid gray;box-sizing: border-box;top: 0;bottom: 0;left: 50%;z-index: 0;}#sk-container-id-2 div.sk-serial {display: flex;flex-direction: column;align-items: center;background-color: white;padding-right: 0.2em;padding-left: 0.2em;position: relative;}#sk-container-id-2 div.sk-item {position: relative;z-index: 1;}#sk-container-id-2 div.sk-parallel {display: flex;align-items: stretch;justify-content: center;background-color: white;position: relative;}#sk-container-id-2 div.sk-item::before, #sk-container-id-2 div.sk-parallel-item::before {content: \"\";position: absolute;border-left: 1px solid gray;box-sizing: border-box;top: 0;bottom: 0;left: 50%;z-index: -1;}#sk-container-id-2 div.sk-parallel-item {display: flex;flex-direction: column;z-index: 1;position: relative;background-color: white;}#sk-container-id-2 div.sk-parallel-item:first-child::after {align-self: flex-end;width: 50%;}#sk-container-id-2 div.sk-parallel-item:last-child::after {align-self: flex-start;width: 50%;}#sk-container-id-2 div.sk-parallel-item:only-child::after {width: 0;}#sk-container-id-2 div.sk-dashed-wrapped {border: 1px dashed gray;margin: 0 0.4em 0.5em 0.4em;box-sizing: border-box;padding-bottom: 0.4em;background-color: white;}#sk-container-id-2 div.sk-label label {font-family: monospace;font-weight: bold;display: inline-block;line-height: 1.2em;}#sk-container-id-2 div.sk-label-container {text-align: center;}#sk-container-id-2 div.sk-container {/* jupyter's `normalize.less` sets `[hidden] { display: none; }` but bootstrap.min.css set `[hidden] { display: none !important; }` so we also need the `!important` here to be able to override the default hidden behavior on the sphinx rendered scikit-learn.org. See: https://github.com/scikit-learn/scikit-learn/issues/21755 */display: inline-block !important;position: relative;}#sk-container-id-2 div.sk-text-repr-fallback {display: none;}</style><div id=\"sk-container-id-2\" class=\"sk-top-container\"><div class=\"sk-text-repr-fallback\"><pre>RandomizedSearchCV(cv=3, estimator=RandomForestRegressor(), n_jobs=1,\n",
              "                   param_distributions={&#x27;max_depth&#x27;: [6, 15, 25, 35, 45],\n",
              "                                        &#x27;max_features&#x27;: [&#x27;auto&#x27;, &#x27;sqrt&#x27;],\n",
              "                                        &#x27;min_samples_leaf&#x27;: [1, 2, 5, 10],\n",
              "                                        &#x27;min_samples_split&#x27;: [2, 5, 10, 15,\n",
              "                                                              100],\n",
              "                                        &#x27;n_estimators&#x27;: [80, 237, 395, 553, 711,\n",
              "                                                         868, 1026, 1184, 1342,\n",
              "                                                         1500]},\n",
              "                   random_state=42, scoring=&#x27;neg_mean_squared_error&#x27;)</pre><b>In a Jupyter environment, please rerun this cell to show the HTML representation or trust the notebook. <br />On GitHub, the HTML representation is unable to render, please try loading this page with nbviewer.org.</b></div><div class=\"sk-container\" hidden><div class=\"sk-item sk-dashed-wrapped\"><div class=\"sk-label-container\"><div class=\"sk-label sk-toggleable\"><input class=\"sk-toggleable__control sk-hidden--visually\" id=\"sk-estimator-id-2\" type=\"checkbox\" ><label for=\"sk-estimator-id-2\" class=\"sk-toggleable__label sk-toggleable__label-arrow\">RandomizedSearchCV</label><div class=\"sk-toggleable__content\"><pre>RandomizedSearchCV(cv=3, estimator=RandomForestRegressor(), n_jobs=1,\n",
              "                   param_distributions={&#x27;max_depth&#x27;: [6, 15, 25, 35, 45],\n",
              "                                        &#x27;max_features&#x27;: [&#x27;auto&#x27;, &#x27;sqrt&#x27;],\n",
              "                                        &#x27;min_samples_leaf&#x27;: [1, 2, 5, 10],\n",
              "                                        &#x27;min_samples_split&#x27;: [2, 5, 10, 15,\n",
              "                                                              100],\n",
              "                                        &#x27;n_estimators&#x27;: [80, 237, 395, 553, 711,\n",
              "                                                         868, 1026, 1184, 1342,\n",
              "                                                         1500]},\n",
              "                   random_state=42, scoring=&#x27;neg_mean_squared_error&#x27;)</pre></div></div></div><div class=\"sk-parallel\"><div class=\"sk-parallel-item\"><div class=\"sk-item\"><div class=\"sk-label-container\"><div class=\"sk-label sk-toggleable\"><input class=\"sk-toggleable__control sk-hidden--visually\" id=\"sk-estimator-id-3\" type=\"checkbox\" ><label for=\"sk-estimator-id-3\" class=\"sk-toggleable__label sk-toggleable__label-arrow\">estimator: RandomForestRegressor</label><div class=\"sk-toggleable__content\"><pre>RandomForestRegressor()</pre></div></div></div><div class=\"sk-serial\"><div class=\"sk-item\"><div class=\"sk-estimator sk-toggleable\"><input class=\"sk-toggleable__control sk-hidden--visually\" id=\"sk-estimator-id-4\" type=\"checkbox\" ><label for=\"sk-estimator-id-4\" class=\"sk-toggleable__label sk-toggleable__label-arrow\">RandomForestRegressor</label><div class=\"sk-toggleable__content\"><pre>RandomForestRegressor()</pre></div></div></div></div></div></div></div></div></div></div>"
            ]
          },
          "metadata": {},
          "execution_count": 56
        }
      ],
      "source": [
        "rCV.fit(X_train,y_train)"
      ]
    },
    {
      "cell_type": "code",
      "execution_count": null,
      "metadata": {
        "colab": {
          "base_uri": "https://localhost:8080/"
        },
        "id": "DPY5KFNrlq4H",
        "outputId": "01279d80-08dd-48c1-a3fe-cdc9c2f744fa"
      },
      "outputs": [
        {
          "output_type": "execute_result",
          "data": {
            "text/plain": [
              "array([12501.47186548,  4287.52226151,  6135.95529165, ...,\n",
              "       11631.46075404,  9662.17746963,  8656.9030772 ])"
            ]
          },
          "metadata": {},
          "execution_count": 57
        }
      ],
      "source": [
        "rf_pred=rCV.predict(X_test)\n",
        "rf_pred"
      ]
    },
    {
      "cell_type": "code",
      "execution_count": null,
      "metadata": {
        "colab": {
          "base_uri": "https://localhost:8080/"
        },
        "id": "2Bg_-hMHlq4H",
        "outputId": "8b40d7c1-b895-47af-cacd-802d3d2e5f3b"
      },
      "outputs": [
        {
          "output_type": "stream",
          "name": "stdout",
          "text": [
            "MAE 1156.4500586760178\n",
            "MSE 3963263.089553304\n"
          ]
        }
      ],
      "source": [
        "from sklearn.metrics import mean_absolute_error,mean_squared_error\n",
        "print('MAE',mean_absolute_error(y_test,rf_pred))\n",
        "print('MSE',mean_squared_error(y_test,rf_pred))"
      ]
    },
    {
      "cell_type": "code",
      "execution_count": null,
      "metadata": {
        "colab": {
          "base_uri": "https://localhost:8080/"
        },
        "id": "Uzx6-xnnlq4H",
        "outputId": "c7e96e3d-eaeb-418e-e19d-1db73bd477b0"
      },
      "outputs": [
        {
          "output_type": "execute_result",
          "data": {
            "text/plain": [
              "0.8069871561527387"
            ]
          },
          "metadata": {},
          "execution_count": 59
        }
      ],
      "source": [
        "r2_score(y_test,rf_pred)"
      ]
    },
    {
      "cell_type": "code",
      "execution_count": null,
      "metadata": {
        "colab": {
          "base_uri": "https://localhost:8080/"
        },
        "id": "ey6m6uDrlq4H",
        "outputId": "75f8948f-227e-49b3-9f34-d4b3f96a19d1"
      },
      "outputs": [
        {
          "output_type": "stream",
          "name": "stdout",
          "text": [
            "Looking in indexes: https://pypi.org/simple, https://us-python.pkg.dev/colab-wheels/public/simple/\n",
            "Collecting catboost\n",
            "  Downloading catboost-1.2-cp310-cp310-manylinux2014_x86_64.whl (98.6 MB)\n",
            "\u001b[2K     \u001b[90m━━━━━━━━━━━━━━━━━━━━━━━━━━━━━━━━━━━━━━━━\u001b[0m \u001b[32m98.6/98.6 MB\u001b[0m \u001b[31m7.0 MB/s\u001b[0m eta \u001b[36m0:00:00\u001b[0m\n",
            "\u001b[?25hRequirement already satisfied: graphviz in /usr/local/lib/python3.10/dist-packages (from catboost) (0.20.1)\n",
            "Requirement already satisfied: matplotlib in /usr/local/lib/python3.10/dist-packages (from catboost) (3.7.1)\n",
            "Requirement already satisfied: numpy>=1.16.0 in /usr/local/lib/python3.10/dist-packages (from catboost) (1.22.4)\n",
            "Requirement already satisfied: pandas>=0.24 in /usr/local/lib/python3.10/dist-packages (from catboost) (1.5.3)\n",
            "Requirement already satisfied: scipy in /usr/local/lib/python3.10/dist-packages (from catboost) (1.10.1)\n",
            "Requirement already satisfied: plotly in /usr/local/lib/python3.10/dist-packages (from catboost) (5.13.1)\n",
            "Requirement already satisfied: six in /usr/local/lib/python3.10/dist-packages (from catboost) (1.16.0)\n",
            "Requirement already satisfied: python-dateutil>=2.8.1 in /usr/local/lib/python3.10/dist-packages (from pandas>=0.24->catboost) (2.8.2)\n",
            "Requirement already satisfied: pytz>=2020.1 in /usr/local/lib/python3.10/dist-packages (from pandas>=0.24->catboost) (2022.7.1)\n",
            "Requirement already satisfied: contourpy>=1.0.1 in /usr/local/lib/python3.10/dist-packages (from matplotlib->catboost) (1.1.0)\n",
            "Requirement already satisfied: cycler>=0.10 in /usr/local/lib/python3.10/dist-packages (from matplotlib->catboost) (0.11.0)\n",
            "Requirement already satisfied: fonttools>=4.22.0 in /usr/local/lib/python3.10/dist-packages (from matplotlib->catboost) (4.40.0)\n",
            "Requirement already satisfied: kiwisolver>=1.0.1 in /usr/local/lib/python3.10/dist-packages (from matplotlib->catboost) (1.4.4)\n",
            "Requirement already satisfied: packaging>=20.0 in /usr/local/lib/python3.10/dist-packages (from matplotlib->catboost) (23.1)\n",
            "Requirement already satisfied: pillow>=6.2.0 in /usr/local/lib/python3.10/dist-packages (from matplotlib->catboost) (8.4.0)\n",
            "Requirement already satisfied: pyparsing>=2.3.1 in /usr/local/lib/python3.10/dist-packages (from matplotlib->catboost) (3.1.0)\n",
            "Requirement already satisfied: tenacity>=6.2.0 in /usr/local/lib/python3.10/dist-packages (from plotly->catboost) (8.2.2)\n",
            "Installing collected packages: catboost\n",
            "Successfully installed catboost-1.2\n"
          ]
        }
      ],
      "source": [
        "!pip install catboost"
      ]
    },
    {
      "cell_type": "code",
      "execution_count": null,
      "metadata": {
        "id": "tXb76Hdalq4I"
      },
      "outputs": [],
      "source": []
    },
    {
      "cell_type": "code",
      "execution_count": null,
      "metadata": {
        "jupyter": {
          "outputs_hidden": true
        },
        "colab": {
          "base_uri": "https://localhost:8080/"
        },
        "id": "op1--r-wlq4I",
        "outputId": "1c79febf-3d93-4862-f999-f143f11a07c2"
      },
      "outputs": [
        {
          "output_type": "stream",
          "name": "stdout",
          "text": [
            "Learning rate set to 0.057463\n",
            "0:\tlearn: 4465.7280757\ttotal: 51.1ms\tremaining: 51.1s\n",
            "1:\tlearn: 4317.7245126\ttotal: 54.2ms\tremaining: 27.1s\n",
            "2:\tlearn: 4167.9871081\ttotal: 60ms\tremaining: 19.9s\n",
            "3:\tlearn: 4030.4839609\ttotal: 65.1ms\tremaining: 16.2s\n",
            "4:\tlearn: 3906.4844760\ttotal: 70.9ms\tremaining: 14.1s\n",
            "5:\tlearn: 3785.4580402\ttotal: 75.4ms\tremaining: 12.5s\n",
            "6:\tlearn: 3673.8662552\ttotal: 80.4ms\tremaining: 11.4s\n",
            "7:\tlearn: 3582.0533069\ttotal: 85ms\tremaining: 10.5s\n",
            "8:\tlearn: 3495.5629367\ttotal: 89.7ms\tremaining: 9.88s\n",
            "9:\tlearn: 3404.7478335\ttotal: 94.3ms\tremaining: 9.33s\n",
            "10:\tlearn: 3325.1004431\ttotal: 99.1ms\tremaining: 8.91s\n",
            "11:\tlearn: 3254.1004651\ttotal: 104ms\tremaining: 8.54s\n",
            "12:\tlearn: 3184.6084064\ttotal: 108ms\tremaining: 8.23s\n",
            "13:\tlearn: 3122.3064005\ttotal: 113ms\tremaining: 7.95s\n",
            "14:\tlearn: 3067.6550706\ttotal: 118ms\tremaining: 7.73s\n",
            "15:\tlearn: 3014.5169632\ttotal: 122ms\tremaining: 7.53s\n",
            "16:\tlearn: 2962.4252595\ttotal: 127ms\tremaining: 7.35s\n",
            "17:\tlearn: 2920.1931240\ttotal: 132ms\tremaining: 7.19s\n",
            "18:\tlearn: 2877.4542155\ttotal: 137ms\tremaining: 7.06s\n",
            "19:\tlearn: 2836.6245798\ttotal: 141ms\tremaining: 6.93s\n",
            "20:\tlearn: 2795.6640990\ttotal: 146ms\tremaining: 6.8s\n",
            "21:\tlearn: 2762.1990538\ttotal: 151ms\tremaining: 6.69s\n",
            "22:\tlearn: 2727.9208771\ttotal: 155ms\tremaining: 6.6s\n",
            "23:\tlearn: 2696.1162679\ttotal: 160ms\tremaining: 6.49s\n",
            "24:\tlearn: 2667.2771566\ttotal: 165ms\tremaining: 6.42s\n",
            "25:\tlearn: 2643.7041952\ttotal: 170ms\tremaining: 6.37s\n",
            "26:\tlearn: 2620.3247888\ttotal: 175ms\tremaining: 6.31s\n",
            "27:\tlearn: 2598.7370952\ttotal: 181ms\tremaining: 6.28s\n",
            "28:\tlearn: 2574.8649008\ttotal: 190ms\tremaining: 6.37s\n",
            "29:\tlearn: 2552.8938076\ttotal: 199ms\tremaining: 6.42s\n",
            "30:\tlearn: 2535.4864413\ttotal: 202ms\tremaining: 6.3s\n",
            "31:\tlearn: 2516.7698332\ttotal: 206ms\tremaining: 6.22s\n",
            "32:\tlearn: 2498.8170112\ttotal: 210ms\tremaining: 6.17s\n",
            "33:\tlearn: 2486.8236752\ttotal: 215ms\tremaining: 6.11s\n",
            "34:\tlearn: 2477.3394868\ttotal: 220ms\tremaining: 6.06s\n",
            "35:\tlearn: 2464.0562980\ttotal: 225ms\tremaining: 6.01s\n",
            "36:\tlearn: 2448.5270397\ttotal: 229ms\tremaining: 5.96s\n",
            "37:\tlearn: 2436.8217449\ttotal: 234ms\tremaining: 5.92s\n",
            "38:\tlearn: 2424.4391048\ttotal: 238ms\tremaining: 5.87s\n",
            "39:\tlearn: 2415.6459023\ttotal: 243ms\tremaining: 5.82s\n",
            "40:\tlearn: 2406.0964751\ttotal: 247ms\tremaining: 5.78s\n",
            "41:\tlearn: 2393.8742177\ttotal: 252ms\tremaining: 5.74s\n",
            "42:\tlearn: 2382.4365188\ttotal: 257ms\tremaining: 5.71s\n",
            "43:\tlearn: 2370.4289366\ttotal: 261ms\tremaining: 5.67s\n",
            "44:\tlearn: 2359.2903311\ttotal: 266ms\tremaining: 5.64s\n",
            "45:\tlearn: 2353.6558567\ttotal: 271ms\tremaining: 5.61s\n",
            "46:\tlearn: 2345.4044111\ttotal: 275ms\tremaining: 5.58s\n",
            "47:\tlearn: 2335.5301779\ttotal: 280ms\tremaining: 5.55s\n",
            "48:\tlearn: 2330.7826322\ttotal: 284ms\tremaining: 5.51s\n",
            "49:\tlearn: 2321.1864216\ttotal: 289ms\tremaining: 5.48s\n",
            "50:\tlearn: 2313.2986029\ttotal: 293ms\tremaining: 5.46s\n",
            "51:\tlearn: 2307.6117185\ttotal: 298ms\tremaining: 5.43s\n",
            "52:\tlearn: 2301.3961730\ttotal: 304ms\tremaining: 5.43s\n",
            "53:\tlearn: 2294.3517169\ttotal: 308ms\tremaining: 5.4s\n",
            "54:\tlearn: 2286.6209598\ttotal: 313ms\tremaining: 5.38s\n",
            "55:\tlearn: 2278.8261647\ttotal: 318ms\tremaining: 5.35s\n",
            "56:\tlearn: 2274.1806199\ttotal: 322ms\tremaining: 5.33s\n",
            "57:\tlearn: 2267.5010929\ttotal: 327ms\tremaining: 5.31s\n",
            "58:\tlearn: 2261.4589527\ttotal: 332ms\tremaining: 5.3s\n",
            "59:\tlearn: 2255.9921223\ttotal: 337ms\tremaining: 5.28s\n",
            "60:\tlearn: 2249.4552343\ttotal: 342ms\tremaining: 5.26s\n",
            "61:\tlearn: 2244.6644634\ttotal: 347ms\tremaining: 5.25s\n",
            "62:\tlearn: 2238.9734365\ttotal: 352ms\tremaining: 5.24s\n",
            "63:\tlearn: 2234.9909927\ttotal: 357ms\tremaining: 5.22s\n",
            "64:\tlearn: 2231.1442896\ttotal: 361ms\tremaining: 5.2s\n",
            "65:\tlearn: 2226.5662708\ttotal: 366ms\tremaining: 5.18s\n",
            "66:\tlearn: 2219.7483791\ttotal: 371ms\tremaining: 5.17s\n",
            "67:\tlearn: 2216.2304285\ttotal: 376ms\tremaining: 5.15s\n",
            "68:\tlearn: 2213.0029269\ttotal: 381ms\tremaining: 5.13s\n",
            "69:\tlearn: 2209.9166932\ttotal: 385ms\tremaining: 5.12s\n",
            "70:\tlearn: 2203.9449162\ttotal: 390ms\tremaining: 5.1s\n",
            "71:\tlearn: 2197.3360911\ttotal: 395ms\tremaining: 5.09s\n",
            "72:\tlearn: 2193.1454818\ttotal: 400ms\tremaining: 5.08s\n",
            "73:\tlearn: 2191.3714829\ttotal: 405ms\tremaining: 5.07s\n",
            "74:\tlearn: 2187.2799783\ttotal: 409ms\tremaining: 5.05s\n",
            "75:\tlearn: 2184.9487788\ttotal: 414ms\tremaining: 5.03s\n",
            "76:\tlearn: 2180.5415792\ttotal: 418ms\tremaining: 5.01s\n",
            "77:\tlearn: 2174.7030474\ttotal: 426ms\tremaining: 5.03s\n",
            "78:\tlearn: 2171.6711621\ttotal: 428ms\tremaining: 4.99s\n",
            "79:\tlearn: 2168.7820825\ttotal: 430ms\tremaining: 4.95s\n",
            "80:\tlearn: 2166.3097499\ttotal: 433ms\tremaining: 4.91s\n",
            "81:\tlearn: 2163.5093344\ttotal: 436ms\tremaining: 4.88s\n",
            "82:\tlearn: 2160.6405708\ttotal: 439ms\tremaining: 4.84s\n",
            "83:\tlearn: 2155.5610777\ttotal: 443ms\tremaining: 4.83s\n",
            "84:\tlearn: 2151.1650726\ttotal: 448ms\tremaining: 4.82s\n",
            "85:\tlearn: 2149.7702700\ttotal: 452ms\tremaining: 4.8s\n",
            "86:\tlearn: 2146.0709542\ttotal: 457ms\tremaining: 4.79s\n",
            "87:\tlearn: 2142.8669614\ttotal: 461ms\tremaining: 4.78s\n",
            "88:\tlearn: 2140.2125861\ttotal: 466ms\tremaining: 4.77s\n",
            "89:\tlearn: 2136.8289963\ttotal: 471ms\tremaining: 4.76s\n",
            "90:\tlearn: 2134.4213461\ttotal: 475ms\tremaining: 4.75s\n",
            "91:\tlearn: 2130.2947106\ttotal: 480ms\tremaining: 4.74s\n",
            "92:\tlearn: 2125.6762707\ttotal: 485ms\tremaining: 4.73s\n",
            "93:\tlearn: 2121.9653594\ttotal: 490ms\tremaining: 4.72s\n",
            "94:\tlearn: 2116.8091629\ttotal: 494ms\tremaining: 4.71s\n",
            "95:\tlearn: 2115.5022262\ttotal: 499ms\tremaining: 4.7s\n",
            "96:\tlearn: 2112.9830571\ttotal: 504ms\tremaining: 4.69s\n",
            "97:\tlearn: 2109.5443737\ttotal: 509ms\tremaining: 4.68s\n",
            "98:\tlearn: 2105.7973532\ttotal: 514ms\tremaining: 4.67s\n",
            "99:\tlearn: 2101.2037661\ttotal: 518ms\tremaining: 4.67s\n",
            "100:\tlearn: 2096.1113779\ttotal: 523ms\tremaining: 4.66s\n",
            "101:\tlearn: 2094.0045045\ttotal: 528ms\tremaining: 4.65s\n",
            "102:\tlearn: 2091.3247216\ttotal: 533ms\tremaining: 4.64s\n",
            "103:\tlearn: 2086.9048284\ttotal: 538ms\tremaining: 4.63s\n",
            "104:\tlearn: 2082.7266963\ttotal: 543ms\tremaining: 4.63s\n",
            "105:\tlearn: 2079.8091016\ttotal: 548ms\tremaining: 4.62s\n",
            "106:\tlearn: 2075.5102216\ttotal: 554ms\tremaining: 4.63s\n",
            "107:\tlearn: 2073.4945720\ttotal: 559ms\tremaining: 4.62s\n",
            "108:\tlearn: 2069.3783146\ttotal: 564ms\tremaining: 4.61s\n",
            "109:\tlearn: 2065.3296881\ttotal: 569ms\tremaining: 4.6s\n",
            "110:\tlearn: 2063.9820739\ttotal: 573ms\tremaining: 4.59s\n",
            "111:\tlearn: 2060.6653369\ttotal: 578ms\tremaining: 4.58s\n",
            "112:\tlearn: 2058.9501335\ttotal: 583ms\tremaining: 4.57s\n",
            "113:\tlearn: 2056.4421971\ttotal: 587ms\tremaining: 4.57s\n",
            "114:\tlearn: 2055.3227016\ttotal: 592ms\tremaining: 4.55s\n",
            "115:\tlearn: 2050.9968075\ttotal: 597ms\tremaining: 4.55s\n",
            "116:\tlearn: 2047.7938564\ttotal: 602ms\tremaining: 4.54s\n",
            "117:\tlearn: 2044.4858936\ttotal: 607ms\tremaining: 4.53s\n",
            "118:\tlearn: 2041.0867610\ttotal: 611ms\tremaining: 4.53s\n",
            "119:\tlearn: 2040.2085227\ttotal: 616ms\tremaining: 4.52s\n",
            "120:\tlearn: 2038.0143889\ttotal: 620ms\tremaining: 4.51s\n",
            "121:\tlearn: 2035.1904591\ttotal: 625ms\tremaining: 4.5s\n",
            "122:\tlearn: 2033.3851679\ttotal: 630ms\tremaining: 4.49s\n",
            "123:\tlearn: 2030.1091356\ttotal: 635ms\tremaining: 4.48s\n",
            "124:\tlearn: 2029.5564205\ttotal: 639ms\tremaining: 4.47s\n",
            "125:\tlearn: 2026.1337658\ttotal: 644ms\tremaining: 4.46s\n",
            "126:\tlearn: 2025.0189836\ttotal: 649ms\tremaining: 4.46s\n",
            "127:\tlearn: 2021.9200815\ttotal: 653ms\tremaining: 4.45s\n",
            "128:\tlearn: 2019.5114583\ttotal: 658ms\tremaining: 4.45s\n",
            "129:\tlearn: 2017.2751331\ttotal: 663ms\tremaining: 4.44s\n",
            "130:\tlearn: 2015.0969983\ttotal: 668ms\tremaining: 4.43s\n",
            "131:\tlearn: 2013.0569794\ttotal: 673ms\tremaining: 4.43s\n",
            "132:\tlearn: 2010.2906436\ttotal: 678ms\tremaining: 4.42s\n",
            "133:\tlearn: 2007.6481717\ttotal: 683ms\tremaining: 4.42s\n",
            "134:\tlearn: 2002.9492022\ttotal: 688ms\tremaining: 4.41s\n",
            "135:\tlearn: 2002.1875658\ttotal: 693ms\tremaining: 4.4s\n",
            "136:\tlearn: 1998.9796537\ttotal: 702ms\tremaining: 4.42s\n",
            "137:\tlearn: 1996.2053889\ttotal: 711ms\tremaining: 4.44s\n",
            "138:\tlearn: 1992.7798962\ttotal: 717ms\tremaining: 4.44s\n",
            "139:\tlearn: 1990.1673673\ttotal: 726ms\tremaining: 4.46s\n",
            "140:\tlearn: 1988.2813410\ttotal: 732ms\tremaining: 4.46s\n",
            "141:\tlearn: 1985.9634337\ttotal: 739ms\tremaining: 4.46s\n",
            "142:\tlearn: 1984.9852760\ttotal: 743ms\tremaining: 4.45s\n",
            "143:\tlearn: 1981.5611632\ttotal: 748ms\tremaining: 4.45s\n",
            "144:\tlearn: 1980.3403023\ttotal: 753ms\tremaining: 4.44s\n",
            "145:\tlearn: 1979.1728709\ttotal: 757ms\tremaining: 4.42s\n",
            "146:\tlearn: 1977.9352153\ttotal: 762ms\tremaining: 4.42s\n",
            "147:\tlearn: 1976.1491781\ttotal: 766ms\tremaining: 4.41s\n",
            "148:\tlearn: 1973.2055101\ttotal: 772ms\tremaining: 4.41s\n",
            "149:\tlearn: 1972.6745770\ttotal: 776ms\tremaining: 4.4s\n",
            "150:\tlearn: 1971.0950286\ttotal: 781ms\tremaining: 4.39s\n",
            "151:\tlearn: 1967.9828151\ttotal: 786ms\tremaining: 4.38s\n",
            "152:\tlearn: 1966.0746288\ttotal: 791ms\tremaining: 4.38s\n",
            "153:\tlearn: 1964.4106851\ttotal: 796ms\tremaining: 4.37s\n",
            "154:\tlearn: 1961.8503286\ttotal: 803ms\tremaining: 4.38s\n",
            "155:\tlearn: 1959.7518765\ttotal: 807ms\tremaining: 4.37s\n",
            "156:\tlearn: 1957.0720669\ttotal: 812ms\tremaining: 4.36s\n",
            "157:\tlearn: 1956.0090587\ttotal: 817ms\tremaining: 4.35s\n",
            "158:\tlearn: 1952.8394795\ttotal: 822ms\tremaining: 4.35s\n",
            "159:\tlearn: 1950.8397618\ttotal: 827ms\tremaining: 4.34s\n",
            "160:\tlearn: 1949.3290804\ttotal: 832ms\tremaining: 4.33s\n",
            "161:\tlearn: 1946.4694596\ttotal: 837ms\tremaining: 4.33s\n",
            "162:\tlearn: 1944.3492457\ttotal: 842ms\tremaining: 4.33s\n",
            "163:\tlearn: 1941.8469579\ttotal: 848ms\tremaining: 4.32s\n",
            "164:\tlearn: 1940.3896175\ttotal: 854ms\tremaining: 4.32s\n",
            "165:\tlearn: 1937.7974607\ttotal: 860ms\tremaining: 4.32s\n",
            "166:\tlearn: 1935.7148974\ttotal: 866ms\tremaining: 4.32s\n",
            "167:\tlearn: 1932.3134674\ttotal: 874ms\tremaining: 4.33s\n",
            "168:\tlearn: 1930.5614717\ttotal: 879ms\tremaining: 4.32s\n",
            "169:\tlearn: 1929.4656497\ttotal: 885ms\tremaining: 4.32s\n",
            "170:\tlearn: 1927.7647084\ttotal: 888ms\tremaining: 4.31s\n",
            "171:\tlearn: 1926.5870153\ttotal: 891ms\tremaining: 4.29s\n",
            "172:\tlearn: 1925.5010876\ttotal: 893ms\tremaining: 4.27s\n",
            "173:\tlearn: 1924.0349513\ttotal: 895ms\tremaining: 4.25s\n",
            "174:\tlearn: 1921.8799425\ttotal: 897ms\tremaining: 4.23s\n",
            "175:\tlearn: 1919.9229413\ttotal: 899ms\tremaining: 4.21s\n",
            "176:\tlearn: 1919.0135109\ttotal: 901ms\tremaining: 4.19s\n",
            "177:\tlearn: 1917.0102157\ttotal: 903ms\tremaining: 4.17s\n",
            "178:\tlearn: 1914.5686236\ttotal: 905ms\tremaining: 4.15s\n",
            "179:\tlearn: 1912.4008242\ttotal: 908ms\tremaining: 4.13s\n",
            "180:\tlearn: 1909.3596736\ttotal: 910ms\tremaining: 4.12s\n",
            "181:\tlearn: 1906.4143993\ttotal: 912ms\tremaining: 4.1s\n",
            "182:\tlearn: 1905.0535079\ttotal: 914ms\tremaining: 4.08s\n",
            "183:\tlearn: 1902.8146373\ttotal: 916ms\tremaining: 4.06s\n",
            "184:\tlearn: 1901.7193607\ttotal: 918ms\tremaining: 4.04s\n",
            "185:\tlearn: 1899.7272699\ttotal: 924ms\tremaining: 4.04s\n",
            "186:\tlearn: 1898.5304244\ttotal: 928ms\tremaining: 4.03s\n",
            "187:\tlearn: 1897.0739098\ttotal: 930ms\tremaining: 4.01s\n",
            "188:\tlearn: 1894.5016873\ttotal: 932ms\tremaining: 4s\n",
            "189:\tlearn: 1892.5209273\ttotal: 935ms\tremaining: 3.99s\n",
            "190:\tlearn: 1890.9588410\ttotal: 942ms\tremaining: 3.99s\n",
            "191:\tlearn: 1889.7128491\ttotal: 945ms\tremaining: 3.98s\n",
            "192:\tlearn: 1888.8885955\ttotal: 947ms\tremaining: 3.96s\n",
            "193:\tlearn: 1888.0018393\ttotal: 949ms\tremaining: 3.94s\n",
            "194:\tlearn: 1887.0114729\ttotal: 952ms\tremaining: 3.93s\n",
            "195:\tlearn: 1886.1149584\ttotal: 954ms\tremaining: 3.91s\n",
            "196:\tlearn: 1885.0633608\ttotal: 957ms\tremaining: 3.9s\n",
            "197:\tlearn: 1883.5795929\ttotal: 959ms\tremaining: 3.88s\n",
            "198:\tlearn: 1881.4375386\ttotal: 962ms\tremaining: 3.87s\n",
            "199:\tlearn: 1880.6406972\ttotal: 970ms\tremaining: 3.88s\n",
            "200:\tlearn: 1879.1601652\ttotal: 986ms\tremaining: 3.92s\n",
            "201:\tlearn: 1878.3766642\ttotal: 993ms\tremaining: 3.92s\n",
            "202:\tlearn: 1874.8103918\ttotal: 1s\tremaining: 3.93s\n",
            "203:\tlearn: 1873.2498095\ttotal: 1.01s\tremaining: 3.93s\n",
            "204:\tlearn: 1872.0468481\ttotal: 1.01s\tremaining: 3.93s\n",
            "205:\tlearn: 1869.6479288\ttotal: 1.02s\tremaining: 3.95s\n",
            "206:\tlearn: 1867.8143121\ttotal: 1.03s\tremaining: 3.94s\n",
            "207:\tlearn: 1865.5481925\ttotal: 1.04s\tremaining: 3.96s\n",
            "208:\tlearn: 1863.4857240\ttotal: 1.04s\tremaining: 3.95s\n",
            "209:\tlearn: 1862.5966715\ttotal: 1.05s\tremaining: 3.96s\n",
            "210:\tlearn: 1860.7174603\ttotal: 1.06s\tremaining: 3.96s\n",
            "211:\tlearn: 1860.0684077\ttotal: 1.07s\tremaining: 3.97s\n",
            "212:\tlearn: 1859.5940507\ttotal: 1.08s\tremaining: 3.98s\n",
            "213:\tlearn: 1859.1156181\ttotal: 1.08s\tremaining: 3.98s\n",
            "214:\tlearn: 1857.8917707\ttotal: 1.09s\tremaining: 3.97s\n",
            "215:\tlearn: 1854.9933960\ttotal: 1.09s\tremaining: 3.97s\n",
            "216:\tlearn: 1854.4600622\ttotal: 1.1s\tremaining: 3.96s\n",
            "217:\tlearn: 1853.3372131\ttotal: 1.1s\tremaining: 3.95s\n",
            "218:\tlearn: 1853.0739862\ttotal: 1.1s\tremaining: 3.94s\n",
            "219:\tlearn: 1850.9067699\ttotal: 1.11s\tremaining: 3.93s\n",
            "220:\tlearn: 1850.7403740\ttotal: 1.11s\tremaining: 3.93s\n",
            "221:\tlearn: 1850.4713084\ttotal: 1.12s\tremaining: 3.92s\n",
            "222:\tlearn: 1849.4055094\ttotal: 1.12s\tremaining: 3.91s\n",
            "223:\tlearn: 1847.9288404\ttotal: 1.12s\tremaining: 3.9s\n",
            "224:\tlearn: 1847.2381811\ttotal: 1.14s\tremaining: 3.91s\n",
            "225:\tlearn: 1847.0286416\ttotal: 1.14s\tremaining: 3.89s\n",
            "226:\tlearn: 1845.0009660\ttotal: 1.14s\tremaining: 3.89s\n",
            "227:\tlearn: 1843.8117526\ttotal: 1.15s\tremaining: 3.88s\n",
            "228:\tlearn: 1842.1997498\ttotal: 1.15s\tremaining: 3.87s\n",
            "229:\tlearn: 1842.0481530\ttotal: 1.15s\tremaining: 3.86s\n",
            "230:\tlearn: 1838.9875108\ttotal: 1.16s\tremaining: 3.85s\n",
            "231:\tlearn: 1838.6110226\ttotal: 1.16s\tremaining: 3.85s\n",
            "232:\tlearn: 1838.5035448\ttotal: 1.16s\tremaining: 3.83s\n",
            "233:\tlearn: 1838.3418898\ttotal: 1.17s\tremaining: 3.83s\n",
            "234:\tlearn: 1838.2935627\ttotal: 1.17s\tremaining: 3.82s\n",
            "235:\tlearn: 1836.0108776\ttotal: 1.18s\tremaining: 3.81s\n",
            "236:\tlearn: 1835.3309100\ttotal: 1.18s\tremaining: 3.8s\n",
            "237:\tlearn: 1835.2070778\ttotal: 1.18s\tremaining: 3.79s\n",
            "238:\tlearn: 1834.7763708\ttotal: 1.19s\tremaining: 3.78s\n",
            "239:\tlearn: 1832.7366678\ttotal: 1.19s\tremaining: 3.78s\n",
            "240:\tlearn: 1830.9012081\ttotal: 1.2s\tremaining: 3.77s\n",
            "241:\tlearn: 1830.4631658\ttotal: 1.2s\tremaining: 3.76s\n",
            "242:\tlearn: 1829.1049385\ttotal: 1.2s\tremaining: 3.75s\n",
            "243:\tlearn: 1827.2710450\ttotal: 1.21s\tremaining: 3.74s\n",
            "244:\tlearn: 1825.5558309\ttotal: 1.21s\tremaining: 3.73s\n",
            "245:\tlearn: 1824.1903451\ttotal: 1.22s\tremaining: 3.73s\n",
            "246:\tlearn: 1823.0245569\ttotal: 1.22s\tremaining: 3.72s\n",
            "247:\tlearn: 1821.0847283\ttotal: 1.22s\tremaining: 3.71s\n",
            "248:\tlearn: 1819.4291339\ttotal: 1.23s\tremaining: 3.7s\n",
            "249:\tlearn: 1819.2119762\ttotal: 1.23s\tremaining: 3.69s\n",
            "250:\tlearn: 1817.1321301\ttotal: 1.23s\tremaining: 3.69s\n",
            "251:\tlearn: 1816.9862715\ttotal: 1.24s\tremaining: 3.68s\n",
            "252:\tlearn: 1815.5547028\ttotal: 1.24s\tremaining: 3.67s\n",
            "253:\tlearn: 1814.3193797\ttotal: 1.25s\tremaining: 3.66s\n",
            "254:\tlearn: 1814.2021359\ttotal: 1.25s\tremaining: 3.65s\n",
            "255:\tlearn: 1811.9162371\ttotal: 1.25s\tremaining: 3.65s\n",
            "256:\tlearn: 1811.0476624\ttotal: 1.26s\tremaining: 3.63s\n",
            "257:\tlearn: 1809.1593357\ttotal: 1.26s\tremaining: 3.63s\n",
            "258:\tlearn: 1809.0449007\ttotal: 1.26s\tremaining: 3.62s\n",
            "259:\tlearn: 1807.7017705\ttotal: 1.27s\tremaining: 3.62s\n",
            "260:\tlearn: 1807.5599805\ttotal: 1.27s\tremaining: 3.6s\n",
            "261:\tlearn: 1805.6507767\ttotal: 1.28s\tremaining: 3.59s\n",
            "262:\tlearn: 1804.1716346\ttotal: 1.28s\tremaining: 3.59s\n",
            "263:\tlearn: 1802.4741327\ttotal: 1.28s\tremaining: 3.58s\n",
            "264:\tlearn: 1801.1570167\ttotal: 1.28s\tremaining: 3.57s\n",
            "265:\tlearn: 1799.3080056\ttotal: 1.29s\tremaining: 3.55s\n",
            "266:\tlearn: 1797.9374610\ttotal: 1.29s\tremaining: 3.55s\n",
            "267:\tlearn: 1795.8991266\ttotal: 1.29s\tremaining: 3.54s\n",
            "268:\tlearn: 1794.8340144\ttotal: 1.3s\tremaining: 3.53s\n",
            "269:\tlearn: 1793.0383335\ttotal: 1.3s\tremaining: 3.52s\n",
            "270:\tlearn: 1791.9696124\ttotal: 1.3s\tremaining: 3.51s\n",
            "271:\tlearn: 1791.8616554\ttotal: 1.31s\tremaining: 3.5s\n",
            "272:\tlearn: 1790.4101349\ttotal: 1.31s\tremaining: 3.49s\n",
            "273:\tlearn: 1789.3336525\ttotal: 1.31s\tremaining: 3.48s\n",
            "274:\tlearn: 1788.4952927\ttotal: 1.32s\tremaining: 3.47s\n",
            "275:\tlearn: 1788.3814588\ttotal: 1.32s\tremaining: 3.46s\n",
            "276:\tlearn: 1787.1186933\ttotal: 1.32s\tremaining: 3.46s\n",
            "277:\tlearn: 1786.3356947\ttotal: 1.33s\tremaining: 3.45s\n",
            "278:\tlearn: 1786.1526517\ttotal: 1.33s\tremaining: 3.44s\n",
            "279:\tlearn: 1785.1333957\ttotal: 1.33s\tremaining: 3.43s\n",
            "280:\tlearn: 1784.0076210\ttotal: 1.34s\tremaining: 3.43s\n",
            "281:\tlearn: 1782.2473166\ttotal: 1.34s\tremaining: 3.42s\n",
            "282:\tlearn: 1782.0317952\ttotal: 1.35s\tremaining: 3.41s\n",
            "283:\tlearn: 1780.6791621\ttotal: 1.35s\tremaining: 3.4s\n",
            "284:\tlearn: 1779.2290150\ttotal: 1.35s\tremaining: 3.4s\n",
            "285:\tlearn: 1777.9036426\ttotal: 1.36s\tremaining: 3.39s\n",
            "286:\tlearn: 1777.6957933\ttotal: 1.36s\tremaining: 3.38s\n",
            "287:\tlearn: 1776.7105990\ttotal: 1.36s\tremaining: 3.38s\n",
            "288:\tlearn: 1775.8126421\ttotal: 1.37s\tremaining: 3.37s\n",
            "289:\tlearn: 1774.2654787\ttotal: 1.37s\tremaining: 3.36s\n",
            "290:\tlearn: 1774.1291799\ttotal: 1.38s\tremaining: 3.35s\n",
            "291:\tlearn: 1774.1115402\ttotal: 1.38s\tremaining: 3.35s\n",
            "292:\tlearn: 1772.8847764\ttotal: 1.38s\tremaining: 3.34s\n",
            "293:\tlearn: 1771.5300747\ttotal: 1.39s\tremaining: 3.33s\n",
            "294:\tlearn: 1770.2390578\ttotal: 1.39s\tremaining: 3.33s\n",
            "295:\tlearn: 1768.1826448\ttotal: 1.4s\tremaining: 3.32s\n",
            "296:\tlearn: 1768.1512755\ttotal: 1.4s\tremaining: 3.31s\n",
            "297:\tlearn: 1768.0329528\ttotal: 1.4s\tremaining: 3.3s\n",
            "298:\tlearn: 1766.7744361\ttotal: 1.41s\tremaining: 3.3s\n",
            "299:\tlearn: 1765.7499793\ttotal: 1.41s\tremaining: 3.29s\n",
            "300:\tlearn: 1764.8336746\ttotal: 1.41s\tremaining: 3.29s\n",
            "301:\tlearn: 1763.9656060\ttotal: 1.42s\tremaining: 3.28s\n",
            "302:\tlearn: 1762.4680593\ttotal: 1.42s\tremaining: 3.27s\n",
            "303:\tlearn: 1761.8250392\ttotal: 1.43s\tremaining: 3.27s\n",
            "304:\tlearn: 1761.2274411\ttotal: 1.43s\tremaining: 3.26s\n",
            "305:\tlearn: 1760.0687037\ttotal: 1.43s\tremaining: 3.25s\n",
            "306:\tlearn: 1759.0731914\ttotal: 1.44s\tremaining: 3.25s\n",
            "307:\tlearn: 1757.5221095\ttotal: 1.45s\tremaining: 3.25s\n",
            "308:\tlearn: 1756.3239315\ttotal: 1.45s\tremaining: 3.24s\n",
            "309:\tlearn: 1756.2945560\ttotal: 1.45s\tremaining: 3.23s\n",
            "310:\tlearn: 1755.8744273\ttotal: 1.46s\tremaining: 3.23s\n",
            "311:\tlearn: 1755.8575863\ttotal: 1.46s\tremaining: 3.22s\n",
            "312:\tlearn: 1755.2556875\ttotal: 1.46s\tremaining: 3.21s\n",
            "313:\tlearn: 1753.4561591\ttotal: 1.47s\tremaining: 3.21s\n",
            "314:\tlearn: 1752.0728329\ttotal: 1.47s\tremaining: 3.2s\n",
            "315:\tlearn: 1751.1911504\ttotal: 1.48s\tremaining: 3.19s\n",
            "316:\tlearn: 1749.9997407\ttotal: 1.48s\tremaining: 3.19s\n",
            "317:\tlearn: 1748.7475122\ttotal: 1.49s\tremaining: 3.19s\n",
            "318:\tlearn: 1746.7967667\ttotal: 1.49s\tremaining: 3.18s\n",
            "319:\tlearn: 1746.7807749\ttotal: 1.49s\tremaining: 3.17s\n",
            "320:\tlearn: 1745.8532432\ttotal: 1.5s\tremaining: 3.17s\n",
            "321:\tlearn: 1745.8278267\ttotal: 1.5s\tremaining: 3.16s\n",
            "322:\tlearn: 1745.0431317\ttotal: 1.5s\tremaining: 3.15s\n",
            "323:\tlearn: 1743.8420783\ttotal: 1.51s\tremaining: 3.15s\n",
            "324:\tlearn: 1742.8932883\ttotal: 1.51s\tremaining: 3.14s\n",
            "325:\tlearn: 1741.1542220\ttotal: 1.52s\tremaining: 3.13s\n",
            "326:\tlearn: 1740.0014580\ttotal: 1.52s\tremaining: 3.13s\n",
            "327:\tlearn: 1738.9456619\ttotal: 1.52s\tremaining: 3.12s\n",
            "328:\tlearn: 1738.8634142\ttotal: 1.53s\tremaining: 3.12s\n",
            "329:\tlearn: 1738.0215279\ttotal: 1.53s\tremaining: 3.11s\n",
            "330:\tlearn: 1738.0045672\ttotal: 1.54s\tremaining: 3.1s\n",
            "331:\tlearn: 1736.8836345\ttotal: 1.54s\tremaining: 3.1s\n",
            "332:\tlearn: 1734.9438421\ttotal: 1.55s\tremaining: 3.1s\n",
            "333:\tlearn: 1733.7663980\ttotal: 1.55s\tremaining: 3.1s\n",
            "334:\tlearn: 1733.7502070\ttotal: 1.55s\tremaining: 3.09s\n",
            "335:\tlearn: 1731.9563686\ttotal: 1.56s\tremaining: 3.08s\n",
            "336:\tlearn: 1730.6458723\ttotal: 1.56s\tremaining: 3.08s\n",
            "337:\tlearn: 1729.5742529\ttotal: 1.57s\tremaining: 3.07s\n",
            "338:\tlearn: 1728.1147530\ttotal: 1.57s\tremaining: 3.06s\n",
            "339:\tlearn: 1726.8427007\ttotal: 1.58s\tremaining: 3.06s\n",
            "340:\tlearn: 1725.5289298\ttotal: 1.58s\tremaining: 3.06s\n",
            "341:\tlearn: 1725.5131812\ttotal: 1.58s\tremaining: 3.05s\n",
            "342:\tlearn: 1724.5684496\ttotal: 1.59s\tremaining: 3.04s\n",
            "343:\tlearn: 1723.4357272\ttotal: 1.59s\tremaining: 3.04s\n",
            "344:\tlearn: 1722.4498462\ttotal: 1.59s\tremaining: 3.03s\n",
            "345:\tlearn: 1721.3726857\ttotal: 1.6s\tremaining: 3.02s\n",
            "346:\tlearn: 1720.8368740\ttotal: 1.6s\tremaining: 3.02s\n",
            "347:\tlearn: 1719.7146510\ttotal: 1.61s\tremaining: 3.02s\n",
            "348:\tlearn: 1719.7013755\ttotal: 1.61s\tremaining: 3.01s\n",
            "349:\tlearn: 1717.9139412\ttotal: 1.61s\tremaining: 3s\n",
            "350:\tlearn: 1716.6319333\ttotal: 1.61s\tremaining: 2.99s\n",
            "351:\tlearn: 1715.3656102\ttotal: 1.62s\tremaining: 2.98s\n",
            "352:\tlearn: 1714.1619117\ttotal: 1.62s\tremaining: 2.97s\n",
            "353:\tlearn: 1713.1035883\ttotal: 1.62s\tremaining: 2.96s\n",
            "354:\tlearn: 1712.4061526\ttotal: 1.63s\tremaining: 2.95s\n",
            "355:\tlearn: 1710.1710065\ttotal: 1.63s\tremaining: 2.94s\n",
            "356:\tlearn: 1709.0674602\ttotal: 1.63s\tremaining: 2.94s\n",
            "357:\tlearn: 1707.7016278\ttotal: 1.63s\tremaining: 2.93s\n",
            "358:\tlearn: 1707.0025113\ttotal: 1.63s\tremaining: 2.92s\n",
            "359:\tlearn: 1706.1628396\ttotal: 1.64s\tremaining: 2.91s\n",
            "360:\tlearn: 1706.1471778\ttotal: 1.64s\tremaining: 2.9s\n",
            "361:\tlearn: 1705.1177194\ttotal: 1.64s\tremaining: 2.89s\n",
            "362:\tlearn: 1705.0967421\ttotal: 1.64s\tremaining: 2.88s\n",
            "363:\tlearn: 1704.4432779\ttotal: 1.64s\tremaining: 2.87s\n",
            "364:\tlearn: 1704.4307330\ttotal: 1.65s\tremaining: 2.86s\n",
            "365:\tlearn: 1703.9306631\ttotal: 1.65s\tremaining: 2.85s\n",
            "366:\tlearn: 1703.4921726\ttotal: 1.65s\tremaining: 2.85s\n",
            "367:\tlearn: 1702.6774969\ttotal: 1.65s\tremaining: 2.84s\n",
            "368:\tlearn: 1701.7522479\ttotal: 1.66s\tremaining: 2.83s\n",
            "369:\tlearn: 1700.7823371\ttotal: 1.66s\tremaining: 2.82s\n",
            "370:\tlearn: 1700.7676271\ttotal: 1.66s\tremaining: 2.81s\n",
            "371:\tlearn: 1700.7534364\ttotal: 1.66s\tremaining: 2.8s\n",
            "372:\tlearn: 1699.8759752\ttotal: 1.66s\tremaining: 2.79s\n",
            "373:\tlearn: 1699.1910794\ttotal: 1.67s\tremaining: 2.79s\n",
            "374:\tlearn: 1698.2520099\ttotal: 1.67s\tremaining: 2.78s\n",
            "375:\tlearn: 1698.2160086\ttotal: 1.67s\tremaining: 2.77s\n",
            "376:\tlearn: 1697.3944714\ttotal: 1.67s\tremaining: 2.76s\n",
            "377:\tlearn: 1696.2230769\ttotal: 1.67s\tremaining: 2.75s\n",
            "378:\tlearn: 1695.1074029\ttotal: 1.68s\tremaining: 2.75s\n",
            "379:\tlearn: 1693.8210413\ttotal: 1.68s\tremaining: 2.74s\n",
            "380:\tlearn: 1692.8050738\ttotal: 1.68s\tremaining: 2.73s\n",
            "381:\tlearn: 1692.2565361\ttotal: 1.68s\tremaining: 2.72s\n",
            "382:\tlearn: 1690.7293836\ttotal: 1.68s\tremaining: 2.71s\n",
            "383:\tlearn: 1689.4477046\ttotal: 1.69s\tremaining: 2.71s\n",
            "384:\tlearn: 1689.4345475\ttotal: 1.69s\tremaining: 2.71s\n",
            "385:\tlearn: 1688.3047188\ttotal: 1.7s\tremaining: 2.7s\n",
            "386:\tlearn: 1687.3647544\ttotal: 1.7s\tremaining: 2.7s\n",
            "387:\tlearn: 1686.8507705\ttotal: 1.71s\tremaining: 2.69s\n",
            "388:\tlearn: 1685.8128703\ttotal: 1.71s\tremaining: 2.68s\n",
            "389:\tlearn: 1684.8767186\ttotal: 1.71s\tremaining: 2.68s\n",
            "390:\tlearn: 1683.4689024\ttotal: 1.71s\tremaining: 2.67s\n",
            "391:\tlearn: 1682.5854198\ttotal: 1.72s\tremaining: 2.66s\n",
            "392:\tlearn: 1681.7591755\ttotal: 1.72s\tremaining: 2.65s\n",
            "393:\tlearn: 1680.9414964\ttotal: 1.72s\tremaining: 2.65s\n",
            "394:\tlearn: 1680.2388543\ttotal: 1.72s\tremaining: 2.64s\n",
            "395:\tlearn: 1678.9097571\ttotal: 1.72s\tremaining: 2.63s\n",
            "396:\tlearn: 1678.3900821\ttotal: 1.73s\tremaining: 2.62s\n",
            "397:\tlearn: 1677.7496669\ttotal: 1.73s\tremaining: 2.62s\n",
            "398:\tlearn: 1676.2792415\ttotal: 1.73s\tremaining: 2.61s\n",
            "399:\tlearn: 1675.1193211\ttotal: 1.73s\tremaining: 2.6s\n",
            "400:\tlearn: 1674.4968940\ttotal: 1.74s\tremaining: 2.59s\n",
            "401:\tlearn: 1673.3296305\ttotal: 1.74s\tremaining: 2.58s\n",
            "402:\tlearn: 1672.0425386\ttotal: 1.74s\tremaining: 2.58s\n",
            "403:\tlearn: 1671.2877021\ttotal: 1.74s\tremaining: 2.57s\n",
            "404:\tlearn: 1670.3984515\ttotal: 1.74s\tremaining: 2.56s\n",
            "405:\tlearn: 1669.8135354\ttotal: 1.75s\tremaining: 2.56s\n",
            "406:\tlearn: 1669.0710780\ttotal: 1.75s\tremaining: 2.55s\n",
            "407:\tlearn: 1668.3531795\ttotal: 1.75s\tremaining: 2.54s\n",
            "408:\tlearn: 1667.5861979\ttotal: 1.75s\tremaining: 2.53s\n",
            "409:\tlearn: 1666.7194736\ttotal: 1.76s\tremaining: 2.53s\n",
            "410:\tlearn: 1666.7067321\ttotal: 1.76s\tremaining: 2.52s\n",
            "411:\tlearn: 1665.5592947\ttotal: 1.76s\tremaining: 2.52s\n",
            "412:\tlearn: 1665.1062650\ttotal: 1.77s\tremaining: 2.51s\n",
            "413:\tlearn: 1663.9251329\ttotal: 1.77s\tremaining: 2.51s\n",
            "414:\tlearn: 1663.9129314\ttotal: 1.77s\tremaining: 2.5s\n",
            "415:\tlearn: 1663.9020208\ttotal: 1.77s\tremaining: 2.49s\n",
            "416:\tlearn: 1663.1137638\ttotal: 1.78s\tremaining: 2.48s\n",
            "417:\tlearn: 1662.3663975\ttotal: 1.78s\tremaining: 2.48s\n",
            "418:\tlearn: 1661.1257343\ttotal: 1.78s\tremaining: 2.47s\n",
            "419:\tlearn: 1659.6847457\ttotal: 1.79s\tremaining: 2.47s\n",
            "420:\tlearn: 1659.6733069\ttotal: 1.79s\tremaining: 2.46s\n",
            "421:\tlearn: 1658.6095493\ttotal: 1.79s\tremaining: 2.45s\n",
            "422:\tlearn: 1658.1486583\ttotal: 1.8s\tremaining: 2.45s\n",
            "423:\tlearn: 1657.5413374\ttotal: 1.81s\tremaining: 2.46s\n",
            "424:\tlearn: 1656.8117753\ttotal: 1.82s\tremaining: 2.46s\n",
            "425:\tlearn: 1655.9527989\ttotal: 1.82s\tremaining: 2.45s\n",
            "426:\tlearn: 1655.8936752\ttotal: 1.83s\tremaining: 2.45s\n",
            "427:\tlearn: 1655.8758078\ttotal: 1.83s\tremaining: 2.45s\n",
            "428:\tlearn: 1655.3914614\ttotal: 1.83s\tremaining: 2.44s\n",
            "429:\tlearn: 1654.8376252\ttotal: 1.84s\tremaining: 2.44s\n",
            "430:\tlearn: 1653.6113151\ttotal: 1.84s\tremaining: 2.43s\n",
            "431:\tlearn: 1653.6033846\ttotal: 1.85s\tremaining: 2.43s\n",
            "432:\tlearn: 1652.7640563\ttotal: 1.85s\tremaining: 2.43s\n",
            "433:\tlearn: 1652.0148406\ttotal: 1.86s\tremaining: 2.42s\n",
            "434:\tlearn: 1651.2424217\ttotal: 1.87s\tremaining: 2.43s\n",
            "435:\tlearn: 1649.0734823\ttotal: 1.87s\tremaining: 2.42s\n",
            "436:\tlearn: 1647.9706188\ttotal: 1.88s\tremaining: 2.42s\n",
            "437:\tlearn: 1647.2341570\ttotal: 1.88s\tremaining: 2.42s\n",
            "438:\tlearn: 1646.1877825\ttotal: 1.89s\tremaining: 2.41s\n",
            "439:\tlearn: 1645.6065801\ttotal: 1.89s\tremaining: 2.41s\n",
            "440:\tlearn: 1645.5965036\ttotal: 1.9s\tremaining: 2.4s\n",
            "441:\tlearn: 1644.9139282\ttotal: 1.9s\tremaining: 2.4s\n",
            "442:\tlearn: 1644.3556189\ttotal: 1.91s\tremaining: 2.4s\n",
            "443:\tlearn: 1642.8566374\ttotal: 1.91s\tremaining: 2.39s\n",
            "444:\tlearn: 1641.8977234\ttotal: 1.92s\tremaining: 2.39s\n",
            "445:\tlearn: 1640.8293383\ttotal: 1.92s\tremaining: 2.38s\n",
            "446:\tlearn: 1640.0284111\ttotal: 1.93s\tremaining: 2.38s\n",
            "447:\tlearn: 1639.3132156\ttotal: 1.93s\tremaining: 2.38s\n",
            "448:\tlearn: 1638.4922836\ttotal: 1.93s\tremaining: 2.37s\n",
            "449:\tlearn: 1637.4337962\ttotal: 1.94s\tremaining: 2.37s\n",
            "450:\tlearn: 1636.7014453\ttotal: 1.94s\tremaining: 2.37s\n",
            "451:\tlearn: 1636.6511828\ttotal: 1.95s\tremaining: 2.36s\n",
            "452:\tlearn: 1635.6233911\ttotal: 1.95s\tremaining: 2.36s\n",
            "453:\tlearn: 1634.8711916\ttotal: 1.96s\tremaining: 2.35s\n",
            "454:\tlearn: 1634.3861321\ttotal: 1.96s\tremaining: 2.35s\n",
            "455:\tlearn: 1633.8159915\ttotal: 1.97s\tremaining: 2.35s\n",
            "456:\tlearn: 1632.9515111\ttotal: 1.97s\tremaining: 2.34s\n",
            "457:\tlearn: 1632.4331189\ttotal: 1.98s\tremaining: 2.34s\n",
            "458:\tlearn: 1631.5349362\ttotal: 1.98s\tremaining: 2.34s\n",
            "459:\tlearn: 1631.5094682\ttotal: 1.99s\tremaining: 2.33s\n",
            "460:\tlearn: 1630.4003218\ttotal: 1.99s\tremaining: 2.33s\n",
            "461:\tlearn: 1630.3317461\ttotal: 2s\tremaining: 2.33s\n",
            "462:\tlearn: 1629.7476035\ttotal: 2s\tremaining: 2.32s\n",
            "463:\tlearn: 1629.7377301\ttotal: 2.01s\tremaining: 2.32s\n",
            "464:\tlearn: 1628.9469568\ttotal: 2.01s\tremaining: 2.31s\n",
            "465:\tlearn: 1628.3305339\ttotal: 2.02s\tremaining: 2.31s\n",
            "466:\tlearn: 1627.9622402\ttotal: 2.02s\tremaining: 2.31s\n",
            "467:\tlearn: 1627.4584095\ttotal: 2.02s\tremaining: 2.3s\n",
            "468:\tlearn: 1626.7201754\ttotal: 2.03s\tremaining: 2.3s\n",
            "469:\tlearn: 1625.8291620\ttotal: 2.03s\tremaining: 2.29s\n",
            "470:\tlearn: 1625.3143091\ttotal: 2.04s\tremaining: 2.29s\n",
            "471:\tlearn: 1625.3064883\ttotal: 2.04s\tremaining: 2.29s\n",
            "472:\tlearn: 1624.3604748\ttotal: 2.05s\tremaining: 2.28s\n",
            "473:\tlearn: 1623.7668557\ttotal: 2.06s\tremaining: 2.28s\n",
            "474:\tlearn: 1623.1358202\ttotal: 2.06s\tremaining: 2.28s\n",
            "475:\tlearn: 1622.6036447\ttotal: 2.07s\tremaining: 2.28s\n",
            "476:\tlearn: 1621.9977671\ttotal: 2.07s\tremaining: 2.27s\n",
            "477:\tlearn: 1620.9688352\ttotal: 2.08s\tremaining: 2.27s\n",
            "478:\tlearn: 1620.3699773\ttotal: 2.08s\tremaining: 2.27s\n",
            "479:\tlearn: 1618.4402758\ttotal: 2.09s\tremaining: 2.26s\n",
            "480:\tlearn: 1617.6914441\ttotal: 2.09s\tremaining: 2.25s\n",
            "481:\tlearn: 1617.0804956\ttotal: 2.09s\tremaining: 2.25s\n",
            "482:\tlearn: 1616.0611491\ttotal: 2.09s\tremaining: 2.24s\n",
            "483:\tlearn: 1615.4226003\ttotal: 2.1s\tremaining: 2.24s\n",
            "484:\tlearn: 1614.5169660\ttotal: 2.11s\tremaining: 2.24s\n",
            "485:\tlearn: 1614.5109412\ttotal: 2.11s\tremaining: 2.23s\n",
            "486:\tlearn: 1614.0107123\ttotal: 2.11s\tremaining: 2.23s\n",
            "487:\tlearn: 1613.3125650\ttotal: 2.12s\tremaining: 2.22s\n",
            "488:\tlearn: 1612.5890351\ttotal: 2.12s\tremaining: 2.22s\n",
            "489:\tlearn: 1612.5821869\ttotal: 2.13s\tremaining: 2.22s\n",
            "490:\tlearn: 1611.7075721\ttotal: 2.13s\tremaining: 2.21s\n",
            "491:\tlearn: 1611.6995357\ttotal: 2.14s\tremaining: 2.21s\n",
            "492:\tlearn: 1610.9232680\ttotal: 2.14s\tremaining: 2.2s\n",
            "493:\tlearn: 1610.1337532\ttotal: 2.15s\tremaining: 2.2s\n",
            "494:\tlearn: 1609.4175330\ttotal: 2.15s\tremaining: 2.2s\n",
            "495:\tlearn: 1608.9383681\ttotal: 2.16s\tremaining: 2.19s\n",
            "496:\tlearn: 1608.2953724\ttotal: 2.16s\tremaining: 2.19s\n",
            "497:\tlearn: 1607.7858441\ttotal: 2.17s\tremaining: 2.19s\n",
            "498:\tlearn: 1607.7807148\ttotal: 2.17s\tremaining: 2.18s\n",
            "499:\tlearn: 1607.2686253\ttotal: 2.18s\tremaining: 2.18s\n",
            "500:\tlearn: 1606.8892919\ttotal: 2.18s\tremaining: 2.17s\n",
            "501:\tlearn: 1606.8843002\ttotal: 2.19s\tremaining: 2.17s\n",
            "502:\tlearn: 1606.5514718\ttotal: 2.19s\tremaining: 2.16s\n",
            "503:\tlearn: 1605.7904876\ttotal: 2.19s\tremaining: 2.16s\n",
            "504:\tlearn: 1605.7830545\ttotal: 2.2s\tremaining: 2.15s\n",
            "505:\tlearn: 1604.3440633\ttotal: 2.2s\tremaining: 2.15s\n",
            "506:\tlearn: 1603.6724544\ttotal: 2.21s\tremaining: 2.15s\n",
            "507:\tlearn: 1603.1789620\ttotal: 2.21s\tremaining: 2.14s\n",
            "508:\tlearn: 1602.5317857\ttotal: 2.22s\tremaining: 2.14s\n",
            "509:\tlearn: 1601.6360651\ttotal: 2.22s\tremaining: 2.13s\n",
            "510:\tlearn: 1601.1168584\ttotal: 2.23s\tremaining: 2.13s\n",
            "511:\tlearn: 1600.1409990\ttotal: 2.23s\tremaining: 2.13s\n",
            "512:\tlearn: 1598.8076771\ttotal: 2.24s\tremaining: 2.12s\n",
            "513:\tlearn: 1598.1491184\ttotal: 2.25s\tremaining: 2.13s\n",
            "514:\tlearn: 1597.8626225\ttotal: 2.25s\tremaining: 2.12s\n",
            "515:\tlearn: 1597.6143825\ttotal: 2.26s\tremaining: 2.12s\n",
            "516:\tlearn: 1596.4662235\ttotal: 2.26s\tremaining: 2.11s\n",
            "517:\tlearn: 1595.7400145\ttotal: 2.27s\tremaining: 2.11s\n",
            "518:\tlearn: 1595.0085465\ttotal: 2.27s\tremaining: 2.11s\n",
            "519:\tlearn: 1594.2497150\ttotal: 2.28s\tremaining: 2.1s\n",
            "520:\tlearn: 1594.2395205\ttotal: 2.28s\tremaining: 2.1s\n",
            "521:\tlearn: 1594.2342023\ttotal: 2.29s\tremaining: 2.09s\n",
            "522:\tlearn: 1593.7343689\ttotal: 2.29s\tremaining: 2.09s\n",
            "523:\tlearn: 1593.2990136\ttotal: 2.29s\tremaining: 2.08s\n",
            "524:\tlearn: 1593.2937802\ttotal: 2.3s\tremaining: 2.08s\n",
            "525:\tlearn: 1592.4805278\ttotal: 2.3s\tremaining: 2.08s\n",
            "526:\tlearn: 1591.3318756\ttotal: 2.31s\tremaining: 2.07s\n",
            "527:\tlearn: 1590.7243695\ttotal: 2.31s\tremaining: 2.07s\n",
            "528:\tlearn: 1590.6774548\ttotal: 2.32s\tremaining: 2.06s\n",
            "529:\tlearn: 1590.2788358\ttotal: 2.32s\tremaining: 2.06s\n",
            "530:\tlearn: 1589.4259231\ttotal: 2.33s\tremaining: 2.05s\n",
            "531:\tlearn: 1588.7541581\ttotal: 2.33s\tremaining: 2.05s\n",
            "532:\tlearn: 1588.7451407\ttotal: 2.34s\tremaining: 2.05s\n",
            "533:\tlearn: 1588.1264081\ttotal: 2.34s\tremaining: 2.04s\n",
            "534:\tlearn: 1587.4387665\ttotal: 2.34s\tremaining: 2.04s\n",
            "535:\tlearn: 1586.7819922\ttotal: 2.35s\tremaining: 2.03s\n",
            "536:\tlearn: 1585.9054589\ttotal: 2.35s\tremaining: 2.03s\n",
            "537:\tlearn: 1585.1963465\ttotal: 2.36s\tremaining: 2.02s\n",
            "538:\tlearn: 1584.4392699\ttotal: 2.36s\tremaining: 2.02s\n",
            "539:\tlearn: 1583.7659773\ttotal: 2.37s\tremaining: 2.02s\n",
            "540:\tlearn: 1583.0103901\ttotal: 2.37s\tremaining: 2.01s\n",
            "541:\tlearn: 1583.0039170\ttotal: 2.38s\tremaining: 2.01s\n",
            "542:\tlearn: 1582.7022752\ttotal: 2.38s\tremaining: 2.01s\n",
            "543:\tlearn: 1582.0544539\ttotal: 2.39s\tremaining: 2s\n",
            "544:\tlearn: 1581.7594818\ttotal: 2.39s\tremaining: 2s\n",
            "545:\tlearn: 1581.3736958\ttotal: 2.4s\tremaining: 1.99s\n",
            "546:\tlearn: 1580.7595848\ttotal: 2.4s\tremaining: 1.99s\n",
            "547:\tlearn: 1580.2740085\ttotal: 2.41s\tremaining: 1.99s\n",
            "548:\tlearn: 1578.8193755\ttotal: 2.41s\tremaining: 1.98s\n",
            "549:\tlearn: 1578.6005630\ttotal: 2.42s\tremaining: 1.98s\n",
            "550:\tlearn: 1578.5453546\ttotal: 2.42s\tremaining: 1.97s\n",
            "551:\tlearn: 1578.1050902\ttotal: 2.44s\tremaining: 1.98s\n",
            "552:\tlearn: 1577.7904733\ttotal: 2.44s\tremaining: 1.97s\n",
            "553:\tlearn: 1577.0619164\ttotal: 2.44s\tremaining: 1.97s\n",
            "554:\tlearn: 1576.3576558\ttotal: 2.45s\tremaining: 1.96s\n",
            "555:\tlearn: 1575.6724075\ttotal: 2.46s\tremaining: 1.96s\n",
            "556:\tlearn: 1575.2110090\ttotal: 2.46s\tremaining: 1.96s\n",
            "557:\tlearn: 1574.5653154\ttotal: 2.47s\tremaining: 1.95s\n",
            "558:\tlearn: 1573.1757996\ttotal: 2.47s\tremaining: 1.95s\n",
            "559:\tlearn: 1572.6625118\ttotal: 2.48s\tremaining: 1.95s\n",
            "560:\tlearn: 1571.8757508\ttotal: 2.48s\tremaining: 1.94s\n",
            "561:\tlearn: 1571.2519723\ttotal: 2.49s\tremaining: 1.94s\n",
            "562:\tlearn: 1570.6796646\ttotal: 2.49s\tremaining: 1.93s\n",
            "563:\tlearn: 1570.1033613\ttotal: 2.5s\tremaining: 1.93s\n",
            "564:\tlearn: 1568.9160185\ttotal: 2.5s\tremaining: 1.93s\n",
            "565:\tlearn: 1568.5164751\ttotal: 2.51s\tremaining: 1.92s\n",
            "566:\tlearn: 1567.9060385\ttotal: 2.51s\tremaining: 1.92s\n",
            "567:\tlearn: 1567.4387661\ttotal: 2.52s\tremaining: 1.92s\n",
            "568:\tlearn: 1567.0882239\ttotal: 2.52s\tremaining: 1.91s\n",
            "569:\tlearn: 1566.3842950\ttotal: 2.53s\tremaining: 1.91s\n",
            "570:\tlearn: 1565.4953245\ttotal: 2.53s\tremaining: 1.9s\n",
            "571:\tlearn: 1564.3934508\ttotal: 2.54s\tremaining: 1.9s\n",
            "572:\tlearn: 1563.5748092\ttotal: 2.54s\tremaining: 1.9s\n",
            "573:\tlearn: 1562.6186216\ttotal: 2.55s\tremaining: 1.89s\n",
            "574:\tlearn: 1562.3513167\ttotal: 2.55s\tremaining: 1.89s\n",
            "575:\tlearn: 1561.5528548\ttotal: 2.56s\tremaining: 1.88s\n",
            "576:\tlearn: 1560.7614094\ttotal: 2.56s\tremaining: 1.88s\n",
            "577:\tlearn: 1560.0601166\ttotal: 2.57s\tremaining: 1.88s\n",
            "578:\tlearn: 1559.2250822\ttotal: 2.57s\tremaining: 1.87s\n",
            "579:\tlearn: 1558.3712240\ttotal: 2.58s\tremaining: 1.87s\n",
            "580:\tlearn: 1558.3670241\ttotal: 2.58s\tremaining: 1.86s\n",
            "581:\tlearn: 1557.7630464\ttotal: 2.59s\tremaining: 1.86s\n",
            "582:\tlearn: 1557.1411342\ttotal: 2.59s\tremaining: 1.85s\n",
            "583:\tlearn: 1556.5069356\ttotal: 2.6s\tremaining: 1.85s\n",
            "584:\tlearn: 1556.0852295\ttotal: 2.6s\tremaining: 1.85s\n",
            "585:\tlearn: 1555.9384033\ttotal: 2.61s\tremaining: 1.84s\n",
            "586:\tlearn: 1555.4244309\ttotal: 2.61s\tremaining: 1.84s\n",
            "587:\tlearn: 1554.9536885\ttotal: 2.62s\tremaining: 1.84s\n",
            "588:\tlearn: 1554.5506445\ttotal: 2.63s\tremaining: 1.83s\n",
            "589:\tlearn: 1553.7435996\ttotal: 2.63s\tremaining: 1.83s\n",
            "590:\tlearn: 1553.1555125\ttotal: 2.64s\tremaining: 1.82s\n",
            "591:\tlearn: 1552.7449043\ttotal: 2.64s\tremaining: 1.82s\n",
            "592:\tlearn: 1552.5474571\ttotal: 2.64s\tremaining: 1.81s\n",
            "593:\tlearn: 1551.9465083\ttotal: 2.65s\tremaining: 1.81s\n",
            "594:\tlearn: 1551.9413036\ttotal: 2.65s\tremaining: 1.8s\n",
            "595:\tlearn: 1551.2965977\ttotal: 2.65s\tremaining: 1.8s\n",
            "596:\tlearn: 1550.7403946\ttotal: 2.66s\tremaining: 1.79s\n",
            "597:\tlearn: 1550.1027460\ttotal: 2.66s\tremaining: 1.79s\n",
            "598:\tlearn: 1550.0974462\ttotal: 2.67s\tremaining: 1.78s\n",
            "599:\tlearn: 1549.4200649\ttotal: 2.67s\tremaining: 1.78s\n",
            "600:\tlearn: 1548.9302156\ttotal: 2.67s\tremaining: 1.78s\n",
            "601:\tlearn: 1548.5106045\ttotal: 2.68s\tremaining: 1.77s\n",
            "602:\tlearn: 1548.2659990\ttotal: 2.68s\tremaining: 1.77s\n",
            "603:\tlearn: 1547.9753359\ttotal: 2.68s\tremaining: 1.76s\n",
            "604:\tlearn: 1547.0668429\ttotal: 2.69s\tremaining: 1.75s\n",
            "605:\tlearn: 1546.7331903\ttotal: 2.69s\tremaining: 1.75s\n",
            "606:\tlearn: 1546.2364320\ttotal: 2.69s\tremaining: 1.74s\n",
            "607:\tlearn: 1544.9458626\ttotal: 2.69s\tremaining: 1.74s\n",
            "608:\tlearn: 1544.1553853\ttotal: 2.69s\tremaining: 1.73s\n",
            "609:\tlearn: 1543.5227193\ttotal: 2.7s\tremaining: 1.72s\n",
            "610:\tlearn: 1543.1574970\ttotal: 2.7s\tremaining: 1.72s\n",
            "611:\tlearn: 1542.4043828\ttotal: 2.7s\tremaining: 1.71s\n",
            "612:\tlearn: 1542.4010298\ttotal: 2.7s\tremaining: 1.71s\n",
            "613:\tlearn: 1542.0254656\ttotal: 2.7s\tremaining: 1.7s\n",
            "614:\tlearn: 1542.0142688\ttotal: 2.71s\tremaining: 1.69s\n",
            "615:\tlearn: 1541.2754754\ttotal: 2.71s\tremaining: 1.69s\n",
            "616:\tlearn: 1540.7228919\ttotal: 2.71s\tremaining: 1.68s\n",
            "617:\tlearn: 1540.0521529\ttotal: 2.71s\tremaining: 1.68s\n",
            "618:\tlearn: 1539.2152924\ttotal: 2.71s\tremaining: 1.67s\n",
            "619:\tlearn: 1538.7370095\ttotal: 2.72s\tremaining: 1.66s\n",
            "620:\tlearn: 1537.7788906\ttotal: 2.72s\tremaining: 1.66s\n",
            "621:\tlearn: 1537.2246212\ttotal: 2.72s\tremaining: 1.65s\n",
            "622:\tlearn: 1536.7143343\ttotal: 2.72s\tremaining: 1.65s\n",
            "623:\tlearn: 1536.7094272\ttotal: 2.72s\tremaining: 1.64s\n",
            "624:\tlearn: 1536.3869153\ttotal: 2.73s\tremaining: 1.64s\n",
            "625:\tlearn: 1536.3574037\ttotal: 2.73s\tremaining: 1.63s\n",
            "626:\tlearn: 1535.8215118\ttotal: 2.73s\tremaining: 1.62s\n",
            "627:\tlearn: 1535.2411121\ttotal: 2.73s\tremaining: 1.62s\n",
            "628:\tlearn: 1535.2380104\ttotal: 2.73s\tremaining: 1.61s\n",
            "629:\tlearn: 1534.6060462\ttotal: 2.74s\tremaining: 1.61s\n",
            "630:\tlearn: 1534.1998505\ttotal: 2.74s\tremaining: 1.6s\n",
            "631:\tlearn: 1533.6898229\ttotal: 2.75s\tremaining: 1.6s\n",
            "632:\tlearn: 1533.0626316\ttotal: 2.75s\tremaining: 1.59s\n",
            "633:\tlearn: 1532.5284708\ttotal: 2.75s\tremaining: 1.59s\n",
            "634:\tlearn: 1531.9967798\ttotal: 2.75s\tremaining: 1.58s\n",
            "635:\tlearn: 1531.7112832\ttotal: 2.76s\tremaining: 1.58s\n",
            "636:\tlearn: 1531.3901547\ttotal: 2.76s\tremaining: 1.57s\n",
            "637:\tlearn: 1530.7413788\ttotal: 2.76s\tremaining: 1.57s\n",
            "638:\tlearn: 1530.1317663\ttotal: 2.76s\tremaining: 1.56s\n",
            "639:\tlearn: 1529.6674057\ttotal: 2.76s\tremaining: 1.55s\n",
            "640:\tlearn: 1529.5797087\ttotal: 2.77s\tremaining: 1.55s\n",
            "641:\tlearn: 1529.3125262\ttotal: 2.77s\tremaining: 1.54s\n",
            "642:\tlearn: 1528.4290349\ttotal: 2.77s\tremaining: 1.54s\n",
            "643:\tlearn: 1527.7665498\ttotal: 2.78s\tremaining: 1.54s\n",
            "644:\tlearn: 1527.4089215\ttotal: 2.78s\tremaining: 1.53s\n",
            "645:\tlearn: 1526.7499370\ttotal: 2.78s\tremaining: 1.53s\n",
            "646:\tlearn: 1526.3467652\ttotal: 2.79s\tremaining: 1.52s\n",
            "647:\tlearn: 1526.3267501\ttotal: 2.79s\tremaining: 1.51s\n",
            "648:\tlearn: 1525.9131676\ttotal: 2.79s\tremaining: 1.51s\n",
            "649:\tlearn: 1525.6620120\ttotal: 2.79s\tremaining: 1.5s\n",
            "650:\tlearn: 1525.6590803\ttotal: 2.79s\tremaining: 1.5s\n",
            "651:\tlearn: 1524.8513039\ttotal: 2.79s\tremaining: 1.49s\n",
            "652:\tlearn: 1524.5334338\ttotal: 2.8s\tremaining: 1.49s\n",
            "653:\tlearn: 1524.5301906\ttotal: 2.8s\tremaining: 1.48s\n",
            "654:\tlearn: 1524.5271545\ttotal: 2.8s\tremaining: 1.48s\n",
            "655:\tlearn: 1523.9203047\ttotal: 2.8s\tremaining: 1.47s\n",
            "656:\tlearn: 1522.9386881\ttotal: 2.81s\tremaining: 1.46s\n",
            "657:\tlearn: 1522.5753418\ttotal: 2.81s\tremaining: 1.46s\n",
            "658:\tlearn: 1522.2894435\ttotal: 2.81s\tremaining: 1.45s\n",
            "659:\tlearn: 1521.9275188\ttotal: 2.81s\tremaining: 1.45s\n",
            "660:\tlearn: 1521.4955870\ttotal: 2.82s\tremaining: 1.44s\n",
            "661:\tlearn: 1520.7148004\ttotal: 2.82s\tremaining: 1.44s\n",
            "662:\tlearn: 1519.9998460\ttotal: 2.82s\tremaining: 1.43s\n",
            "663:\tlearn: 1519.7088348\ttotal: 2.82s\tremaining: 1.43s\n",
            "664:\tlearn: 1519.0729125\ttotal: 2.83s\tremaining: 1.42s\n",
            "665:\tlearn: 1518.7245451\ttotal: 2.83s\tremaining: 1.42s\n",
            "666:\tlearn: 1518.3028210\ttotal: 2.83s\tremaining: 1.41s\n",
            "667:\tlearn: 1517.8963755\ttotal: 2.83s\tremaining: 1.41s\n",
            "668:\tlearn: 1517.2885171\ttotal: 2.83s\tremaining: 1.4s\n",
            "669:\tlearn: 1516.9046846\ttotal: 2.83s\tremaining: 1.4s\n",
            "670:\tlearn: 1516.5022226\ttotal: 2.84s\tremaining: 1.39s\n",
            "671:\tlearn: 1515.9625154\ttotal: 2.84s\tremaining: 1.39s\n",
            "672:\tlearn: 1515.3536848\ttotal: 2.84s\tremaining: 1.38s\n",
            "673:\tlearn: 1515.0966709\ttotal: 2.84s\tremaining: 1.38s\n",
            "674:\tlearn: 1514.9806153\ttotal: 2.85s\tremaining: 1.37s\n",
            "675:\tlearn: 1514.4884471\ttotal: 2.85s\tremaining: 1.36s\n",
            "676:\tlearn: 1514.1330009\ttotal: 2.85s\tremaining: 1.36s\n",
            "677:\tlearn: 1513.8630534\ttotal: 2.85s\tremaining: 1.35s\n",
            "678:\tlearn: 1513.2397942\ttotal: 2.85s\tremaining: 1.35s\n",
            "679:\tlearn: 1512.9611693\ttotal: 2.85s\tremaining: 1.34s\n",
            "680:\tlearn: 1512.9582960\ttotal: 2.86s\tremaining: 1.34s\n",
            "681:\tlearn: 1512.9537739\ttotal: 2.86s\tremaining: 1.33s\n",
            "682:\tlearn: 1512.6098269\ttotal: 2.86s\tremaining: 1.33s\n",
            "683:\tlearn: 1512.3345003\ttotal: 2.86s\tremaining: 1.32s\n",
            "684:\tlearn: 1511.4072115\ttotal: 2.86s\tremaining: 1.32s\n",
            "685:\tlearn: 1510.8253731\ttotal: 2.87s\tremaining: 1.31s\n",
            "686:\tlearn: 1510.0110239\ttotal: 2.87s\tremaining: 1.31s\n",
            "687:\tlearn: 1509.5392213\ttotal: 2.87s\tremaining: 1.3s\n",
            "688:\tlearn: 1508.9889445\ttotal: 2.87s\tremaining: 1.3s\n",
            "689:\tlearn: 1508.5729999\ttotal: 2.87s\tremaining: 1.29s\n",
            "690:\tlearn: 1508.2083591\ttotal: 2.88s\tremaining: 1.29s\n",
            "691:\tlearn: 1508.2039384\ttotal: 2.88s\tremaining: 1.28s\n",
            "692:\tlearn: 1507.6940263\ttotal: 2.88s\tremaining: 1.27s\n",
            "693:\tlearn: 1507.6896705\ttotal: 2.88s\tremaining: 1.27s\n",
            "694:\tlearn: 1507.2664677\ttotal: 2.88s\tremaining: 1.26s\n",
            "695:\tlearn: 1506.7337350\ttotal: 2.88s\tremaining: 1.26s\n",
            "696:\tlearn: 1506.0049773\ttotal: 2.89s\tremaining: 1.25s\n",
            "697:\tlearn: 1505.8498603\ttotal: 2.89s\tremaining: 1.25s\n",
            "698:\tlearn: 1505.1210197\ttotal: 2.89s\tremaining: 1.25s\n",
            "699:\tlearn: 1504.8431871\ttotal: 2.89s\tremaining: 1.24s\n",
            "700:\tlearn: 1504.0961695\ttotal: 2.9s\tremaining: 1.23s\n",
            "701:\tlearn: 1503.6307857\ttotal: 2.9s\tremaining: 1.23s\n",
            "702:\tlearn: 1503.4967588\ttotal: 2.9s\tremaining: 1.22s\n",
            "703:\tlearn: 1503.0202683\ttotal: 2.9s\tremaining: 1.22s\n",
            "704:\tlearn: 1502.5236424\ttotal: 2.9s\tremaining: 1.21s\n",
            "705:\tlearn: 1501.7091477\ttotal: 2.9s\tremaining: 1.21s\n",
            "706:\tlearn: 1501.2245641\ttotal: 2.91s\tremaining: 1.2s\n",
            "707:\tlearn: 1500.9280075\ttotal: 2.91s\tremaining: 1.2s\n",
            "708:\tlearn: 1500.6968915\ttotal: 2.91s\tremaining: 1.19s\n",
            "709:\tlearn: 1500.1111378\ttotal: 2.91s\tremaining: 1.19s\n",
            "710:\tlearn: 1498.9263314\ttotal: 2.91s\tremaining: 1.18s\n",
            "711:\tlearn: 1498.5003139\ttotal: 2.92s\tremaining: 1.18s\n",
            "712:\tlearn: 1498.1782580\ttotal: 2.92s\tremaining: 1.17s\n",
            "713:\tlearn: 1497.8717321\ttotal: 2.92s\tremaining: 1.17s\n",
            "714:\tlearn: 1497.3174835\ttotal: 2.92s\tremaining: 1.17s\n",
            "715:\tlearn: 1496.5960033\ttotal: 2.92s\tremaining: 1.16s\n",
            "716:\tlearn: 1496.3579503\ttotal: 2.93s\tremaining: 1.16s\n",
            "717:\tlearn: 1495.9380334\ttotal: 2.93s\tremaining: 1.15s\n",
            "718:\tlearn: 1495.6767789\ttotal: 2.93s\tremaining: 1.15s\n",
            "719:\tlearn: 1494.9828119\ttotal: 2.93s\tremaining: 1.14s\n",
            "720:\tlearn: 1494.6367972\ttotal: 2.93s\tremaining: 1.14s\n",
            "721:\tlearn: 1493.9308821\ttotal: 2.94s\tremaining: 1.13s\n",
            "722:\tlearn: 1493.4155117\ttotal: 2.94s\tremaining: 1.13s\n",
            "723:\tlearn: 1492.8999298\ttotal: 2.94s\tremaining: 1.12s\n",
            "724:\tlearn: 1492.5529815\ttotal: 2.94s\tremaining: 1.12s\n",
            "725:\tlearn: 1492.5503532\ttotal: 2.94s\tremaining: 1.11s\n",
            "726:\tlearn: 1491.9711517\ttotal: 2.95s\tremaining: 1.11s\n",
            "727:\tlearn: 1491.7256780\ttotal: 2.95s\tremaining: 1.1s\n",
            "728:\tlearn: 1491.2995945\ttotal: 2.95s\tremaining: 1.1s\n",
            "729:\tlearn: 1490.7823761\ttotal: 2.95s\tremaining: 1.09s\n",
            "730:\tlearn: 1490.6915808\ttotal: 2.95s\tremaining: 1.09s\n",
            "731:\tlearn: 1490.2825795\ttotal: 2.96s\tremaining: 1.08s\n",
            "732:\tlearn: 1489.8096143\ttotal: 2.96s\tremaining: 1.08s\n",
            "733:\tlearn: 1489.0787327\ttotal: 2.96s\tremaining: 1.07s\n",
            "734:\tlearn: 1488.6848412\ttotal: 2.96s\tremaining: 1.07s\n",
            "735:\tlearn: 1488.2467965\ttotal: 2.96s\tremaining: 1.06s\n",
            "736:\tlearn: 1487.7673546\ttotal: 2.97s\tremaining: 1.06s\n",
            "737:\tlearn: 1487.2625927\ttotal: 2.97s\tremaining: 1.05s\n",
            "738:\tlearn: 1487.0717932\ttotal: 2.97s\tremaining: 1.05s\n",
            "739:\tlearn: 1486.6336424\ttotal: 2.97s\tremaining: 1.04s\n",
            "740:\tlearn: 1486.6297844\ttotal: 2.97s\tremaining: 1.04s\n",
            "741:\tlearn: 1486.2286436\ttotal: 2.98s\tremaining: 1.03s\n",
            "742:\tlearn: 1485.6756219\ttotal: 2.98s\tremaining: 1.03s\n",
            "743:\tlearn: 1485.0652870\ttotal: 2.98s\tremaining: 1.02s\n",
            "744:\tlearn: 1484.2598052\ttotal: 2.98s\tremaining: 1.02s\n",
            "745:\tlearn: 1483.2192624\ttotal: 2.98s\tremaining: 1.01s\n",
            "746:\tlearn: 1483.1848552\ttotal: 2.98s\tremaining: 1.01s\n",
            "747:\tlearn: 1482.7831431\ttotal: 2.99s\tremaining: 1.01s\n",
            "748:\tlearn: 1482.4419482\ttotal: 2.99s\tremaining: 1s\n",
            "749:\tlearn: 1482.4395726\ttotal: 2.99s\tremaining: 997ms\n",
            "750:\tlearn: 1482.1383432\ttotal: 2.99s\tremaining: 992ms\n",
            "751:\tlearn: 1481.6705720\ttotal: 3s\tremaining: 988ms\n",
            "752:\tlearn: 1481.4897376\ttotal: 3s\tremaining: 983ms\n",
            "753:\tlearn: 1480.6698025\ttotal: 3s\tremaining: 979ms\n",
            "754:\tlearn: 1480.1352485\ttotal: 3s\tremaining: 975ms\n",
            "755:\tlearn: 1479.4421895\ttotal: 3.01s\tremaining: 971ms\n",
            "756:\tlearn: 1479.0443118\ttotal: 3.01s\tremaining: 966ms\n",
            "757:\tlearn: 1478.5472154\ttotal: 3.01s\tremaining: 962ms\n",
            "758:\tlearn: 1478.2617329\ttotal: 3.01s\tremaining: 957ms\n",
            "759:\tlearn: 1478.0570969\ttotal: 3.02s\tremaining: 952ms\n",
            "760:\tlearn: 1477.6051465\ttotal: 3.02s\tremaining: 948ms\n",
            "761:\tlearn: 1477.1409845\ttotal: 3.02s\tremaining: 943ms\n",
            "762:\tlearn: 1477.1366944\ttotal: 3.02s\tremaining: 939ms\n",
            "763:\tlearn: 1477.1338892\ttotal: 3.02s\tremaining: 934ms\n",
            "764:\tlearn: 1476.9078288\ttotal: 3.02s\tremaining: 929ms\n",
            "765:\tlearn: 1476.5919388\ttotal: 3.03s\tremaining: 925ms\n",
            "766:\tlearn: 1476.5171377\ttotal: 3.03s\tremaining: 920ms\n",
            "767:\tlearn: 1476.3300476\ttotal: 3.03s\tremaining: 916ms\n",
            "768:\tlearn: 1475.6407964\ttotal: 3.03s\tremaining: 911ms\n",
            "769:\tlearn: 1475.1979300\ttotal: 3.04s\tremaining: 907ms\n",
            "770:\tlearn: 1474.6973566\ttotal: 3.04s\tremaining: 902ms\n",
            "771:\tlearn: 1474.1779198\ttotal: 3.04s\tremaining: 898ms\n",
            "772:\tlearn: 1473.6828310\ttotal: 3.04s\tremaining: 893ms\n",
            "773:\tlearn: 1473.6801323\ttotal: 3.04s\tremaining: 888ms\n",
            "774:\tlearn: 1473.1537735\ttotal: 3.04s\tremaining: 884ms\n",
            "775:\tlearn: 1472.9480038\ttotal: 3.05s\tremaining: 880ms\n",
            "776:\tlearn: 1472.2181126\ttotal: 3.05s\tremaining: 875ms\n",
            "777:\tlearn: 1471.7818301\ttotal: 3.05s\tremaining: 871ms\n",
            "778:\tlearn: 1471.3164175\ttotal: 3.05s\tremaining: 866ms\n",
            "779:\tlearn: 1471.3137378\ttotal: 3.05s\tremaining: 862ms\n",
            "780:\tlearn: 1470.9590602\ttotal: 3.06s\tremaining: 857ms\n",
            "781:\tlearn: 1470.4539331\ttotal: 3.06s\tremaining: 853ms\n",
            "782:\tlearn: 1470.1037079\ttotal: 3.06s\tremaining: 848ms\n",
            "783:\tlearn: 1469.1716415\ttotal: 3.06s\tremaining: 844ms\n",
            "784:\tlearn: 1468.9403614\ttotal: 3.06s\tremaining: 839ms\n",
            "785:\tlearn: 1468.9365348\ttotal: 3.07s\tremaining: 835ms\n",
            "786:\tlearn: 1468.8198865\ttotal: 3.07s\tremaining: 830ms\n",
            "787:\tlearn: 1468.2589813\ttotal: 3.07s\tremaining: 826ms\n",
            "788:\tlearn: 1467.7694094\ttotal: 3.07s\tremaining: 822ms\n",
            "789:\tlearn: 1467.2378348\ttotal: 3.07s\tremaining: 817ms\n",
            "790:\tlearn: 1466.6867476\ttotal: 3.08s\tremaining: 813ms\n",
            "791:\tlearn: 1466.4481266\ttotal: 3.08s\tremaining: 808ms\n",
            "792:\tlearn: 1466.0195469\ttotal: 3.08s\tremaining: 804ms\n",
            "793:\tlearn: 1466.0162516\ttotal: 3.08s\tremaining: 800ms\n",
            "794:\tlearn: 1466.0121060\ttotal: 3.08s\tremaining: 795ms\n",
            "795:\tlearn: 1465.7921216\ttotal: 3.09s\tremaining: 791ms\n",
            "796:\tlearn: 1465.3405539\ttotal: 3.09s\tremaining: 787ms\n",
            "797:\tlearn: 1464.9464200\ttotal: 3.09s\tremaining: 783ms\n",
            "798:\tlearn: 1464.4432390\ttotal: 3.09s\tremaining: 779ms\n",
            "799:\tlearn: 1464.4407305\ttotal: 3.1s\tremaining: 774ms\n",
            "800:\tlearn: 1464.1203185\ttotal: 3.1s\tremaining: 770ms\n",
            "801:\tlearn: 1463.7842593\ttotal: 3.1s\tremaining: 766ms\n",
            "802:\tlearn: 1463.4886130\ttotal: 3.1s\tremaining: 761ms\n",
            "803:\tlearn: 1463.2387683\ttotal: 3.1s\tremaining: 757ms\n",
            "804:\tlearn: 1462.8313578\ttotal: 3.11s\tremaining: 753ms\n",
            "805:\tlearn: 1462.6017868\ttotal: 3.11s\tremaining: 748ms\n",
            "806:\tlearn: 1462.4316515\ttotal: 3.11s\tremaining: 744ms\n",
            "807:\tlearn: 1461.8332496\ttotal: 3.11s\tremaining: 740ms\n",
            "808:\tlearn: 1461.6465642\ttotal: 3.11s\tremaining: 735ms\n",
            "809:\tlearn: 1461.4781258\ttotal: 3.12s\tremaining: 731ms\n",
            "810:\tlearn: 1461.1209006\ttotal: 3.12s\tremaining: 727ms\n",
            "811:\tlearn: 1460.7002941\ttotal: 3.12s\tremaining: 722ms\n",
            "812:\tlearn: 1460.3450874\ttotal: 3.12s\tremaining: 718ms\n",
            "813:\tlearn: 1459.8216877\ttotal: 3.12s\tremaining: 714ms\n",
            "814:\tlearn: 1459.2279638\ttotal: 3.13s\tremaining: 710ms\n",
            "815:\tlearn: 1458.8274393\ttotal: 3.13s\tremaining: 705ms\n",
            "816:\tlearn: 1458.6059761\ttotal: 3.13s\tremaining: 701ms\n",
            "817:\tlearn: 1458.6040278\ttotal: 3.13s\tremaining: 697ms\n",
            "818:\tlearn: 1458.6003278\ttotal: 3.13s\tremaining: 692ms\n",
            "819:\tlearn: 1457.5833269\ttotal: 3.13s\tremaining: 688ms\n",
            "820:\tlearn: 1457.3004243\ttotal: 3.14s\tremaining: 684ms\n",
            "821:\tlearn: 1456.8507487\ttotal: 3.14s\tremaining: 680ms\n",
            "822:\tlearn: 1456.3956979\ttotal: 3.14s\tremaining: 676ms\n",
            "823:\tlearn: 1455.6548069\ttotal: 3.14s\tremaining: 671ms\n",
            "824:\tlearn: 1455.1132909\ttotal: 3.15s\tremaining: 667ms\n",
            "825:\tlearn: 1454.7832722\ttotal: 3.15s\tremaining: 663ms\n",
            "826:\tlearn: 1454.3364815\ttotal: 3.15s\tremaining: 659ms\n",
            "827:\tlearn: 1454.1236436\ttotal: 3.15s\tremaining: 655ms\n",
            "828:\tlearn: 1453.7228184\ttotal: 3.15s\tremaining: 650ms\n",
            "829:\tlearn: 1453.0717926\ttotal: 3.15s\tremaining: 646ms\n",
            "830:\tlearn: 1452.7422563\ttotal: 3.16s\tremaining: 642ms\n",
            "831:\tlearn: 1452.3497423\ttotal: 3.16s\tremaining: 638ms\n",
            "832:\tlearn: 1452.1931281\ttotal: 3.16s\tremaining: 634ms\n",
            "833:\tlearn: 1452.0197826\ttotal: 3.16s\tremaining: 630ms\n",
            "834:\tlearn: 1451.4269733\ttotal: 3.17s\tremaining: 625ms\n",
            "835:\tlearn: 1450.9282979\ttotal: 3.17s\tremaining: 621ms\n",
            "836:\tlearn: 1450.5972084\ttotal: 3.17s\tremaining: 617ms\n",
            "837:\tlearn: 1450.2966790\ttotal: 3.17s\tremaining: 613ms\n",
            "838:\tlearn: 1449.8151599\ttotal: 3.17s\tremaining: 609ms\n",
            "839:\tlearn: 1449.4885714\ttotal: 3.18s\tremaining: 605ms\n",
            "840:\tlearn: 1449.1391264\ttotal: 3.18s\tremaining: 601ms\n",
            "841:\tlearn: 1448.8283664\ttotal: 3.18s\tremaining: 597ms\n",
            "842:\tlearn: 1448.5122232\ttotal: 3.18s\tremaining: 593ms\n",
            "843:\tlearn: 1448.2571920\ttotal: 3.18s\tremaining: 589ms\n",
            "844:\tlearn: 1447.9988625\ttotal: 3.19s\tremaining: 584ms\n",
            "845:\tlearn: 1447.7810335\ttotal: 3.19s\tremaining: 580ms\n",
            "846:\tlearn: 1447.5391797\ttotal: 3.19s\tremaining: 576ms\n",
            "847:\tlearn: 1447.2654195\ttotal: 3.19s\tremaining: 573ms\n",
            "848:\tlearn: 1446.9389959\ttotal: 3.2s\tremaining: 569ms\n",
            "849:\tlearn: 1446.5716172\ttotal: 3.2s\tremaining: 565ms\n",
            "850:\tlearn: 1446.3622722\ttotal: 3.2s\tremaining: 561ms\n",
            "851:\tlearn: 1446.3583204\ttotal: 3.2s\tremaining: 557ms\n",
            "852:\tlearn: 1445.8831714\ttotal: 3.21s\tremaining: 553ms\n",
            "853:\tlearn: 1445.3194040\ttotal: 3.21s\tremaining: 549ms\n",
            "854:\tlearn: 1444.9692177\ttotal: 3.21s\tremaining: 545ms\n",
            "855:\tlearn: 1444.9017587\ttotal: 3.21s\tremaining: 541ms\n",
            "856:\tlearn: 1444.5609571\ttotal: 3.21s\tremaining: 537ms\n",
            "857:\tlearn: 1444.1281278\ttotal: 3.22s\tremaining: 532ms\n",
            "858:\tlearn: 1443.9967240\ttotal: 3.22s\tremaining: 528ms\n",
            "859:\tlearn: 1443.5781682\ttotal: 3.22s\tremaining: 524ms\n",
            "860:\tlearn: 1443.2678628\ttotal: 3.22s\tremaining: 520ms\n",
            "861:\tlearn: 1443.2031726\ttotal: 3.23s\tremaining: 516ms\n",
            "862:\tlearn: 1443.0320211\ttotal: 3.23s\tremaining: 512ms\n",
            "863:\tlearn: 1442.7373056\ttotal: 3.23s\tremaining: 508ms\n",
            "864:\tlearn: 1442.3124627\ttotal: 3.23s\tremaining: 504ms\n",
            "865:\tlearn: 1442.3091257\ttotal: 3.23s\tremaining: 500ms\n",
            "866:\tlearn: 1441.7809279\ttotal: 3.23s\tremaining: 496ms\n",
            "867:\tlearn: 1441.6266369\ttotal: 3.24s\tremaining: 492ms\n",
            "868:\tlearn: 1441.4770548\ttotal: 3.24s\tremaining: 488ms\n",
            "869:\tlearn: 1441.3138175\ttotal: 3.24s\tremaining: 484ms\n",
            "870:\tlearn: 1440.8453966\ttotal: 3.24s\tremaining: 480ms\n",
            "871:\tlearn: 1440.5893895\ttotal: 3.24s\tremaining: 476ms\n",
            "872:\tlearn: 1440.4814841\ttotal: 3.25s\tremaining: 472ms\n",
            "873:\tlearn: 1440.4189430\ttotal: 3.25s\tremaining: 468ms\n",
            "874:\tlearn: 1440.4168150\ttotal: 3.25s\tremaining: 464ms\n",
            "875:\tlearn: 1440.4134247\ttotal: 3.25s\tremaining: 460ms\n",
            "876:\tlearn: 1440.1888814\ttotal: 3.25s\tremaining: 456ms\n",
            "877:\tlearn: 1439.8345050\ttotal: 3.25s\tremaining: 452ms\n",
            "878:\tlearn: 1439.4806511\ttotal: 3.26s\tremaining: 448ms\n",
            "879:\tlearn: 1439.2028904\ttotal: 3.26s\tremaining: 445ms\n",
            "880:\tlearn: 1438.7472496\ttotal: 3.26s\tremaining: 441ms\n",
            "881:\tlearn: 1438.5670982\ttotal: 3.26s\tremaining: 437ms\n",
            "882:\tlearn: 1438.5641485\ttotal: 3.27s\tremaining: 433ms\n",
            "883:\tlearn: 1437.9403800\ttotal: 3.27s\tremaining: 429ms\n",
            "884:\tlearn: 1437.5493199\ttotal: 3.27s\tremaining: 425ms\n",
            "885:\tlearn: 1436.9101397\ttotal: 3.27s\tremaining: 421ms\n",
            "886:\tlearn: 1436.3980361\ttotal: 3.27s\tremaining: 417ms\n",
            "887:\tlearn: 1436.0231152\ttotal: 3.27s\tremaining: 413ms\n",
            "888:\tlearn: 1435.5457145\ttotal: 3.28s\tremaining: 409ms\n",
            "889:\tlearn: 1435.2861676\ttotal: 3.28s\tremaining: 405ms\n",
            "890:\tlearn: 1435.2842827\ttotal: 3.28s\tremaining: 401ms\n",
            "891:\tlearn: 1434.9485688\ttotal: 3.28s\tremaining: 398ms\n",
            "892:\tlearn: 1434.4647108\ttotal: 3.29s\tremaining: 394ms\n",
            "893:\tlearn: 1434.0763276\ttotal: 3.29s\tremaining: 390ms\n",
            "894:\tlearn: 1433.8096544\ttotal: 3.29s\tremaining: 386ms\n",
            "895:\tlearn: 1433.8080976\ttotal: 3.29s\tremaining: 382ms\n",
            "896:\tlearn: 1433.4302034\ttotal: 3.29s\tremaining: 378ms\n",
            "897:\tlearn: 1433.0685407\ttotal: 3.29s\tremaining: 374ms\n",
            "898:\tlearn: 1432.7477405\ttotal: 3.3s\tremaining: 370ms\n",
            "899:\tlearn: 1432.4168701\ttotal: 3.3s\tremaining: 367ms\n",
            "900:\tlearn: 1432.0883090\ttotal: 3.3s\tremaining: 363ms\n",
            "901:\tlearn: 1431.6808843\ttotal: 3.3s\tremaining: 359ms\n",
            "902:\tlearn: 1431.3136350\ttotal: 3.31s\tremaining: 355ms\n",
            "903:\tlearn: 1431.1017034\ttotal: 3.31s\tremaining: 351ms\n",
            "904:\tlearn: 1430.7038956\ttotal: 3.31s\tremaining: 347ms\n",
            "905:\tlearn: 1430.3659010\ttotal: 3.31s\tremaining: 344ms\n",
            "906:\tlearn: 1430.2852661\ttotal: 3.31s\tremaining: 340ms\n",
            "907:\tlearn: 1429.6312476\ttotal: 3.31s\tremaining: 336ms\n",
            "908:\tlearn: 1429.5319200\ttotal: 3.32s\tremaining: 332ms\n",
            "909:\tlearn: 1429.4336407\ttotal: 3.32s\tremaining: 328ms\n",
            "910:\tlearn: 1429.0012968\ttotal: 3.32s\tremaining: 324ms\n",
            "911:\tlearn: 1428.5440316\ttotal: 3.32s\tremaining: 321ms\n",
            "912:\tlearn: 1428.5412944\ttotal: 3.32s\tremaining: 317ms\n",
            "913:\tlearn: 1428.0742534\ttotal: 3.33s\tremaining: 313ms\n",
            "914:\tlearn: 1427.6730743\ttotal: 3.33s\tremaining: 309ms\n",
            "915:\tlearn: 1427.4568720\ttotal: 3.33s\tremaining: 305ms\n",
            "916:\tlearn: 1427.0954844\ttotal: 3.33s\tremaining: 302ms\n",
            "917:\tlearn: 1426.9366839\ttotal: 3.33s\tremaining: 298ms\n",
            "918:\tlearn: 1426.6813388\ttotal: 3.34s\tremaining: 294ms\n",
            "919:\tlearn: 1426.4727369\ttotal: 3.34s\tremaining: 290ms\n",
            "920:\tlearn: 1425.8065575\ttotal: 3.34s\tremaining: 287ms\n",
            "921:\tlearn: 1425.4383787\ttotal: 3.34s\tremaining: 283ms\n",
            "922:\tlearn: 1425.3379628\ttotal: 3.34s\tremaining: 279ms\n",
            "923:\tlearn: 1424.9616135\ttotal: 3.35s\tremaining: 275ms\n",
            "924:\tlearn: 1424.6244477\ttotal: 3.35s\tremaining: 271ms\n",
            "925:\tlearn: 1424.5101258\ttotal: 3.35s\tremaining: 268ms\n",
            "926:\tlearn: 1423.7127644\ttotal: 3.35s\tremaining: 264ms\n",
            "927:\tlearn: 1423.1616805\ttotal: 3.35s\tremaining: 260ms\n",
            "928:\tlearn: 1422.8866592\ttotal: 3.36s\tremaining: 257ms\n",
            "929:\tlearn: 1422.6508425\ttotal: 3.36s\tremaining: 253ms\n",
            "930:\tlearn: 1422.1944665\ttotal: 3.36s\tremaining: 249ms\n",
            "931:\tlearn: 1421.8175894\ttotal: 3.36s\tremaining: 245ms\n",
            "932:\tlearn: 1421.3839682\ttotal: 3.36s\tremaining: 242ms\n",
            "933:\tlearn: 1420.8144125\ttotal: 3.37s\tremaining: 238ms\n",
            "934:\tlearn: 1420.4211554\ttotal: 3.37s\tremaining: 234ms\n",
            "935:\tlearn: 1419.6126410\ttotal: 3.37s\tremaining: 230ms\n",
            "936:\tlearn: 1419.3165205\ttotal: 3.37s\tremaining: 227ms\n",
            "937:\tlearn: 1418.9423710\ttotal: 3.37s\tremaining: 223ms\n",
            "938:\tlearn: 1418.2763924\ttotal: 3.38s\tremaining: 219ms\n",
            "939:\tlearn: 1418.1169155\ttotal: 3.38s\tremaining: 216ms\n",
            "940:\tlearn: 1417.5612620\ttotal: 3.38s\tremaining: 212ms\n",
            "941:\tlearn: 1417.4670040\ttotal: 3.39s\tremaining: 208ms\n",
            "942:\tlearn: 1417.3760279\ttotal: 3.39s\tremaining: 205ms\n",
            "943:\tlearn: 1416.9267376\ttotal: 3.39s\tremaining: 201ms\n",
            "944:\tlearn: 1416.5505930\ttotal: 3.4s\tremaining: 198ms\n",
            "945:\tlearn: 1416.1936115\ttotal: 3.4s\tremaining: 194ms\n",
            "946:\tlearn: 1416.1115599\ttotal: 3.4s\tremaining: 190ms\n",
            "947:\tlearn: 1415.2080120\ttotal: 3.4s\tremaining: 187ms\n",
            "948:\tlearn: 1414.8647845\ttotal: 3.4s\tremaining: 183ms\n",
            "949:\tlearn: 1414.4300006\ttotal: 3.4s\tremaining: 179ms\n",
            "950:\tlearn: 1413.9990471\ttotal: 3.41s\tremaining: 176ms\n",
            "951:\tlearn: 1413.5043901\ttotal: 3.41s\tremaining: 172ms\n",
            "952:\tlearn: 1413.1756953\ttotal: 3.41s\tremaining: 168ms\n",
            "953:\tlearn: 1412.8904657\ttotal: 3.41s\tremaining: 165ms\n",
            "954:\tlearn: 1412.6445377\ttotal: 3.42s\tremaining: 161ms\n",
            "955:\tlearn: 1412.6417853\ttotal: 3.42s\tremaining: 157ms\n",
            "956:\tlearn: 1412.6201514\ttotal: 3.42s\tremaining: 154ms\n",
            "957:\tlearn: 1412.2696695\ttotal: 3.42s\tremaining: 150ms\n",
            "958:\tlearn: 1412.0472322\ttotal: 3.42s\tremaining: 146ms\n",
            "959:\tlearn: 1411.8732485\ttotal: 3.42s\tremaining: 143ms\n",
            "960:\tlearn: 1411.4802503\ttotal: 3.43s\tremaining: 139ms\n",
            "961:\tlearn: 1411.0777917\ttotal: 3.43s\tremaining: 135ms\n",
            "962:\tlearn: 1410.6046366\ttotal: 3.43s\tremaining: 132ms\n",
            "963:\tlearn: 1410.1885444\ttotal: 3.43s\tremaining: 128ms\n",
            "964:\tlearn: 1409.8607182\ttotal: 3.44s\tremaining: 125ms\n",
            "965:\tlearn: 1409.3551953\ttotal: 3.44s\tremaining: 121ms\n",
            "966:\tlearn: 1409.1930304\ttotal: 3.44s\tremaining: 117ms\n",
            "967:\tlearn: 1408.7031163\ttotal: 3.44s\tremaining: 114ms\n",
            "968:\tlearn: 1408.6134582\ttotal: 3.44s\tremaining: 110ms\n",
            "969:\tlearn: 1408.2845765\ttotal: 3.44s\tremaining: 107ms\n",
            "970:\tlearn: 1407.9471053\ttotal: 3.45s\tremaining: 103ms\n",
            "971:\tlearn: 1407.9446839\ttotal: 3.45s\tremaining: 99.4ms\n",
            "972:\tlearn: 1407.7538686\ttotal: 3.45s\tremaining: 95.8ms\n",
            "973:\tlearn: 1407.5390575\ttotal: 3.45s\tremaining: 92.2ms\n",
            "974:\tlearn: 1407.3172501\ttotal: 3.46s\tremaining: 88.6ms\n",
            "975:\tlearn: 1406.9542261\ttotal: 3.46s\tremaining: 85ms\n",
            "976:\tlearn: 1406.6906908\ttotal: 3.46s\tremaining: 81.4ms\n",
            "977:\tlearn: 1406.5284250\ttotal: 3.46s\tremaining: 77.9ms\n",
            "978:\tlearn: 1406.3022867\ttotal: 3.46s\tremaining: 74.3ms\n",
            "979:\tlearn: 1405.9187172\ttotal: 3.46s\tremaining: 70.7ms\n",
            "980:\tlearn: 1405.2746908\ttotal: 3.47s\tremaining: 67.2ms\n",
            "981:\tlearn: 1405.0945060\ttotal: 3.47s\tremaining: 63.6ms\n",
            "982:\tlearn: 1404.6519871\ttotal: 3.47s\tremaining: 60ms\n",
            "983:\tlearn: 1404.2592571\ttotal: 3.47s\tremaining: 56.5ms\n",
            "984:\tlearn: 1404.0541623\ttotal: 3.48s\tremaining: 52.9ms\n",
            "985:\tlearn: 1403.6960618\ttotal: 3.48s\tremaining: 49.4ms\n",
            "986:\tlearn: 1403.4109863\ttotal: 3.48s\tremaining: 45.8ms\n",
            "987:\tlearn: 1403.1374825\ttotal: 3.48s\tremaining: 42.3ms\n",
            "988:\tlearn: 1402.6220507\ttotal: 3.48s\tremaining: 38.7ms\n",
            "989:\tlearn: 1402.4110799\ttotal: 3.48s\tremaining: 35.2ms\n",
            "990:\tlearn: 1402.1670265\ttotal: 3.49s\tremaining: 31.7ms\n",
            "991:\tlearn: 1402.0511266\ttotal: 3.49s\tremaining: 28.1ms\n",
            "992:\tlearn: 1401.9432650\ttotal: 3.49s\tremaining: 24.6ms\n",
            "993:\tlearn: 1401.7068627\ttotal: 3.49s\tremaining: 21.1ms\n",
            "994:\tlearn: 1401.2784169\ttotal: 3.5s\tremaining: 17.6ms\n",
            "995:\tlearn: 1401.1914028\ttotal: 3.5s\tremaining: 14ms\n",
            "996:\tlearn: 1400.5979870\ttotal: 3.5s\tremaining: 10.5ms\n",
            "997:\tlearn: 1399.8580133\ttotal: 3.5s\tremaining: 7.02ms\n",
            "998:\tlearn: 1399.6210936\ttotal: 3.5s\tremaining: 3.51ms\n",
            "999:\tlearn: 1399.3300415\ttotal: 3.51s\tremaining: 0us\n"
          ]
        },
        {
          "output_type": "execute_result",
          "data": {
            "text/plain": [
              "<catboost.core.CatBoostRegressor at 0x7f2960cd7370>"
            ]
          },
          "metadata": {},
          "execution_count": 61
        }
      ],
      "source": [
        "from catboost import CatBoostRegressor\n",
        "\n",
        "cat=CatBoostRegressor()\n",
        "cat.fit(X_train,y_train)"
      ]
    },
    {
      "cell_type": "code",
      "execution_count": null,
      "metadata": {
        "id": "6JscwIrClq4I"
      },
      "outputs": [],
      "source": []
    },
    {
      "cell_type": "code",
      "execution_count": null,
      "metadata": {
        "id": "d2DinwMplq4I"
      },
      "outputs": [],
      "source": [
        "cat_pred=cat.predict(X_test)"
      ]
    },
    {
      "cell_type": "code",
      "execution_count": null,
      "metadata": {
        "colab": {
          "base_uri": "https://localhost:8080/"
        },
        "id": "FGv3SQvDlq4I",
        "outputId": "74cdd65b-75c5-42c8-9d36-d493ffc37b1d"
      },
      "outputs": [
        {
          "output_type": "execute_result",
          "data": {
            "text/plain": [
              "0.8273858089678572"
            ]
          },
          "metadata": {},
          "execution_count": 63
        }
      ],
      "source": [
        "r2_score(y_test,cat_pred)"
      ]
    },
    {
      "cell_type": "code",
      "execution_count": null,
      "metadata": {
        "colab": {
          "base_uri": "https://localhost:8080/"
        },
        "id": "aXOJ_fKxlq4I",
        "outputId": "2890aaa5-3fe5-4ee9-d026-19c1435286e4"
      },
      "outputs": [
        {
          "output_type": "stream",
          "name": "stdout",
          "text": [
            "Looking in indexes: https://pypi.org/simple, https://us-python.pkg.dev/colab-wheels/public/simple/\n",
            "Requirement already satisfied: lightgbm in /usr/local/lib/python3.10/dist-packages (3.3.5)\n",
            "Requirement already satisfied: wheel in /usr/local/lib/python3.10/dist-packages (from lightgbm) (0.40.0)\n",
            "Requirement already satisfied: numpy in /usr/local/lib/python3.10/dist-packages (from lightgbm) (1.22.4)\n",
            "Requirement already satisfied: scipy in /usr/local/lib/python3.10/dist-packages (from lightgbm) (1.10.1)\n",
            "Requirement already satisfied: scikit-learn!=0.22.0 in /usr/local/lib/python3.10/dist-packages (from lightgbm) (1.2.2)\n",
            "Requirement already satisfied: joblib>=1.1.1 in /usr/local/lib/python3.10/dist-packages (from scikit-learn!=0.22.0->lightgbm) (1.2.0)\n",
            "Requirement already satisfied: threadpoolctl>=2.0.0 in /usr/local/lib/python3.10/dist-packages (from scikit-learn!=0.22.0->lightgbm) (3.1.0)\n"
          ]
        }
      ],
      "source": [
        "!pip install lightgbm"
      ]
    },
    {
      "cell_type": "code",
      "execution_count": null,
      "metadata": {
        "id": "buIlm_bBlq4J"
      },
      "outputs": [],
      "source": [
        "X_train[['duration_hr','duration_min']]=X_train[['duration_hr','duration_min']].astype(int)\n",
        "X_test[['duration_hr','duration_min']]=X_test[['duration_hr','duration_min']].astype(int)"
      ]
    },
    {
      "cell_type": "code",
      "execution_count": null,
      "metadata": {
        "colab": {
          "base_uri": "https://localhost:8080/",
          "height": 74
        },
        "id": "75P301ihlq4J",
        "outputId": "bb2e79d3-982a-4175-92fd-fa23167ea8aa"
      },
      "outputs": [
        {
          "output_type": "execute_result",
          "data": {
            "text/plain": [
              "LGBMRegressor()"
            ],
            "text/html": [
              "<style>#sk-container-id-3 {color: black;background-color: white;}#sk-container-id-3 pre{padding: 0;}#sk-container-id-3 div.sk-toggleable {background-color: white;}#sk-container-id-3 label.sk-toggleable__label {cursor: pointer;display: block;width: 100%;margin-bottom: 0;padding: 0.3em;box-sizing: border-box;text-align: center;}#sk-container-id-3 label.sk-toggleable__label-arrow:before {content: \"▸\";float: left;margin-right: 0.25em;color: #696969;}#sk-container-id-3 label.sk-toggleable__label-arrow:hover:before {color: black;}#sk-container-id-3 div.sk-estimator:hover label.sk-toggleable__label-arrow:before {color: black;}#sk-container-id-3 div.sk-toggleable__content {max-height: 0;max-width: 0;overflow: hidden;text-align: left;background-color: #f0f8ff;}#sk-container-id-3 div.sk-toggleable__content pre {margin: 0.2em;color: black;border-radius: 0.25em;background-color: #f0f8ff;}#sk-container-id-3 input.sk-toggleable__control:checked~div.sk-toggleable__content {max-height: 200px;max-width: 100%;overflow: auto;}#sk-container-id-3 input.sk-toggleable__control:checked~label.sk-toggleable__label-arrow:before {content: \"▾\";}#sk-container-id-3 div.sk-estimator input.sk-toggleable__control:checked~label.sk-toggleable__label {background-color: #d4ebff;}#sk-container-id-3 div.sk-label input.sk-toggleable__control:checked~label.sk-toggleable__label {background-color: #d4ebff;}#sk-container-id-3 input.sk-hidden--visually {border: 0;clip: rect(1px 1px 1px 1px);clip: rect(1px, 1px, 1px, 1px);height: 1px;margin: -1px;overflow: hidden;padding: 0;position: absolute;width: 1px;}#sk-container-id-3 div.sk-estimator {font-family: monospace;background-color: #f0f8ff;border: 1px dotted black;border-radius: 0.25em;box-sizing: border-box;margin-bottom: 0.5em;}#sk-container-id-3 div.sk-estimator:hover {background-color: #d4ebff;}#sk-container-id-3 div.sk-parallel-item::after {content: \"\";width: 100%;border-bottom: 1px solid gray;flex-grow: 1;}#sk-container-id-3 div.sk-label:hover label.sk-toggleable__label {background-color: #d4ebff;}#sk-container-id-3 div.sk-serial::before {content: \"\";position: absolute;border-left: 1px solid gray;box-sizing: border-box;top: 0;bottom: 0;left: 50%;z-index: 0;}#sk-container-id-3 div.sk-serial {display: flex;flex-direction: column;align-items: center;background-color: white;padding-right: 0.2em;padding-left: 0.2em;position: relative;}#sk-container-id-3 div.sk-item {position: relative;z-index: 1;}#sk-container-id-3 div.sk-parallel {display: flex;align-items: stretch;justify-content: center;background-color: white;position: relative;}#sk-container-id-3 div.sk-item::before, #sk-container-id-3 div.sk-parallel-item::before {content: \"\";position: absolute;border-left: 1px solid gray;box-sizing: border-box;top: 0;bottom: 0;left: 50%;z-index: -1;}#sk-container-id-3 div.sk-parallel-item {display: flex;flex-direction: column;z-index: 1;position: relative;background-color: white;}#sk-container-id-3 div.sk-parallel-item:first-child::after {align-self: flex-end;width: 50%;}#sk-container-id-3 div.sk-parallel-item:last-child::after {align-self: flex-start;width: 50%;}#sk-container-id-3 div.sk-parallel-item:only-child::after {width: 0;}#sk-container-id-3 div.sk-dashed-wrapped {border: 1px dashed gray;margin: 0 0.4em 0.5em 0.4em;box-sizing: border-box;padding-bottom: 0.4em;background-color: white;}#sk-container-id-3 div.sk-label label {font-family: monospace;font-weight: bold;display: inline-block;line-height: 1.2em;}#sk-container-id-3 div.sk-label-container {text-align: center;}#sk-container-id-3 div.sk-container {/* jupyter's `normalize.less` sets `[hidden] { display: none; }` but bootstrap.min.css set `[hidden] { display: none !important; }` so we also need the `!important` here to be able to override the default hidden behavior on the sphinx rendered scikit-learn.org. See: https://github.com/scikit-learn/scikit-learn/issues/21755 */display: inline-block !important;position: relative;}#sk-container-id-3 div.sk-text-repr-fallback {display: none;}</style><div id=\"sk-container-id-3\" class=\"sk-top-container\"><div class=\"sk-text-repr-fallback\"><pre>LGBMRegressor()</pre><b>In a Jupyter environment, please rerun this cell to show the HTML representation or trust the notebook. <br />On GitHub, the HTML representation is unable to render, please try loading this page with nbviewer.org.</b></div><div class=\"sk-container\" hidden><div class=\"sk-item\"><div class=\"sk-estimator sk-toggleable\"><input class=\"sk-toggleable__control sk-hidden--visually\" id=\"sk-estimator-id-5\" type=\"checkbox\" checked><label for=\"sk-estimator-id-5\" class=\"sk-toggleable__label sk-toggleable__label-arrow\">LGBMRegressor</label><div class=\"sk-toggleable__content\"><pre>LGBMRegressor()</pre></div></div></div></div></div>"
            ]
          },
          "metadata": {},
          "execution_count": 66
        }
      ],
      "source": [
        "from lightgbm import LGBMRegressor\n",
        "\n",
        "lgb_model = LGBMRegressor()\n",
        "lgb_model.fit(X_train,y_train)"
      ]
    },
    {
      "cell_type": "code",
      "execution_count": null,
      "metadata": {
        "colab": {
          "base_uri": "https://localhost:8080/"
        },
        "id": "vQIPZw_klq4J",
        "outputId": "d300f17f-5226-4683-8701-85c22893db7d"
      },
      "outputs": [
        {
          "output_type": "execute_result",
          "data": {
            "text/plain": [
              "0.8030064936005559"
            ]
          },
          "metadata": {},
          "execution_count": 67
        }
      ],
      "source": [
        "lgb_pred=lgb_model.predict(X_test)\n",
        "r2_score(y_test,lgb_pred)"
      ]
    },
    {
      "cell_type": "code",
      "execution_count": null,
      "metadata": {
        "id": "pIel_Krvlq4J"
      },
      "outputs": [],
      "source": []
    },
    {
      "cell_type": "code",
      "execution_count": null,
      "metadata": {
        "colab": {
          "base_uri": "https://localhost:8080/"
        },
        "id": "-DCpzWublq4J",
        "outputId": "0bdaf0e9-47d8-4d58-cd4c-68f59e315b8f"
      },
      "outputs": [
        {
          "output_type": "stream",
          "name": "stdout",
          "text": [
            "Looking in indexes: https://pypi.org/simple, https://us-python.pkg.dev/colab-wheels/public/simple/\n",
            "Requirement already satisfied: xgboost in /usr/local/lib/python3.10/dist-packages (1.7.6)\n",
            "Requirement already satisfied: numpy in /usr/local/lib/python3.10/dist-packages (from xgboost) (1.22.4)\n",
            "Requirement already satisfied: scipy in /usr/local/lib/python3.10/dist-packages (from xgboost) (1.10.1)\n"
          ]
        }
      ],
      "source": [
        "!pip install xgboost"
      ]
    },
    {
      "cell_type": "code",
      "execution_count": null,
      "metadata": {
        "colab": {
          "base_uri": "https://localhost:8080/"
        },
        "id": "zjLvve9tlq4J",
        "outputId": "cf85c3cd-182b-4e79-920f-20946a7ac584"
      },
      "outputs": [
        {
          "output_type": "execute_result",
          "data": {
            "text/plain": [
              "0.8212496825906317"
            ]
          },
          "metadata": {},
          "execution_count": 69
        }
      ],
      "source": [
        "import xgboost as xgb\n",
        "xgb_model=xgb.XGBRegressor()\n",
        "xgb_model.fit(X_train,y_train)\n",
        "xgb_pred=xgb_model.predict(X_test)\n",
        "r2_score(y_test,xgb_pred)"
      ]
    },
    {
      "cell_type": "code",
      "execution_count": null,
      "metadata": {
        "colab": {
          "base_uri": "https://localhost:8080/",
          "height": 351
        },
        "id": "ARHkLANKlq4K",
        "outputId": "9220fe9b-7a56-4199-f200-4714718625d6"
      },
      "outputs": [
        {
          "output_type": "execute_result",
          "data": {
            "text/plain": [
              "   Air India  GoAir  IndiGo  Jet Airways  Jet Airways Business  \\\n",
              "0          0      0       1            0                     0   \n",
              "1          1      0       0            0                     0   \n",
              "2          0      0       0            1                     0   \n",
              "3          0      0       1            0                     0   \n",
              "4          0      0       1            0                     0   \n",
              "\n",
              "   Multiple carriers  Multiple carriers Premium economy  SpiceJet  Trujet  \\\n",
              "0                  0                                  0         0       0   \n",
              "1                  0                                  0         0       0   \n",
              "2                  0                                  0         0       0   \n",
              "3                  0                                  0         0       0   \n",
              "4                  0                                  0         0       0   \n",
              "\n",
              "   Vistara  ...  Additional_Info  Price  Day_of_Journey  Month_of_Journey  \\\n",
              "0        0  ...          No info   3897              24                 3   \n",
              "1        0  ...          No info   7662               5                 1   \n",
              "2        0  ...          No info  13882               6                 9   \n",
              "3        0  ...          No info   6218               5                12   \n",
              "4        0  ...          No info  13302               3                 1   \n",
              "\n",
              "   Dep_hr  Dep_min  Arrival_hr  Arrival_min  duration_hr duration_min  \n",
              "0      22       20           1           10            2           50  \n",
              "1       5       50          13           15            7           25  \n",
              "2       9       25           4           25           19           00  \n",
              "3      18        5          23           30            5           25  \n",
              "4      16       50          21           35            4           45  \n",
              "\n",
              "[5 rows x 31 columns]"
            ],
            "text/html": [
              "\n",
              "  <div id=\"df-242da6a3-56df-4fb3-aa66-ee195dee90bf\">\n",
              "    <div class=\"colab-df-container\">\n",
              "      <div>\n",
              "<style scoped>\n",
              "    .dataframe tbody tr th:only-of-type {\n",
              "        vertical-align: middle;\n",
              "    }\n",
              "\n",
              "    .dataframe tbody tr th {\n",
              "        vertical-align: top;\n",
              "    }\n",
              "\n",
              "    .dataframe thead th {\n",
              "        text-align: right;\n",
              "    }\n",
              "</style>\n",
              "<table border=\"1\" class=\"dataframe\">\n",
              "  <thead>\n",
              "    <tr style=\"text-align: right;\">\n",
              "      <th></th>\n",
              "      <th>Air India</th>\n",
              "      <th>GoAir</th>\n",
              "      <th>IndiGo</th>\n",
              "      <th>Jet Airways</th>\n",
              "      <th>Jet Airways Business</th>\n",
              "      <th>Multiple carriers</th>\n",
              "      <th>Multiple carriers Premium economy</th>\n",
              "      <th>SpiceJet</th>\n",
              "      <th>Trujet</th>\n",
              "      <th>Vistara</th>\n",
              "      <th>...</th>\n",
              "      <th>Additional_Info</th>\n",
              "      <th>Price</th>\n",
              "      <th>Day_of_Journey</th>\n",
              "      <th>Month_of_Journey</th>\n",
              "      <th>Dep_hr</th>\n",
              "      <th>Dep_min</th>\n",
              "      <th>Arrival_hr</th>\n",
              "      <th>Arrival_min</th>\n",
              "      <th>duration_hr</th>\n",
              "      <th>duration_min</th>\n",
              "    </tr>\n",
              "  </thead>\n",
              "  <tbody>\n",
              "    <tr>\n",
              "      <th>0</th>\n",
              "      <td>0</td>\n",
              "      <td>0</td>\n",
              "      <td>1</td>\n",
              "      <td>0</td>\n",
              "      <td>0</td>\n",
              "      <td>0</td>\n",
              "      <td>0</td>\n",
              "      <td>0</td>\n",
              "      <td>0</td>\n",
              "      <td>0</td>\n",
              "      <td>...</td>\n",
              "      <td>No info</td>\n",
              "      <td>3897</td>\n",
              "      <td>24</td>\n",
              "      <td>3</td>\n",
              "      <td>22</td>\n",
              "      <td>20</td>\n",
              "      <td>1</td>\n",
              "      <td>10</td>\n",
              "      <td>2</td>\n",
              "      <td>50</td>\n",
              "    </tr>\n",
              "    <tr>\n",
              "      <th>1</th>\n",
              "      <td>1</td>\n",
              "      <td>0</td>\n",
              "      <td>0</td>\n",
              "      <td>0</td>\n",
              "      <td>0</td>\n",
              "      <td>0</td>\n",
              "      <td>0</td>\n",
              "      <td>0</td>\n",
              "      <td>0</td>\n",
              "      <td>0</td>\n",
              "      <td>...</td>\n",
              "      <td>No info</td>\n",
              "      <td>7662</td>\n",
              "      <td>5</td>\n",
              "      <td>1</td>\n",
              "      <td>5</td>\n",
              "      <td>50</td>\n",
              "      <td>13</td>\n",
              "      <td>15</td>\n",
              "      <td>7</td>\n",
              "      <td>25</td>\n",
              "    </tr>\n",
              "    <tr>\n",
              "      <th>2</th>\n",
              "      <td>0</td>\n",
              "      <td>0</td>\n",
              "      <td>0</td>\n",
              "      <td>1</td>\n",
              "      <td>0</td>\n",
              "      <td>0</td>\n",
              "      <td>0</td>\n",
              "      <td>0</td>\n",
              "      <td>0</td>\n",
              "      <td>0</td>\n",
              "      <td>...</td>\n",
              "      <td>No info</td>\n",
              "      <td>13882</td>\n",
              "      <td>6</td>\n",
              "      <td>9</td>\n",
              "      <td>9</td>\n",
              "      <td>25</td>\n",
              "      <td>4</td>\n",
              "      <td>25</td>\n",
              "      <td>19</td>\n",
              "      <td>00</td>\n",
              "    </tr>\n",
              "    <tr>\n",
              "      <th>3</th>\n",
              "      <td>0</td>\n",
              "      <td>0</td>\n",
              "      <td>1</td>\n",
              "      <td>0</td>\n",
              "      <td>0</td>\n",
              "      <td>0</td>\n",
              "      <td>0</td>\n",
              "      <td>0</td>\n",
              "      <td>0</td>\n",
              "      <td>0</td>\n",
              "      <td>...</td>\n",
              "      <td>No info</td>\n",
              "      <td>6218</td>\n",
              "      <td>5</td>\n",
              "      <td>12</td>\n",
              "      <td>18</td>\n",
              "      <td>5</td>\n",
              "      <td>23</td>\n",
              "      <td>30</td>\n",
              "      <td>5</td>\n",
              "      <td>25</td>\n",
              "    </tr>\n",
              "    <tr>\n",
              "      <th>4</th>\n",
              "      <td>0</td>\n",
              "      <td>0</td>\n",
              "      <td>1</td>\n",
              "      <td>0</td>\n",
              "      <td>0</td>\n",
              "      <td>0</td>\n",
              "      <td>0</td>\n",
              "      <td>0</td>\n",
              "      <td>0</td>\n",
              "      <td>0</td>\n",
              "      <td>...</td>\n",
              "      <td>No info</td>\n",
              "      <td>13302</td>\n",
              "      <td>3</td>\n",
              "      <td>1</td>\n",
              "      <td>16</td>\n",
              "      <td>50</td>\n",
              "      <td>21</td>\n",
              "      <td>35</td>\n",
              "      <td>4</td>\n",
              "      <td>45</td>\n",
              "    </tr>\n",
              "  </tbody>\n",
              "</table>\n",
              "<p>5 rows × 31 columns</p>\n",
              "</div>\n",
              "      <button class=\"colab-df-convert\" onclick=\"convertToInteractive('df-242da6a3-56df-4fb3-aa66-ee195dee90bf')\"\n",
              "              title=\"Convert this dataframe to an interactive table.\"\n",
              "              style=\"display:none;\">\n",
              "        \n",
              "  <svg xmlns=\"http://www.w3.org/2000/svg\" height=\"24px\"viewBox=\"0 0 24 24\"\n",
              "       width=\"24px\">\n",
              "    <path d=\"M0 0h24v24H0V0z\" fill=\"none\"/>\n",
              "    <path d=\"M18.56 5.44l.94 2.06.94-2.06 2.06-.94-2.06-.94-.94-2.06-.94 2.06-2.06.94zm-11 1L8.5 8.5l.94-2.06 2.06-.94-2.06-.94L8.5 2.5l-.94 2.06-2.06.94zm10 10l.94 2.06.94-2.06 2.06-.94-2.06-.94-.94-2.06-.94 2.06-2.06.94z\"/><path d=\"M17.41 7.96l-1.37-1.37c-.4-.4-.92-.59-1.43-.59-.52 0-1.04.2-1.43.59L10.3 9.45l-7.72 7.72c-.78.78-.78 2.05 0 2.83L4 21.41c.39.39.9.59 1.41.59.51 0 1.02-.2 1.41-.59l7.78-7.78 2.81-2.81c.8-.78.8-2.07 0-2.86zM5.41 20L4 18.59l7.72-7.72 1.47 1.35L5.41 20z\"/>\n",
              "  </svg>\n",
              "      </button>\n",
              "      \n",
              "  <style>\n",
              "    .colab-df-container {\n",
              "      display:flex;\n",
              "      flex-wrap:wrap;\n",
              "      gap: 12px;\n",
              "    }\n",
              "\n",
              "    .colab-df-convert {\n",
              "      background-color: #E8F0FE;\n",
              "      border: none;\n",
              "      border-radius: 50%;\n",
              "      cursor: pointer;\n",
              "      display: none;\n",
              "      fill: #1967D2;\n",
              "      height: 32px;\n",
              "      padding: 0 0 0 0;\n",
              "      width: 32px;\n",
              "    }\n",
              "\n",
              "    .colab-df-convert:hover {\n",
              "      background-color: #E2EBFA;\n",
              "      box-shadow: 0px 1px 2px rgba(60, 64, 67, 0.3), 0px 1px 3px 1px rgba(60, 64, 67, 0.15);\n",
              "      fill: #174EA6;\n",
              "    }\n",
              "\n",
              "    [theme=dark] .colab-df-convert {\n",
              "      background-color: #3B4455;\n",
              "      fill: #D2E3FC;\n",
              "    }\n",
              "\n",
              "    [theme=dark] .colab-df-convert:hover {\n",
              "      background-color: #434B5C;\n",
              "      box-shadow: 0px 1px 3px 1px rgba(0, 0, 0, 0.15);\n",
              "      filter: drop-shadow(0px 1px 2px rgba(0, 0, 0, 0.3));\n",
              "      fill: #FFFFFF;\n",
              "    }\n",
              "  </style>\n",
              "\n",
              "      <script>\n",
              "        const buttonEl =\n",
              "          document.querySelector('#df-242da6a3-56df-4fb3-aa66-ee195dee90bf button.colab-df-convert');\n",
              "        buttonEl.style.display =\n",
              "          google.colab.kernel.accessAllowed ? 'block' : 'none';\n",
              "\n",
              "        async function convertToInteractive(key) {\n",
              "          const element = document.querySelector('#df-242da6a3-56df-4fb3-aa66-ee195dee90bf');\n",
              "          const dataTable =\n",
              "            await google.colab.kernel.invokeFunction('convertToInteractive',\n",
              "                                                     [key], {});\n",
              "          if (!dataTable) return;\n",
              "\n",
              "          const docLinkHtml = 'Like what you see? Visit the ' +\n",
              "            '<a target=\"_blank\" href=https://colab.research.google.com/notebooks/data_table.ipynb>data table notebook</a>'\n",
              "            + ' to learn more about interactive tables.';\n",
              "          element.innerHTML = '';\n",
              "          dataTable['output_type'] = 'display_data';\n",
              "          await google.colab.output.renderOutput(dataTable, element);\n",
              "          const docLink = document.createElement('div');\n",
              "          docLink.innerHTML = docLinkHtml;\n",
              "          element.appendChild(docLink);\n",
              "        }\n",
              "      </script>\n",
              "    </div>\n",
              "  </div>\n",
              "  "
            ]
          },
          "metadata": {},
          "execution_count": 70
        }
      ],
      "source": [
        "df.head()"
      ]
    },
    {
      "cell_type": "code",
      "execution_count": null,
      "metadata": {
        "id": "I8tZ_-QZlq4K"
      },
      "outputs": [],
      "source": [
        "#Using pickle to save our model so that we can use it later\n",
        "\n",
        "import pickle\n",
        "#Saving model to disk\n",
        "pickle.dump(cat, open('model.pkl','wb'))\n",
        "model=pickle.load(open('model.pkl','rb'))"
      ]
    },
    {
      "cell_type": "code",
      "execution_count": null,
      "metadata": {
        "colab": {
          "base_uri": "https://localhost:8080/"
        },
        "id": "gvl_SQr_lq4K",
        "outputId": "01f5c415-4d2a-405a-bc5e-8908798f2692"
      },
      "outputs": [
        {
          "output_type": "execute_result",
          "data": {
            "text/plain": [
              "Index(['Air India', 'GoAir', 'IndiGo', 'Jet Airways', 'Jet Airways Business',\n",
              "       'Multiple carriers', 'Multiple carriers Premium economy', 'SpiceJet',\n",
              "       'Trujet', 'Vistara', 'Vistara Premium economy', 'Source_Chennai',\n",
              "       'Source_Delhi', 'Source_Kolkata', 'Source_Mumbai', 'Destination_Cochin',\n",
              "       'Destination_Delhi', 'Destination_Hyderabad', 'Destination_Kolkata',\n",
              "       'Route', 'Total_Stops', 'Additional_Info', 'Price', 'Day_of_Journey',\n",
              "       'Month_of_Journey', 'Dep_hr', 'Dep_min', 'Arrival_hr', 'Arrival_min',\n",
              "       'duration_hr', 'duration_min'],\n",
              "      dtype='object')"
            ]
          },
          "metadata": {},
          "execution_count": 72
        }
      ],
      "source": [
        "df.columns"
      ]
    },
    {
      "cell_type": "code",
      "execution_count": null,
      "metadata": {
        "id": "6Mhtiw5elq4K"
      },
      "outputs": [],
      "source": [
        "deploy_df=df.drop(['Route','Additional_Info'],axis=1)"
      ]
    },
    {
      "cell_type": "code",
      "execution_count": null,
      "metadata": {
        "id": "NRs-qtcGlq4K"
      },
      "outputs": [],
      "source": [
        "deploy_df.to_csv('deploy_df')"
      ]
    },
    {
      "cell_type": "code",
      "execution_count": null,
      "metadata": {
        "id": "S42fjolhlq4L"
      },
      "outputs": [],
      "source": []
    }
  ],
  "metadata": {
    "kernelspec": {
      "display_name": "Python 3",
      "language": "python",
      "name": "python3"
    },
    "language_info": {
      "codemirror_mode": {
        "name": "ipython",
        "version": 3
      },
      "file_extension": ".py",
      "mimetype": "text/x-python",
      "name": "python",
      "nbconvert_exporter": "python",
      "pygments_lexer": "ipython3",
      "version": "3.7.6"
    },
    "colab": {
      "provenance": []
    }
  },
  "nbformat": 4,
  "nbformat_minor": 0
}